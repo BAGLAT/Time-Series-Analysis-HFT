{
 "cells": [
  {
   "cell_type": "markdown",
   "metadata": {},
   "source": [
    "## Importing the Packages"
   ]
  },
  {
   "cell_type": "code",
   "execution_count": 1,
   "metadata": {},
   "outputs": [],
   "source": [
    "import numpy as np\n",
    "import pandas as pd\n",
    "import scipy\n",
    "import statsmodels.api as sm\n",
    "import matplotlib.pyplot as plt\n",
    "import seaborn as sns\n",
    "import sklearn\n",
    "import statsmodels.graphics.tsaplots as sgt\n",
    "import statsmodels.tsa.stattools as sts\n",
    "from statsmodels.tsa.arima_model import ARIMA\n",
    "from statsmodels.tsa.statespace.sarimax import SARIMAX\n",
    "from pmdarima.arima import auto_arima\n",
    "from pmdarima.arima import OCSBTest \n",
    "from statsmodels.tsa.arima_model import ARIMA\n",
    "from arch import arch_model\n",
    "import seaborn as sns\n",
    "import yfinance\n",
    "import warnings\n",
    "warnings.filterwarnings(\"ignore\")\n",
    "sns.set()"
   ]
  },
  {
   "cell_type": "markdown",
   "metadata": {},
   "source": [
    "## Importing the Data"
   ]
  },
  {
   "cell_type": "code",
   "execution_count": 2,
   "metadata": {},
   "outputs": [
    {
     "name": "stdout",
     "output_type": "stream",
     "text": [
      "[*********************100%***********************]  3 of 3 completed\n"
     ]
    }
   ],
   "source": [
    "df = yfinance.download(tickers='VOW3.DE,PAH3.DE,BMW.DE',interval='1d',group_by='ticker',auto_adjust=True,treads=True)"
   ]
  },
  {
   "cell_type": "code",
   "execution_count": 3,
   "metadata": {},
   "outputs": [],
   "source": [
    "df1 = df.copy()"
   ]
  },
  {
   "cell_type": "code",
   "execution_count": 4,
   "metadata": {},
   "outputs": [
    {
     "data": {
      "text/html": [
       "<div>\n",
       "<style scoped>\n",
       "    .dataframe tbody tr th:only-of-type {\n",
       "        vertical-align: middle;\n",
       "    }\n",
       "\n",
       "    .dataframe tbody tr th {\n",
       "        vertical-align: top;\n",
       "    }\n",
       "\n",
       "    .dataframe thead tr th {\n",
       "        text-align: left;\n",
       "    }\n",
       "\n",
       "    .dataframe thead tr:last-of-type th {\n",
       "        text-align: right;\n",
       "    }\n",
       "</style>\n",
       "<table border=\"1\" class=\"dataframe\">\n",
       "  <thead>\n",
       "    <tr>\n",
       "      <th></th>\n",
       "      <th colspan=\"5\" halign=\"left\">PAH3.DE</th>\n",
       "      <th colspan=\"5\" halign=\"left\">VOW3.DE</th>\n",
       "      <th colspan=\"5\" halign=\"left\">BMW.DE</th>\n",
       "    </tr>\n",
       "    <tr>\n",
       "      <th></th>\n",
       "      <th>Open</th>\n",
       "      <th>High</th>\n",
       "      <th>Low</th>\n",
       "      <th>Close</th>\n",
       "      <th>Volume</th>\n",
       "      <th>Open</th>\n",
       "      <th>High</th>\n",
       "      <th>Low</th>\n",
       "      <th>Close</th>\n",
       "      <th>Volume</th>\n",
       "      <th>Open</th>\n",
       "      <th>High</th>\n",
       "      <th>Low</th>\n",
       "      <th>Close</th>\n",
       "      <th>Volume</th>\n",
       "    </tr>\n",
       "    <tr>\n",
       "      <th>Date</th>\n",
       "      <th></th>\n",
       "      <th></th>\n",
       "      <th></th>\n",
       "      <th></th>\n",
       "      <th></th>\n",
       "      <th></th>\n",
       "      <th></th>\n",
       "      <th></th>\n",
       "      <th></th>\n",
       "      <th></th>\n",
       "      <th></th>\n",
       "      <th></th>\n",
       "      <th></th>\n",
       "      <th></th>\n",
       "      <th></th>\n",
       "    </tr>\n",
       "  </thead>\n",
       "  <tbody>\n",
       "    <tr>\n",
       "      <th>1996-11-08</th>\n",
       "      <td>NaN</td>\n",
       "      <td>NaN</td>\n",
       "      <td>NaN</td>\n",
       "      <td>NaN</td>\n",
       "      <td>NaN</td>\n",
       "      <td>NaN</td>\n",
       "      <td>NaN</td>\n",
       "      <td>NaN</td>\n",
       "      <td>NaN</td>\n",
       "      <td>NaN</td>\n",
       "      <td>7.883176</td>\n",
       "      <td>7.883176</td>\n",
       "      <td>7.866293</td>\n",
       "      <td>7.866293</td>\n",
       "      <td>767000</td>\n",
       "    </tr>\n",
       "    <tr>\n",
       "      <th>1996-11-11</th>\n",
       "      <td>NaN</td>\n",
       "      <td>NaN</td>\n",
       "      <td>NaN</td>\n",
       "      <td>NaN</td>\n",
       "      <td>NaN</td>\n",
       "      <td>NaN</td>\n",
       "      <td>NaN</td>\n",
       "      <td>NaN</td>\n",
       "      <td>NaN</td>\n",
       "      <td>NaN</td>\n",
       "      <td>7.874518</td>\n",
       "      <td>7.878847</td>\n",
       "      <td>7.827765</td>\n",
       "      <td>7.845080</td>\n",
       "      <td>260000</td>\n",
       "    </tr>\n",
       "    <tr>\n",
       "      <th>1996-11-12</th>\n",
       "      <td>NaN</td>\n",
       "      <td>NaN</td>\n",
       "      <td>NaN</td>\n",
       "      <td>NaN</td>\n",
       "      <td>NaN</td>\n",
       "      <td>NaN</td>\n",
       "      <td>NaN</td>\n",
       "      <td>NaN</td>\n",
       "      <td>NaN</td>\n",
       "      <td>NaN</td>\n",
       "      <td>7.861965</td>\n",
       "      <td>7.934259</td>\n",
       "      <td>7.832094</td>\n",
       "      <td>7.904390</td>\n",
       "      <td>1066000</td>\n",
       "    </tr>\n",
       "    <tr>\n",
       "      <th>1996-11-13</th>\n",
       "      <td>NaN</td>\n",
       "      <td>NaN</td>\n",
       "      <td>NaN</td>\n",
       "      <td>NaN</td>\n",
       "      <td>NaN</td>\n",
       "      <td>NaN</td>\n",
       "      <td>NaN</td>\n",
       "      <td>NaN</td>\n",
       "      <td>NaN</td>\n",
       "      <td>NaN</td>\n",
       "      <td>7.941185</td>\n",
       "      <td>7.941185</td>\n",
       "      <td>7.874519</td>\n",
       "      <td>7.891834</td>\n",
       "      <td>793000</td>\n",
       "    </tr>\n",
       "    <tr>\n",
       "      <th>1996-11-14</th>\n",
       "      <td>NaN</td>\n",
       "      <td>NaN</td>\n",
       "      <td>NaN</td>\n",
       "      <td>NaN</td>\n",
       "      <td>NaN</td>\n",
       "      <td>NaN</td>\n",
       "      <td>NaN</td>\n",
       "      <td>NaN</td>\n",
       "      <td>NaN</td>\n",
       "      <td>NaN</td>\n",
       "      <td>7.881012</td>\n",
       "      <td>7.917376</td>\n",
       "      <td>7.849410</td>\n",
       "      <td>7.917376</td>\n",
       "      <td>351000</td>\n",
       "    </tr>\n",
       "  </tbody>\n",
       "</table>\n",
       "</div>"
      ],
      "text/plain": [
       "           PAH3.DE                       VOW3.DE                        \\\n",
       "              Open High Low Close Volume    Open High Low Close Volume   \n",
       "Date                                                                     \n",
       "1996-11-08     NaN  NaN NaN   NaN    NaN     NaN  NaN NaN   NaN    NaN   \n",
       "1996-11-11     NaN  NaN NaN   NaN    NaN     NaN  NaN NaN   NaN    NaN   \n",
       "1996-11-12     NaN  NaN NaN   NaN    NaN     NaN  NaN NaN   NaN    NaN   \n",
       "1996-11-13     NaN  NaN NaN   NaN    NaN     NaN  NaN NaN   NaN    NaN   \n",
       "1996-11-14     NaN  NaN NaN   NaN    NaN     NaN  NaN NaN   NaN    NaN   \n",
       "\n",
       "              BMW.DE                                         \n",
       "                Open      High       Low     Close   Volume  \n",
       "Date                                                         \n",
       "1996-11-08  7.883176  7.883176  7.866293  7.866293   767000  \n",
       "1996-11-11  7.874518  7.878847  7.827765  7.845080   260000  \n",
       "1996-11-12  7.861965  7.934259  7.832094  7.904390  1066000  \n",
       "1996-11-13  7.941185  7.941185  7.874519  7.891834   793000  \n",
       "1996-11-14  7.881012  7.917376  7.849410  7.917376   351000  "
      ]
     },
     "execution_count": 4,
     "metadata": {},
     "output_type": "execute_result"
    }
   ],
   "source": [
    "df1.head()"
   ]
  },
  {
   "cell_type": "code",
   "execution_count": 6,
   "metadata": {},
   "outputs": [
    {
     "data": {
      "text/html": [
       "<div>\n",
       "<style scoped>\n",
       "    .dataframe tbody tr th:only-of-type {\n",
       "        vertical-align: middle;\n",
       "    }\n",
       "\n",
       "    .dataframe tbody tr th {\n",
       "        vertical-align: top;\n",
       "    }\n",
       "\n",
       "    .dataframe thead tr th {\n",
       "        text-align: left;\n",
       "    }\n",
       "\n",
       "    .dataframe thead tr:last-of-type th {\n",
       "        text-align: right;\n",
       "    }\n",
       "</style>\n",
       "<table border=\"1\" class=\"dataframe\">\n",
       "  <thead>\n",
       "    <tr>\n",
       "      <th></th>\n",
       "      <th colspan=\"5\" halign=\"left\">PAH3.DE</th>\n",
       "      <th colspan=\"5\" halign=\"left\">VOW3.DE</th>\n",
       "      <th colspan=\"5\" halign=\"left\">BMW.DE</th>\n",
       "    </tr>\n",
       "    <tr>\n",
       "      <th></th>\n",
       "      <th>Open</th>\n",
       "      <th>High</th>\n",
       "      <th>Low</th>\n",
       "      <th>Close</th>\n",
       "      <th>Volume</th>\n",
       "      <th>Open</th>\n",
       "      <th>High</th>\n",
       "      <th>Low</th>\n",
       "      <th>Close</th>\n",
       "      <th>Volume</th>\n",
       "      <th>Open</th>\n",
       "      <th>High</th>\n",
       "      <th>Low</th>\n",
       "      <th>Close</th>\n",
       "      <th>Volume</th>\n",
       "    </tr>\n",
       "    <tr>\n",
       "      <th>Date</th>\n",
       "      <th></th>\n",
       "      <th></th>\n",
       "      <th></th>\n",
       "      <th></th>\n",
       "      <th></th>\n",
       "      <th></th>\n",
       "      <th></th>\n",
       "      <th></th>\n",
       "      <th></th>\n",
       "      <th></th>\n",
       "      <th></th>\n",
       "      <th></th>\n",
       "      <th></th>\n",
       "      <th></th>\n",
       "      <th></th>\n",
       "    </tr>\n",
       "  </thead>\n",
       "  <tbody>\n",
       "    <tr>\n",
       "      <th>2020-05-25</th>\n",
       "      <td>47.189999</td>\n",
       "      <td>47.400002</td>\n",
       "      <td>46.200001</td>\n",
       "      <td>47.400002</td>\n",
       "      <td>245297.0</td>\n",
       "      <td>134.500000</td>\n",
       "      <td>134.500000</td>\n",
       "      <td>131.160004</td>\n",
       "      <td>133.960007</td>\n",
       "      <td>1071253.0</td>\n",
       "      <td>50.759998</td>\n",
       "      <td>50.790001</td>\n",
       "      <td>49.080002</td>\n",
       "      <td>50.290001</td>\n",
       "      <td>1796645</td>\n",
       "    </tr>\n",
       "    <tr>\n",
       "      <th>2020-05-26</th>\n",
       "      <td>47.959999</td>\n",
       "      <td>49.520000</td>\n",
       "      <td>47.669998</td>\n",
       "      <td>49.240002</td>\n",
       "      <td>747063.0</td>\n",
       "      <td>135.000000</td>\n",
       "      <td>137.800003</td>\n",
       "      <td>134.000000</td>\n",
       "      <td>136.839996</td>\n",
       "      <td>1489657.0</td>\n",
       "      <td>50.740002</td>\n",
       "      <td>51.869999</td>\n",
       "      <td>50.099998</td>\n",
       "      <td>51.869999</td>\n",
       "      <td>2720565</td>\n",
       "    </tr>\n",
       "    <tr>\n",
       "      <th>2020-05-27</th>\n",
       "      <td>49.380001</td>\n",
       "      <td>52.299999</td>\n",
       "      <td>49.299999</td>\n",
       "      <td>50.799999</td>\n",
       "      <td>993371.0</td>\n",
       "      <td>137.240005</td>\n",
       "      <td>146.699997</td>\n",
       "      <td>136.979996</td>\n",
       "      <td>140.119995</td>\n",
       "      <td>2983830.0</td>\n",
       "      <td>52.000000</td>\n",
       "      <td>55.810001</td>\n",
       "      <td>51.779999</td>\n",
       "      <td>54.389999</td>\n",
       "      <td>4266200</td>\n",
       "    </tr>\n",
       "    <tr>\n",
       "      <th>2020-05-28</th>\n",
       "      <td>51.720001</td>\n",
       "      <td>52.139999</td>\n",
       "      <td>49.020000</td>\n",
       "      <td>50.779999</td>\n",
       "      <td>714475.0</td>\n",
       "      <td>142.600006</td>\n",
       "      <td>142.779999</td>\n",
       "      <td>133.940002</td>\n",
       "      <td>137.220001</td>\n",
       "      <td>2347733.0</td>\n",
       "      <td>55.250000</td>\n",
       "      <td>55.369999</td>\n",
       "      <td>53.220001</td>\n",
       "      <td>54.000000</td>\n",
       "      <td>2340231</td>\n",
       "    </tr>\n",
       "    <tr>\n",
       "      <th>2020-05-29</th>\n",
       "      <td>49.220001</td>\n",
       "      <td>50.160000</td>\n",
       "      <td>48.509998</td>\n",
       "      <td>49.490002</td>\n",
       "      <td>117764.0</td>\n",
       "      <td>134.460007</td>\n",
       "      <td>134.619995</td>\n",
       "      <td>131.380005</td>\n",
       "      <td>133.100006</td>\n",
       "      <td>334698.0</td>\n",
       "      <td>52.740002</td>\n",
       "      <td>53.500000</td>\n",
       "      <td>52.279999</td>\n",
       "      <td>52.660000</td>\n",
       "      <td>431838</td>\n",
       "    </tr>\n",
       "  </tbody>\n",
       "</table>\n",
       "</div>"
      ],
      "text/plain": [
       "              PAH3.DE                                                VOW3.DE  \\\n",
       "                 Open       High        Low      Close    Volume        Open   \n",
       "Date                                                                           \n",
       "2020-05-25  47.189999  47.400002  46.200001  47.400002  245297.0  134.500000   \n",
       "2020-05-26  47.959999  49.520000  47.669998  49.240002  747063.0  135.000000   \n",
       "2020-05-27  49.380001  52.299999  49.299999  50.799999  993371.0  137.240005   \n",
       "2020-05-28  51.720001  52.139999  49.020000  50.779999  714475.0  142.600006   \n",
       "2020-05-29  49.220001  50.160000  48.509998  49.490002  117764.0  134.460007   \n",
       "\n",
       "                                                              BMW.DE  \\\n",
       "                  High         Low       Close     Volume       Open   \n",
       "Date                                                                   \n",
       "2020-05-25  134.500000  131.160004  133.960007  1071253.0  50.759998   \n",
       "2020-05-26  137.800003  134.000000  136.839996  1489657.0  50.740002   \n",
       "2020-05-27  146.699997  136.979996  140.119995  2983830.0  52.000000   \n",
       "2020-05-28  142.779999  133.940002  137.220001  2347733.0  55.250000   \n",
       "2020-05-29  134.619995  131.380005  133.100006   334698.0  52.740002   \n",
       "\n",
       "                                                      \n",
       "                 High        Low      Close   Volume  \n",
       "Date                                                  \n",
       "2020-05-25  50.790001  49.080002  50.290001  1796645  \n",
       "2020-05-26  51.869999  50.099998  51.869999  2720565  \n",
       "2020-05-27  55.810001  51.779999  54.389999  4266200  \n",
       "2020-05-28  55.369999  53.220001  54.000000  2340231  \n",
       "2020-05-29  53.500000  52.279999  52.660000   431838  "
      ]
     },
     "execution_count": 6,
     "metadata": {},
     "output_type": "execute_result"
    }
   ],
   "source": [
    "df1.tail()"
   ]
  },
  {
   "cell_type": "code",
   "execution_count": 7,
   "metadata": {},
   "outputs": [
    {
     "data": {
      "text/plain": [
       "PAH3.DE  Open      3126\n",
       "         High      3126\n",
       "         Low       3126\n",
       "         Close     3126\n",
       "         Volume    3126\n",
       "VOW3.DE  Open       458\n",
       "         High       458\n",
       "         Low        458\n",
       "         Close      458\n",
       "         Volume     458\n",
       "BMW.DE   Open         0\n",
       "         High         0\n",
       "         Low          0\n",
       "         Close        0\n",
       "         Volume       0\n",
       "dtype: int64"
      ]
     },
     "execution_count": 7,
     "metadata": {},
     "output_type": "execute_result"
    }
   ],
   "source": [
    "df1.isna().sum()"
   ]
  },
  {
   "cell_type": "code",
   "execution_count": 5,
   "metadata": {},
   "outputs": [
    {
     "data": {
      "text/html": [
       "<div>\n",
       "<style scoped>\n",
       "    .dataframe tbody tr th:only-of-type {\n",
       "        vertical-align: middle;\n",
       "    }\n",
       "\n",
       "    .dataframe tbody tr th {\n",
       "        vertical-align: top;\n",
       "    }\n",
       "\n",
       "    .dataframe thead tr th {\n",
       "        text-align: left;\n",
       "    }\n",
       "</style>\n",
       "<table border=\"1\" class=\"dataframe\">\n",
       "  <thead>\n",
       "    <tr>\n",
       "      <th></th>\n",
       "      <th colspan=\"5\" halign=\"left\">PAH3.DE</th>\n",
       "      <th colspan=\"5\" halign=\"left\">VOW3.DE</th>\n",
       "      <th colspan=\"5\" halign=\"left\">BMW.DE</th>\n",
       "    </tr>\n",
       "    <tr>\n",
       "      <th></th>\n",
       "      <th>Open</th>\n",
       "      <th>High</th>\n",
       "      <th>Low</th>\n",
       "      <th>Close</th>\n",
       "      <th>Volume</th>\n",
       "      <th>Open</th>\n",
       "      <th>High</th>\n",
       "      <th>Low</th>\n",
       "      <th>Close</th>\n",
       "      <th>Volume</th>\n",
       "      <th>Open</th>\n",
       "      <th>High</th>\n",
       "      <th>Low</th>\n",
       "      <th>Close</th>\n",
       "      <th>Volume</th>\n",
       "    </tr>\n",
       "  </thead>\n",
       "  <tbody>\n",
       "    <tr>\n",
       "      <th>count</th>\n",
       "      <td>2875.000000</td>\n",
       "      <td>2875.000000</td>\n",
       "      <td>2875.000000</td>\n",
       "      <td>2875.000000</td>\n",
       "      <td>2.875000e+03</td>\n",
       "      <td>5543.000000</td>\n",
       "      <td>5543.000000</td>\n",
       "      <td>5543.000000</td>\n",
       "      <td>5543.000000</td>\n",
       "      <td>5.543000e+03</td>\n",
       "      <td>6001.000000</td>\n",
       "      <td>6001.000000</td>\n",
       "      <td>6001.000000</td>\n",
       "      <td>6001.000000</td>\n",
       "      <td>6.001000e+03</td>\n",
       "    </tr>\n",
       "    <tr>\n",
       "      <th>mean</th>\n",
       "      <td>42.843989</td>\n",
       "      <td>43.414083</td>\n",
       "      <td>42.199775</td>\n",
       "      <td>42.818792</td>\n",
       "      <td>6.194769e+05</td>\n",
       "      <td>77.868752</td>\n",
       "      <td>78.878407</td>\n",
       "      <td>76.721249</td>\n",
       "      <td>77.835895</td>\n",
       "      <td>8.430495e+05</td>\n",
       "      <td>35.486772</td>\n",
       "      <td>35.901838</td>\n",
       "      <td>35.023051</td>\n",
       "      <td>35.469209</td>\n",
       "      <td>2.283369e+06</td>\n",
       "    </tr>\n",
       "    <tr>\n",
       "      <th>std</th>\n",
       "      <td>12.451239</td>\n",
       "      <td>12.452437</td>\n",
       "      <td>12.419621</td>\n",
       "      <td>12.439119</td>\n",
       "      <td>4.579764e+05</td>\n",
       "      <td>57.864499</td>\n",
       "      <td>58.430221</td>\n",
       "      <td>57.212971</td>\n",
       "      <td>57.804104</td>\n",
       "      <td>1.025618e+06</td>\n",
       "      <td>23.098648</td>\n",
       "      <td>23.280338</td>\n",
       "      <td>22.876988</td>\n",
       "      <td>23.084104</td>\n",
       "      <td>1.518630e+06</td>\n",
       "    </tr>\n",
       "    <tr>\n",
       "      <th>min</th>\n",
       "      <td>17.316915</td>\n",
       "      <td>17.637715</td>\n",
       "      <td>16.111004</td>\n",
       "      <td>17.132750</td>\n",
       "      <td>0.000000e+00</td>\n",
       "      <td>12.239773</td>\n",
       "      <td>12.697073</td>\n",
       "      <td>11.912363</td>\n",
       "      <td>11.997676</td>\n",
       "      <td>0.000000e+00</td>\n",
       "      <td>7.861965</td>\n",
       "      <td>7.878847</td>\n",
       "      <td>7.704819</td>\n",
       "      <td>7.832092</td>\n",
       "      <td>0.000000e+00</td>\n",
       "    </tr>\n",
       "    <tr>\n",
       "      <th>25%</th>\n",
       "      <td>31.758690</td>\n",
       "      <td>32.434797</td>\n",
       "      <td>31.110412</td>\n",
       "      <td>31.847635</td>\n",
       "      <td>3.642390e+05</td>\n",
       "      <td>19.652698</td>\n",
       "      <td>19.960238</td>\n",
       "      <td>19.253579</td>\n",
       "      <td>19.665441</td>\n",
       "      <td>2.082995e+05</td>\n",
       "      <td>16.908336</td>\n",
       "      <td>17.149755</td>\n",
       "      <td>16.632563</td>\n",
       "      <td>16.908337</td>\n",
       "      <td>1.352701e+06</td>\n",
       "    </tr>\n",
       "    <tr>\n",
       "      <th>50%</th>\n",
       "      <td>43.511019</td>\n",
       "      <td>44.025743</td>\n",
       "      <td>42.811839</td>\n",
       "      <td>43.424850</td>\n",
       "      <td>4.941330e+05</td>\n",
       "      <td>64.531634</td>\n",
       "      <td>65.358843</td>\n",
       "      <td>63.520634</td>\n",
       "      <td>64.607224</td>\n",
       "      <td>6.319880e+05</td>\n",
       "      <td>23.602203</td>\n",
       "      <td>23.756265</td>\n",
       "      <td>23.233684</td>\n",
       "      <td>23.534452</td>\n",
       "      <td>1.978459e+06</td>\n",
       "    </tr>\n",
       "    <tr>\n",
       "      <th>75%</th>\n",
       "      <td>52.666274</td>\n",
       "      <td>53.083817</td>\n",
       "      <td>51.958080</td>\n",
       "      <td>52.463947</td>\n",
       "      <td>7.178730e+05</td>\n",
       "      <td>131.943772</td>\n",
       "      <td>133.622979</td>\n",
       "      <td>130.412865</td>\n",
       "      <td>131.835373</td>\n",
       "      <td>1.144462e+06</td>\n",
       "      <td>60.154493</td>\n",
       "      <td>60.655534</td>\n",
       "      <td>59.436845</td>\n",
       "      <td>60.005390</td>\n",
       "      <td>2.805392e+06</td>\n",
       "    </tr>\n",
       "    <tr>\n",
       "      <th>max</th>\n",
       "      <td>70.941258</td>\n",
       "      <td>72.015084</td>\n",
       "      <td>70.689935</td>\n",
       "      <td>71.588600</td>\n",
       "      <td>5.944992e+06</td>\n",
       "      <td>231.188500</td>\n",
       "      <td>233.816665</td>\n",
       "      <td>222.324050</td>\n",
       "      <td>227.357635</td>\n",
       "      <td>1.753497e+07</td>\n",
       "      <td>95.009579</td>\n",
       "      <td>95.356327</td>\n",
       "      <td>92.736440</td>\n",
       "      <td>94.470192</td>\n",
       "      <td>2.871954e+07</td>\n",
       "    </tr>\n",
       "  </tbody>\n",
       "</table>\n",
       "</div>"
      ],
      "text/plain": [
       "           PAH3.DE                                                       \\\n",
       "              Open         High          Low        Close        Volume   \n",
       "count  2875.000000  2875.000000  2875.000000  2875.000000  2.875000e+03   \n",
       "mean     42.843989    43.414083    42.199775    42.818792  6.194769e+05   \n",
       "std      12.451239    12.452437    12.419621    12.439119  4.579764e+05   \n",
       "min      17.316915    17.637715    16.111004    17.132750  0.000000e+00   \n",
       "25%      31.758690    32.434797    31.110412    31.847635  3.642390e+05   \n",
       "50%      43.511019    44.025743    42.811839    43.424850  4.941330e+05   \n",
       "75%      52.666274    53.083817    51.958080    52.463947  7.178730e+05   \n",
       "max      70.941258    72.015084    70.689935    71.588600  5.944992e+06   \n",
       "\n",
       "           VOW3.DE                                                       \\\n",
       "              Open         High          Low        Close        Volume   \n",
       "count  5543.000000  5543.000000  5543.000000  5543.000000  5.543000e+03   \n",
       "mean     77.868752    78.878407    76.721249    77.835895  8.430495e+05   \n",
       "std      57.864499    58.430221    57.212971    57.804104  1.025618e+06   \n",
       "min      12.239773    12.697073    11.912363    11.997676  0.000000e+00   \n",
       "25%      19.652698    19.960238    19.253579    19.665441  2.082995e+05   \n",
       "50%      64.531634    65.358843    63.520634    64.607224  6.319880e+05   \n",
       "75%     131.943772   133.622979   130.412865   131.835373  1.144462e+06   \n",
       "max     231.188500   233.816665   222.324050   227.357635  1.753497e+07   \n",
       "\n",
       "            BMW.DE                                                       \n",
       "              Open         High          Low        Close        Volume  \n",
       "count  6001.000000  6001.000000  6001.000000  6001.000000  6.001000e+03  \n",
       "mean     35.486772    35.901838    35.023051    35.469209  2.283369e+06  \n",
       "std      23.098648    23.280338    22.876988    23.084104  1.518630e+06  \n",
       "min       7.861965     7.878847     7.704819     7.832092  0.000000e+00  \n",
       "25%      16.908336    17.149755    16.632563    16.908337  1.352701e+06  \n",
       "50%      23.602203    23.756265    23.233684    23.534452  1.978459e+06  \n",
       "75%      60.154493    60.655534    59.436845    60.005390  2.805392e+06  \n",
       "max      95.009579    95.356327    92.736440    94.470192  2.871954e+07  "
      ]
     },
     "execution_count": 5,
     "metadata": {},
     "output_type": "execute_result"
    }
   ],
   "source": [
    "df1.describe()"
   ]
  },
  {
   "cell_type": "markdown",
   "metadata": {},
   "source": [
    "## Defining Key Dates"
   ]
  },
  {
   "cell_type": "code",
   "execution_count": 8,
   "metadata": {},
   "outputs": [],
   "source": [
    "# Starting Date\n",
    "start_date = '2009-04-05'\n",
    "\n",
    "# First Official Announcement - 49.9% - volkswagen bought 49.9% in porche\n",
    "ann_1 = '2009-12-09'\n",
    "# Second Official Announcement - 51.1% - announced remaining percent buyout\n",
    "ann_2 = '2012-07-05'\n",
    "#Ending Date\n",
    "end_date = '2014-01-01'## Any value\n",
    "# Dieselgate\n",
    "d_gate='2015-09-20' ##date of scam"
   ]
  },
  {
   "cell_type": "markdown",
   "metadata": {},
   "source": [
    "## Pre-processing the Data"
   ]
  },
  {
   "cell_type": "code",
   "execution_count": 3,
   "metadata": {},
   "outputs": [],
   "source": [
    "# Extracting Closing Prices\n",
    "\n",
    "# Creating Returns\n",
    "\n",
    "\n",
    "# Creating Squared Returns\n",
    "\n",
    "# Extracting Volume\n"
   ]
  },
  {
   "cell_type": "code",
   "execution_count": 4,
   "metadata": {},
   "outputs": [],
   "source": [
    "# Assigning the Frequency and Filling NA Values\n"
   ]
  },
  {
   "cell_type": "code",
   "execution_count": 5,
   "metadata": {},
   "outputs": [],
   "source": [
    "# Removing Surplus Data\n"
   ]
  },
  {
   "cell_type": "markdown",
   "metadata": {},
   "source": [
    "## Plotting the Prices"
   ]
  },
  {
   "cell_type": "code",
   "execution_count": null,
   "metadata": {},
   "outputs": [],
   "source": []
  },
  {
   "cell_type": "code",
   "execution_count": 6,
   "metadata": {},
   "outputs": [],
   "source": [
    "#color = \"#33B8FF\"\n",
    "#color = \"#49FF3A\"\n",
    "#color = \"#FEB628\"\n",
    "\n",
    "#color = \"#1E7EB2\"\n",
    "#color = \"#2FAB25\"\n",
    "#color = \"#BA861F\"\n",
    "\n",
    "#color = \"#0E3A52\"\n",
    "#color = \"#225414\"\n",
    "#color = \"#7C5913\"\n"
   ]
  },
  {
   "cell_type": "markdown",
   "metadata": {},
   "source": [
    "## Correlation"
   ]
  },
  {
   "cell_type": "code",
   "execution_count": null,
   "metadata": {
    "scrolled": true
   },
   "outputs": [],
   "source": []
  },
  {
   "cell_type": "code",
   "execution_count": null,
   "metadata": {},
   "outputs": [],
   "source": []
  },
  {
   "cell_type": "code",
   "execution_count": null,
   "metadata": {},
   "outputs": [],
   "source": []
  },
  {
   "cell_type": "code",
   "execution_count": null,
   "metadata": {},
   "outputs": [],
   "source": []
  },
  {
   "cell_type": "code",
   "execution_count": null,
   "metadata": {},
   "outputs": [],
   "source": []
  },
  {
   "cell_type": "markdown",
   "metadata": {},
   "source": [
    "## Best Fitting Models"
   ]
  },
  {
   "cell_type": "markdown",
   "metadata": {},
   "source": [
    "### For Volkswagen"
   ]
  },
  {
   "cell_type": "code",
   "execution_count": null,
   "metadata": {},
   "outputs": [],
   "source": []
  },
  {
   "cell_type": "code",
   "execution_count": null,
   "metadata": {},
   "outputs": [],
   "source": []
  },
  {
   "cell_type": "code",
   "execution_count": null,
   "metadata": {},
   "outputs": [],
   "source": []
  },
  {
   "cell_type": "code",
   "execution_count": null,
   "metadata": {
    "scrolled": false
   },
   "outputs": [],
   "source": []
  },
  {
   "cell_type": "markdown",
   "metadata": {},
   "source": [
    "### For Porsche"
   ]
  },
  {
   "cell_type": "code",
   "execution_count": null,
   "metadata": {},
   "outputs": [],
   "source": []
  },
  {
   "cell_type": "code",
   "execution_count": null,
   "metadata": {},
   "outputs": [],
   "source": []
  },
  {
   "cell_type": "code",
   "execution_count": null,
   "metadata": {},
   "outputs": [],
   "source": []
  },
  {
   "cell_type": "code",
   "execution_count": null,
   "metadata": {},
   "outputs": [],
   "source": []
  },
  {
   "cell_type": "markdown",
   "metadata": {},
   "source": [
    "## Predictions for the Future"
   ]
  },
  {
   "cell_type": "markdown",
   "metadata": {},
   "source": [
    "### For Porsche"
   ]
  },
  {
   "cell_type": "code",
   "execution_count": null,
   "metadata": {
    "scrolled": true
   },
   "outputs": [],
   "source": []
  },
  {
   "cell_type": "code",
   "execution_count": null,
   "metadata": {
    "scrolled": true
   },
   "outputs": [],
   "source": []
  },
  {
   "cell_type": "markdown",
   "metadata": {},
   "source": [
    "### For Volkswagen"
   ]
  },
  {
   "cell_type": "code",
   "execution_count": null,
   "metadata": {},
   "outputs": [],
   "source": []
  },
  {
   "cell_type": "code",
   "execution_count": null,
   "metadata": {},
   "outputs": [],
   "source": []
  },
  {
   "cell_type": "code",
   "execution_count": null,
   "metadata": {
    "scrolled": true
   },
   "outputs": [],
   "source": []
  },
  {
   "cell_type": "markdown",
   "metadata": {},
   "source": [
    "## Volatility"
   ]
  },
  {
   "cell_type": "markdown",
   "metadata": {},
   "source": [
    "### Volatility of VW for Each Period"
   ]
  },
  {
   "cell_type": "code",
   "execution_count": null,
   "metadata": {},
   "outputs": [],
   "source": []
  },
  {
   "cell_type": "markdown",
   "metadata": {},
   "source": [
    "### Volatility Trends for Each Period"
   ]
  },
  {
   "cell_type": "code",
   "execution_count": null,
   "metadata": {},
   "outputs": [],
   "source": []
  },
  {
   "cell_type": "code",
   "execution_count": null,
   "metadata": {},
   "outputs": [],
   "source": []
  },
  {
   "cell_type": "code",
   "execution_count": null,
   "metadata": {},
   "outputs": [],
   "source": []
  },
  {
   "cell_type": "code",
   "execution_count": null,
   "metadata": {},
   "outputs": [],
   "source": []
  }
 ],
 "metadata": {
  "kernelspec": {
   "display_name": "Python 3",
   "language": "python",
   "name": "python3"
  },
  "language_info": {
   "codemirror_mode": {
    "name": "ipython",
    "version": 3
   },
   "file_extension": ".py",
   "mimetype": "text/x-python",
   "name": "python",
   "nbconvert_exporter": "python",
   "pygments_lexer": "ipython3",
   "version": "3.7.1"
  }
 },
 "nbformat": 4,
 "nbformat_minor": 2
}

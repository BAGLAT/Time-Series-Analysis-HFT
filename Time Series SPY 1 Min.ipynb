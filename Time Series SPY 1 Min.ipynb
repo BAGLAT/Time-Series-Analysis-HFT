{
 "cells": [
  {
   "cell_type": "code",
   "execution_count": 1,
   "metadata": {},
   "outputs": [],
   "source": [
    "import pandas as pd\n",
    "import numpy as np\n",
    "import matplotlib.pyplot as plt\n",
    "from matplotlib import style\n",
    "\n",
    "style.use('ggplot')"
   ]
  },
  {
   "cell_type": "code",
   "execution_count": 40,
   "metadata": {},
   "outputs": [],
   "source": [
    "import statsmodels.tsa.stattools as sts\n",
    "from statsmodels.tsa.seasonal import seasonal_decompose\n",
    "import statsmodels.graphics.tsaplots as sgt\n",
    "from statsmodels.tsa.arima_model import ARMA\n",
    "from statsmodels.tsa.arima_model import ARIMA"
   ]
  },
  {
   "cell_type": "code",
   "execution_count": 2,
   "metadata": {},
   "outputs": [],
   "source": [
    "df = pd.read_csv(\"SPY1Min.csv\")"
   ]
  },
  {
   "cell_type": "code",
   "execution_count": 3,
   "metadata": {},
   "outputs": [],
   "source": [
    "df1 = df.copy()"
   ]
  },
  {
   "cell_type": "code",
   "execution_count": 4,
   "metadata": {},
   "outputs": [
    {
     "data": {
      "text/html": [
       "<div>\n",
       "<style scoped>\n",
       "    .dataframe tbody tr th:only-of-type {\n",
       "        vertical-align: middle;\n",
       "    }\n",
       "\n",
       "    .dataframe tbody tr th {\n",
       "        vertical-align: top;\n",
       "    }\n",
       "\n",
       "    .dataframe thead th {\n",
       "        text-align: right;\n",
       "    }\n",
       "</style>\n",
       "<table border=\"1\" class=\"dataframe\">\n",
       "  <thead>\n",
       "    <tr style=\"text-align: right;\">\n",
       "      <th></th>\n",
       "      <th>DateTime</th>\n",
       "      <th>marketClose</th>\n",
       "    </tr>\n",
       "  </thead>\n",
       "  <tbody>\n",
       "    <tr>\n",
       "      <th>0</th>\n",
       "      <td>2019-04-02 09:30:00</td>\n",
       "      <td>300.000</td>\n",
       "    </tr>\n",
       "    <tr>\n",
       "      <th>1</th>\n",
       "      <td>2019-04-02 09:31:00</td>\n",
       "      <td>292.970</td>\n",
       "    </tr>\n",
       "    <tr>\n",
       "      <th>2</th>\n",
       "      <td>2019-04-02 09:32:00</td>\n",
       "      <td>295.120</td>\n",
       "    </tr>\n",
       "    <tr>\n",
       "      <th>3</th>\n",
       "      <td>2019-04-02 09:33:00</td>\n",
       "      <td>296.280</td>\n",
       "    </tr>\n",
       "    <tr>\n",
       "      <th>4</th>\n",
       "      <td>2019-04-02 09:34:00</td>\n",
       "      <td>296.570</td>\n",
       "    </tr>\n",
       "    <tr>\n",
       "      <th>5</th>\n",
       "      <td>2019-04-02 09:35:00</td>\n",
       "      <td>297.900</td>\n",
       "    </tr>\n",
       "    <tr>\n",
       "      <th>6</th>\n",
       "      <td>2019-04-02 09:36:00</td>\n",
       "      <td>294.873</td>\n",
       "    </tr>\n",
       "    <tr>\n",
       "      <th>7</th>\n",
       "      <td>2019-04-02 09:37:00</td>\n",
       "      <td>295.160</td>\n",
       "    </tr>\n",
       "    <tr>\n",
       "      <th>8</th>\n",
       "      <td>2019-04-02 09:38:00</td>\n",
       "      <td>294.560</td>\n",
       "    </tr>\n",
       "    <tr>\n",
       "      <th>9</th>\n",
       "      <td>2019-04-02 09:39:00</td>\n",
       "      <td>297.519</td>\n",
       "    </tr>\n",
       "  </tbody>\n",
       "</table>\n",
       "</div>"
      ],
      "text/plain": [
       "              DateTime  marketClose\n",
       "0  2019-04-02 09:30:00      300.000\n",
       "1  2019-04-02 09:31:00      292.970\n",
       "2  2019-04-02 09:32:00      295.120\n",
       "3  2019-04-02 09:33:00      296.280\n",
       "4  2019-04-02 09:34:00      296.570\n",
       "5  2019-04-02 09:35:00      297.900\n",
       "6  2019-04-02 09:36:00      294.873\n",
       "7  2019-04-02 09:37:00      295.160\n",
       "8  2019-04-02 09:38:00      294.560\n",
       "9  2019-04-02 09:39:00      297.519"
      ]
     },
     "execution_count": 4,
     "metadata": {},
     "output_type": "execute_result"
    }
   ],
   "source": [
    "df1.head(10)"
   ]
  },
  {
   "cell_type": "code",
   "execution_count": 5,
   "metadata": {},
   "outputs": [
    {
     "data": {
      "text/html": [
       "<div>\n",
       "<style scoped>\n",
       "    .dataframe tbody tr th:only-of-type {\n",
       "        vertical-align: middle;\n",
       "    }\n",
       "\n",
       "    .dataframe tbody tr th {\n",
       "        vertical-align: top;\n",
       "    }\n",
       "\n",
       "    .dataframe thead th {\n",
       "        text-align: right;\n",
       "    }\n",
       "</style>\n",
       "<table border=\"1\" class=\"dataframe\">\n",
       "  <thead>\n",
       "    <tr style=\"text-align: right;\">\n",
       "      <th></th>\n",
       "      <th>marketClose</th>\n",
       "    </tr>\n",
       "  </thead>\n",
       "  <tbody>\n",
       "    <tr>\n",
       "      <th>count</th>\n",
       "      <td>96327.000000</td>\n",
       "    </tr>\n",
       "    <tr>\n",
       "      <th>mean</th>\n",
       "      <td>305.436257</td>\n",
       "    </tr>\n",
       "    <tr>\n",
       "      <th>std</th>\n",
       "      <td>21.554990</td>\n",
       "    </tr>\n",
       "    <tr>\n",
       "      <th>min</th>\n",
       "      <td>219.800000</td>\n",
       "    </tr>\n",
       "    <tr>\n",
       "      <th>25%</th>\n",
       "      <td>295.030000</td>\n",
       "    </tr>\n",
       "    <tr>\n",
       "      <th>50%</th>\n",
       "      <td>304.340000</td>\n",
       "    </tr>\n",
       "    <tr>\n",
       "      <th>75%</th>\n",
       "      <td>318.709000</td>\n",
       "    </tr>\n",
       "    <tr>\n",
       "      <th>max</th>\n",
       "      <td>355.690000</td>\n",
       "    </tr>\n",
       "  </tbody>\n",
       "</table>\n",
       "</div>"
      ],
      "text/plain": [
       "        marketClose\n",
       "count  96327.000000\n",
       "mean     305.436257\n",
       "std       21.554990\n",
       "min      219.800000\n",
       "25%      295.030000\n",
       "50%      304.340000\n",
       "75%      318.709000\n",
       "max      355.690000"
      ]
     },
     "execution_count": 5,
     "metadata": {},
     "output_type": "execute_result"
    }
   ],
   "source": [
    "df1.describe()"
   ]
  },
  {
   "cell_type": "code",
   "execution_count": 6,
   "metadata": {},
   "outputs": [
    {
     "data": {
      "text/plain": [
       "DateTime         0\n",
       "marketClose    175\n",
       "dtype: int64"
      ]
     },
     "execution_count": 6,
     "metadata": {},
     "output_type": "execute_result"
    }
   ],
   "source": [
    "df1.isna().sum()"
   ]
  },
  {
   "cell_type": "code",
   "execution_count": 7,
   "metadata": {},
   "outputs": [
    {
     "data": {
      "text/plain": [
       "DateTime         0\n",
       "marketClose    175\n",
       "dtype: int64"
      ]
     },
     "execution_count": 7,
     "metadata": {},
     "output_type": "execute_result"
    }
   ],
   "source": [
    "df1.isna().sum()"
   ]
  },
  {
   "cell_type": "code",
   "execution_count": 9,
   "metadata": {
    "scrolled": false
   },
   "outputs": [
    {
     "data": {
      "image/png": "[encoded data removed]",
      "text/plain": [
       "<Figure size 1440x360 with 1 Axes>"
      ]
     },
     "metadata": {
      "needs_background": "light"
     },
     "output_type": "display_data"
    }
   ],
   "source": [
    "df1.marketClose.plot(figsize = (20,5), title = \"SPY INTRADAY\")\n",
    "plt.show()"
   ]
  },
  {
   "cell_type": "code",
   "execution_count": 10,
   "metadata": {},
   "outputs": [],
   "source": [
    "# Time Series(stock price) data does not follow normal distribution because it does not follow Gauss-Markov assumption"
   ]
  },
  {
   "cell_type": "code",
   "execution_count": 11,
   "metadata": {},
   "outputs": [],
   "source": [
    "import scipy.stats\n",
    "import pylab"
   ]
  },
  {
   "cell_type": "markdown",
   "metadata": {},
   "source": [
    "### X axis - Theoritical quantiles is how many standard deviaiton away from mean\n",
    "### Y axis - Stock Prices\n"
   ]
  },
  {
   "cell_type": "code",
   "execution_count": 12,
   "metadata": {},
   "outputs": [],
   "source": [
    "# Quantile-Quantile plot(QQ plot) is used to check whether the distribution is normal or not"
   ]
  },
  {
   "cell_type": "code",
   "execution_count": 13,
   "metadata": {},
   "outputs": [
    {
     "name": "stderr",
     "output_type": "stream",
     "text": [
      "C:\\Users\\TAN\\Anaconda3\\lib\\site-packages\\scipy\\stats\\_distn_infrastructure.py:877: RuntimeWarning: invalid value encountered in greater\n",
      "  return (self.a < x) & (x < self.b)\n",
      "C:\\Users\\TAN\\Anaconda3\\lib\\site-packages\\scipy\\stats\\_distn_infrastructure.py:877: RuntimeWarning: invalid value encountered in less\n",
      "  return (self.a < x) & (x < self.b)\n",
      "C:\\Users\\TAN\\Anaconda3\\lib\\site-packages\\scipy\\stats\\_distn_infrastructure.py:1831: RuntimeWarning: invalid value encountered in less_equal\n",
      "  cond2 = cond0 & (x <= self.a)\n"
     ]
    },
    {
     "data": {
      "image/png": "[encoded data removed]",
      "text/plain": [
       "<Figure size 432x288 with 1 Axes>"
      ]
     },
     "metadata": {
      "needs_background": "light"
     },
     "output_type": "display_data"
    }
   ],
   "source": [
    "scipy.stats.probplot(df1.marketClose,plot = pylab)\n",
    "pylab.show()"
   ]
  },
  {
   "cell_type": "code",
   "execution_count": 14,
   "metadata": {},
   "outputs": [],
   "source": [
    "###Not Normally distributed as it is not following linear graph"
   ]
  },
  {
   "cell_type": "code",
   "execution_count": 15,
   "metadata": {},
   "outputs": [],
   "source": [
    "#df1[\"DateTime\"] =  df1['Date'] + ' ' + df1['Time']"
   ]
  },
  {
   "cell_type": "code",
   "execution_count": 16,
   "metadata": {},
   "outputs": [
    {
     "data": {
      "text/html": [
       "<div>\n",
       "<style scoped>\n",
       "    .dataframe tbody tr th:only-of-type {\n",
       "        vertical-align: middle;\n",
       "    }\n",
       "\n",
       "    .dataframe tbody tr th {\n",
       "        vertical-align: top;\n",
       "    }\n",
       "\n",
       "    .dataframe thead th {\n",
       "        text-align: right;\n",
       "    }\n",
       "</style>\n",
       "<table border=\"1\" class=\"dataframe\">\n",
       "  <thead>\n",
       "    <tr style=\"text-align: right;\">\n",
       "      <th></th>\n",
       "      <th>DateTime</th>\n",
       "      <th>marketClose</th>\n",
       "    </tr>\n",
       "  </thead>\n",
       "  <tbody>\n",
       "    <tr>\n",
       "      <th>0</th>\n",
       "      <td>2019-04-02 09:30:00</td>\n",
       "      <td>300.000</td>\n",
       "    </tr>\n",
       "    <tr>\n",
       "      <th>1</th>\n",
       "      <td>2019-04-02 09:31:00</td>\n",
       "      <td>292.970</td>\n",
       "    </tr>\n",
       "    <tr>\n",
       "      <th>2</th>\n",
       "      <td>2019-04-02 09:32:00</td>\n",
       "      <td>295.120</td>\n",
       "    </tr>\n",
       "    <tr>\n",
       "      <th>3</th>\n",
       "      <td>2019-04-02 09:33:00</td>\n",
       "      <td>296.280</td>\n",
       "    </tr>\n",
       "    <tr>\n",
       "      <th>4</th>\n",
       "      <td>2019-04-02 09:34:00</td>\n",
       "      <td>296.570</td>\n",
       "    </tr>\n",
       "    <tr>\n",
       "      <th>5</th>\n",
       "      <td>2019-04-02 09:35:00</td>\n",
       "      <td>297.900</td>\n",
       "    </tr>\n",
       "    <tr>\n",
       "      <th>6</th>\n",
       "      <td>2019-04-02 09:36:00</td>\n",
       "      <td>294.873</td>\n",
       "    </tr>\n",
       "    <tr>\n",
       "      <th>7</th>\n",
       "      <td>2019-04-02 09:37:00</td>\n",
       "      <td>295.160</td>\n",
       "    </tr>\n",
       "    <tr>\n",
       "      <th>8</th>\n",
       "      <td>2019-04-02 09:38:00</td>\n",
       "      <td>294.560</td>\n",
       "    </tr>\n",
       "    <tr>\n",
       "      <th>9</th>\n",
       "      <td>2019-04-02 09:39:00</td>\n",
       "      <td>297.519</td>\n",
       "    </tr>\n",
       "  </tbody>\n",
       "</table>\n",
       "</div>"
      ],
      "text/plain": [
       "              DateTime  marketClose\n",
       "0  2019-04-02 09:30:00      300.000\n",
       "1  2019-04-02 09:31:00      292.970\n",
       "2  2019-04-02 09:32:00      295.120\n",
       "3  2019-04-02 09:33:00      296.280\n",
       "4  2019-04-02 09:34:00      296.570\n",
       "5  2019-04-02 09:35:00      297.900\n",
       "6  2019-04-02 09:36:00      294.873\n",
       "7  2019-04-02 09:37:00      295.160\n",
       "8  2019-04-02 09:38:00      294.560\n",
       "9  2019-04-02 09:39:00      297.519"
      ]
     },
     "execution_count": 16,
     "metadata": {},
     "output_type": "execute_result"
    }
   ],
   "source": [
    "df1.head(10)"
   ]
  },
  {
   "cell_type": "code",
   "execution_count": 17,
   "metadata": {},
   "outputs": [],
   "source": [
    "df1['DateTime'] = pd.to_datetime(df1.DateTime,dayfirst = True)"
   ]
  },
  {
   "cell_type": "code",
   "execution_count": 18,
   "metadata": {},
   "outputs": [
    {
     "data": {
      "text/html": [
       "<div>\n",
       "<style scoped>\n",
       "    .dataframe tbody tr th:only-of-type {\n",
       "        vertical-align: middle;\n",
       "    }\n",
       "\n",
       "    .dataframe tbody tr th {\n",
       "        vertical-align: top;\n",
       "    }\n",
       "\n",
       "    .dataframe thead th {\n",
       "        text-align: right;\n",
       "    }\n",
       "</style>\n",
       "<table border=\"1\" class=\"dataframe\">\n",
       "  <thead>\n",
       "    <tr style=\"text-align: right;\">\n",
       "      <th></th>\n",
       "      <th>DateTime</th>\n",
       "      <th>marketClose</th>\n",
       "    </tr>\n",
       "  </thead>\n",
       "  <tbody>\n",
       "    <tr>\n",
       "      <th>0</th>\n",
       "      <td>2019-04-02 09:30:00</td>\n",
       "      <td>300.000</td>\n",
       "    </tr>\n",
       "    <tr>\n",
       "      <th>1</th>\n",
       "      <td>2019-04-02 09:31:00</td>\n",
       "      <td>292.970</td>\n",
       "    </tr>\n",
       "    <tr>\n",
       "      <th>2</th>\n",
       "      <td>2019-04-02 09:32:00</td>\n",
       "      <td>295.120</td>\n",
       "    </tr>\n",
       "    <tr>\n",
       "      <th>3</th>\n",
       "      <td>2019-04-02 09:33:00</td>\n",
       "      <td>296.280</td>\n",
       "    </tr>\n",
       "    <tr>\n",
       "      <th>4</th>\n",
       "      <td>2019-04-02 09:34:00</td>\n",
       "      <td>296.570</td>\n",
       "    </tr>\n",
       "    <tr>\n",
       "      <th>5</th>\n",
       "      <td>2019-04-02 09:35:00</td>\n",
       "      <td>297.900</td>\n",
       "    </tr>\n",
       "    <tr>\n",
       "      <th>6</th>\n",
       "      <td>2019-04-02 09:36:00</td>\n",
       "      <td>294.873</td>\n",
       "    </tr>\n",
       "    <tr>\n",
       "      <th>7</th>\n",
       "      <td>2019-04-02 09:37:00</td>\n",
       "      <td>295.160</td>\n",
       "    </tr>\n",
       "    <tr>\n",
       "      <th>8</th>\n",
       "      <td>2019-04-02 09:38:00</td>\n",
       "      <td>294.560</td>\n",
       "    </tr>\n",
       "    <tr>\n",
       "      <th>9</th>\n",
       "      <td>2019-04-02 09:39:00</td>\n",
       "      <td>297.519</td>\n",
       "    </tr>\n",
       "  </tbody>\n",
       "</table>\n",
       "</div>"
      ],
      "text/plain": [
       "             DateTime  marketClose\n",
       "0 2019-04-02 09:30:00      300.000\n",
       "1 2019-04-02 09:31:00      292.970\n",
       "2 2019-04-02 09:32:00      295.120\n",
       "3 2019-04-02 09:33:00      296.280\n",
       "4 2019-04-02 09:34:00      296.570\n",
       "5 2019-04-02 09:35:00      297.900\n",
       "6 2019-04-02 09:36:00      294.873\n",
       "7 2019-04-02 09:37:00      295.160\n",
       "8 2019-04-02 09:38:00      294.560\n",
       "9 2019-04-02 09:39:00      297.519"
      ]
     },
     "execution_count": 18,
     "metadata": {},
     "output_type": "execute_result"
    }
   ],
   "source": [
    "df1.head(10)"
   ]
  },
  {
   "cell_type": "code",
   "execution_count": 19,
   "metadata": {},
   "outputs": [
    {
     "data": {
      "text/plain": [
       "count                   96502\n",
       "unique                  96502\n",
       "top       2019-05-21 11:43:00\n",
       "freq                        1\n",
       "first     2019-04-02 09:30:00\n",
       "last      2020-04-09 15:59:00\n",
       "Name: DateTime, dtype: object"
      ]
     },
     "execution_count": 19,
     "metadata": {},
     "output_type": "execute_result"
    }
   ],
   "source": [
    "df1.DateTime.describe()"
   ]
  },
  {
   "cell_type": "code",
   "execution_count": 20,
   "metadata": {},
   "outputs": [],
   "source": [
    "#df1 = df1.drop(['Date','Time'],axis=1)"
   ]
  },
  {
   "cell_type": "code",
   "execution_count": 21,
   "metadata": {},
   "outputs": [],
   "source": [
    "#df1.head(10)"
   ]
  },
  {
   "cell_type": "code",
   "execution_count": 22,
   "metadata": {},
   "outputs": [],
   "source": [
    "df1 = df1.set_index(df1['DateTime'])"
   ]
  },
  {
   "cell_type": "code",
   "execution_count": 23,
   "metadata": {},
   "outputs": [
    {
     "data": {
      "text/html": [
       "<div>\n",
       "<style scoped>\n",
       "    .dataframe tbody tr th:only-of-type {\n",
       "        vertical-align: middle;\n",
       "    }\n",
       "\n",
       "    .dataframe tbody tr th {\n",
       "        vertical-align: top;\n",
       "    }\n",
       "\n",
       "    .dataframe thead th {\n",
       "        text-align: right;\n",
       "    }\n",
       "</style>\n",
       "<table border=\"1\" class=\"dataframe\">\n",
       "  <thead>\n",
       "    <tr style=\"text-align: right;\">\n",
       "      <th></th>\n",
       "      <th>DateTime</th>\n",
       "      <th>marketClose</th>\n",
       "    </tr>\n",
       "    <tr>\n",
       "      <th>DateTime</th>\n",
       "      <th></th>\n",
       "      <th></th>\n",
       "    </tr>\n",
       "  </thead>\n",
       "  <tbody>\n",
       "    <tr>\n",
       "      <th>2019-04-02 09:30:00</th>\n",
       "      <td>2019-04-02 09:30:00</td>\n",
       "      <td>300.00</td>\n",
       "    </tr>\n",
       "    <tr>\n",
       "      <th>2019-04-02 09:31:00</th>\n",
       "      <td>2019-04-02 09:31:00</td>\n",
       "      <td>292.97</td>\n",
       "    </tr>\n",
       "    <tr>\n",
       "      <th>2019-04-02 09:32:00</th>\n",
       "      <td>2019-04-02 09:32:00</td>\n",
       "      <td>295.12</td>\n",
       "    </tr>\n",
       "    <tr>\n",
       "      <th>2019-04-02 09:33:00</th>\n",
       "      <td>2019-04-02 09:33:00</td>\n",
       "      <td>296.28</td>\n",
       "    </tr>\n",
       "    <tr>\n",
       "      <th>2019-04-02 09:34:00</th>\n",
       "      <td>2019-04-02 09:34:00</td>\n",
       "      <td>296.57</td>\n",
       "    </tr>\n",
       "  </tbody>\n",
       "</table>\n",
       "</div>"
      ],
      "text/plain": [
       "                               DateTime  marketClose\n",
       "DateTime                                            \n",
       "2019-04-02 09:30:00 2019-04-02 09:30:00       300.00\n",
       "2019-04-02 09:31:00 2019-04-02 09:31:00       292.97\n",
       "2019-04-02 09:32:00 2019-04-02 09:32:00       295.12\n",
       "2019-04-02 09:33:00 2019-04-02 09:33:00       296.28\n",
       "2019-04-02 09:34:00 2019-04-02 09:34:00       296.57"
      ]
     },
     "execution_count": 23,
     "metadata": {},
     "output_type": "execute_result"
    }
   ],
   "source": [
    "df1.head(5)"
   ]
  },
  {
   "cell_type": "code",
   "execution_count": 24,
   "metadata": {},
   "outputs": [],
   "source": [
    "df1 = df1.drop(['DateTime'],axis=1)"
   ]
  },
  {
   "cell_type": "code",
   "execution_count": 25,
   "metadata": {},
   "outputs": [
    {
     "data": {
      "text/html": [
       "<div>\n",
       "<style scoped>\n",
       "    .dataframe tbody tr th:only-of-type {\n",
       "        vertical-align: middle;\n",
       "    }\n",
       "\n",
       "    .dataframe tbody tr th {\n",
       "        vertical-align: top;\n",
       "    }\n",
       "\n",
       "    .dataframe thead th {\n",
       "        text-align: right;\n",
       "    }\n",
       "</style>\n",
       "<table border=\"1\" class=\"dataframe\">\n",
       "  <thead>\n",
       "    <tr style=\"text-align: right;\">\n",
       "      <th></th>\n",
       "      <th>marketClose</th>\n",
       "    </tr>\n",
       "    <tr>\n",
       "      <th>DateTime</th>\n",
       "      <th></th>\n",
       "    </tr>\n",
       "  </thead>\n",
       "  <tbody>\n",
       "    <tr>\n",
       "      <th>2019-04-02 09:30:00</th>\n",
       "      <td>300.00</td>\n",
       "    </tr>\n",
       "    <tr>\n",
       "      <th>2019-04-02 09:31:00</th>\n",
       "      <td>292.97</td>\n",
       "    </tr>\n",
       "    <tr>\n",
       "      <th>2019-04-02 09:32:00</th>\n",
       "      <td>295.12</td>\n",
       "    </tr>\n",
       "    <tr>\n",
       "      <th>2019-04-02 09:33:00</th>\n",
       "      <td>296.28</td>\n",
       "    </tr>\n",
       "    <tr>\n",
       "      <th>2019-04-02 09:34:00</th>\n",
       "      <td>296.57</td>\n",
       "    </tr>\n",
       "  </tbody>\n",
       "</table>\n",
       "</div>"
      ],
      "text/plain": [
       "                     marketClose\n",
       "DateTime                        \n",
       "2019-04-02 09:30:00       300.00\n",
       "2019-04-02 09:31:00       292.97\n",
       "2019-04-02 09:32:00       295.12\n",
       "2019-04-02 09:33:00       296.28\n",
       "2019-04-02 09:34:00       296.57"
      ]
     },
     "execution_count": 25,
     "metadata": {},
     "output_type": "execute_result"
    }
   ],
   "source": [
    "df1.head(5)"
   ]
  },
  {
   "cell_type": "code",
   "execution_count": 26,
   "metadata": {},
   "outputs": [],
   "source": [
    "df2 = df1.copy()"
   ]
  },
  {
   "cell_type": "code",
   "execution_count": 27,
   "metadata": {},
   "outputs": [],
   "source": [
    "df2 = df2.dropna()"
   ]
  },
  {
   "cell_type": "code",
   "execution_count": 28,
   "metadata": {},
   "outputs": [
    {
     "data": {
      "text/plain": [
       "marketClose    0\n",
       "dtype: int64"
      ]
     },
     "execution_count": 28,
     "metadata": {},
     "output_type": "execute_result"
    }
   ],
   "source": [
    "df2.isna().sum()"
   ]
  },
  {
   "cell_type": "markdown",
   "metadata": {},
   "source": [
    "##Setting the desired frequency"
   ]
  },
  {
   "cell_type": "code",
   "execution_count": 29,
   "metadata": {},
   "outputs": [],
   "source": [
    "df_comp = df2.resample('5Min').mean()"
   ]
  },
  {
   "cell_type": "code",
   "execution_count": 30,
   "metadata": {},
   "outputs": [
    {
     "data": {
      "text/html": [
       "<div>\n",
       "<style scoped>\n",
       "    .dataframe tbody tr th:only-of-type {\n",
       "        vertical-align: middle;\n",
       "    }\n",
       "\n",
       "    .dataframe tbody tr th {\n",
       "        vertical-align: top;\n",
       "    }\n",
       "\n",
       "    .dataframe thead th {\n",
       "        text-align: right;\n",
       "    }\n",
       "</style>\n",
       "<table border=\"1\" class=\"dataframe\">\n",
       "  <thead>\n",
       "    <tr style=\"text-align: right;\">\n",
       "      <th></th>\n",
       "      <th>marketClose</th>\n",
       "    </tr>\n",
       "    <tr>\n",
       "      <th>DateTime</th>\n",
       "      <th></th>\n",
       "    </tr>\n",
       "  </thead>\n",
       "  <tbody>\n",
       "    <tr>\n",
       "      <th>2019-04-02 09:30:00</th>\n",
       "      <td>296.1880</td>\n",
       "    </tr>\n",
       "    <tr>\n",
       "      <th>2019-04-02 09:35:00</th>\n",
       "      <td>296.0024</td>\n",
       "    </tr>\n",
       "    <tr>\n",
       "      <th>2019-04-02 09:40:00</th>\n",
       "      <td>288.9542</td>\n",
       "    </tr>\n",
       "    <tr>\n",
       "      <th>2019-04-02 09:45:00</th>\n",
       "      <td>292.1286</td>\n",
       "    </tr>\n",
       "    <tr>\n",
       "      <th>2019-04-02 09:50:00</th>\n",
       "      <td>292.0962</td>\n",
       "    </tr>\n",
       "    <tr>\n",
       "      <th>...</th>\n",
       "      <td>...</td>\n",
       "    </tr>\n",
       "    <tr>\n",
       "      <th>2019-04-02 16:35:00</th>\n",
       "      <td>NaN</td>\n",
       "    </tr>\n",
       "    <tr>\n",
       "      <th>2019-04-02 16:40:00</th>\n",
       "      <td>NaN</td>\n",
       "    </tr>\n",
       "    <tr>\n",
       "      <th>2019-04-02 16:45:00</th>\n",
       "      <td>NaN</td>\n",
       "    </tr>\n",
       "    <tr>\n",
       "      <th>2019-04-02 16:50:00</th>\n",
       "      <td>NaN</td>\n",
       "    </tr>\n",
       "    <tr>\n",
       "      <th>2019-04-02 16:55:00</th>\n",
       "      <td>NaN</td>\n",
       "    </tr>\n",
       "  </tbody>\n",
       "</table>\n",
       "<p>90 rows × 1 columns</p>\n",
       "</div>"
      ],
      "text/plain": [
       "                     marketClose\n",
       "DateTime                        \n",
       "2019-04-02 09:30:00     296.1880\n",
       "2019-04-02 09:35:00     296.0024\n",
       "2019-04-02 09:40:00     288.9542\n",
       "2019-04-02 09:45:00     292.1286\n",
       "2019-04-02 09:50:00     292.0962\n",
       "...                          ...\n",
       "2019-04-02 16:35:00          NaN\n",
       "2019-04-02 16:40:00          NaN\n",
       "2019-04-02 16:45:00          NaN\n",
       "2019-04-02 16:50:00          NaN\n",
       "2019-04-02 16:55:00          NaN\n",
       "\n",
       "[90 rows x 1 columns]"
      ]
     },
     "execution_count": 30,
     "metadata": {},
     "output_type": "execute_result"
    }
   ],
   "source": [
    "df_comp.head(90)"
   ]
  },
  {
   "cell_type": "code",
   "execution_count": 31,
   "metadata": {},
   "outputs": [],
   "source": [
    "df_comp = df_comp.dropna()"
   ]
  },
  {
   "cell_type": "code",
   "execution_count": 32,
   "metadata": {},
   "outputs": [
    {
     "data": {
      "text/plain": [
       "marketClose    0\n",
       "dtype: int64"
      ]
     },
     "execution_count": 32,
     "metadata": {},
     "output_type": "execute_result"
    }
   ],
   "source": [
    "df2.isna().sum()"
   ]
  },
  {
   "cell_type": "code",
   "execution_count": 33,
   "metadata": {},
   "outputs": [
    {
     "data": {
      "text/html": [
       "<div>\n",
       "<style scoped>\n",
       "    .dataframe tbody tr th:only-of-type {\n",
       "        vertical-align: middle;\n",
       "    }\n",
       "\n",
       "    .dataframe tbody tr th {\n",
       "        vertical-align: top;\n",
       "    }\n",
       "\n",
       "    .dataframe thead th {\n",
       "        text-align: right;\n",
       "    }\n",
       "</style>\n",
       "<table border=\"1\" class=\"dataframe\">\n",
       "  <thead>\n",
       "    <tr style=\"text-align: right;\">\n",
       "      <th></th>\n",
       "      <th>marketClose</th>\n",
       "    </tr>\n",
       "    <tr>\n",
       "      <th>DateTime</th>\n",
       "      <th></th>\n",
       "    </tr>\n",
       "  </thead>\n",
       "  <tbody>\n",
       "    <tr>\n",
       "      <th>2019-04-02 09:30:00</th>\n",
       "      <td>300.00</td>\n",
       "    </tr>\n",
       "    <tr>\n",
       "      <th>2019-04-02 09:31:00</th>\n",
       "      <td>292.97</td>\n",
       "    </tr>\n",
       "    <tr>\n",
       "      <th>2019-04-02 09:32:00</th>\n",
       "      <td>295.12</td>\n",
       "    </tr>\n",
       "  </tbody>\n",
       "</table>\n",
       "</div>"
      ],
      "text/plain": [
       "                     marketClose\n",
       "DateTime                        \n",
       "2019-04-02 09:30:00       300.00\n",
       "2019-04-02 09:31:00       292.97\n",
       "2019-04-02 09:32:00       295.12"
      ]
     },
     "execution_count": 33,
     "metadata": {},
     "output_type": "execute_result"
    }
   ],
   "source": [
    "df2.head(3)"
   ]
  },
  {
   "cell_type": "markdown",
   "metadata": {},
   "source": [
    "### Working on df2 as it already resampled to 5 min\n"
   ]
  },
  {
   "cell_type": "markdown",
   "metadata": {},
   "source": [
    "###If you want to fill missing values, you can use following methods to fill missing values\n",
    "df2.Close = df2.Close.fillna(method = 'ffill')\n",
    "df2.Close = df2.Close.fillna(method = 'bfill')\n",
    "df2.Close = df2.Close.fillna(value = df2.Close.mean())"
   ]
  },
  {
   "cell_type": "markdown",
   "metadata": {},
   "source": [
    "## "
   ]
  },
  {
   "cell_type": "code",
   "execution_count": 34,
   "metadata": {},
   "outputs": [],
   "source": [
    "size = int(len(df2)*0.8)"
   ]
  },
  {
   "cell_type": "code",
   "execution_count": 35,
   "metadata": {},
   "outputs": [],
   "source": [
    "df_train = df2.iloc[:size]"
   ]
  },
  {
   "cell_type": "code",
   "execution_count": 36,
   "metadata": {},
   "outputs": [],
   "source": [
    "df_test = df2.iloc[size:]"
   ]
  },
  {
   "cell_type": "code",
   "execution_count": 37,
   "metadata": {},
   "outputs": [
    {
     "data": {
      "text/html": [
       "<div>\n",
       "<style scoped>\n",
       "    .dataframe tbody tr th:only-of-type {\n",
       "        vertical-align: middle;\n",
       "    }\n",
       "\n",
       "    .dataframe tbody tr th {\n",
       "        vertical-align: top;\n",
       "    }\n",
       "\n",
       "    .dataframe thead th {\n",
       "        text-align: right;\n",
       "    }\n",
       "</style>\n",
       "<table border=\"1\" class=\"dataframe\">\n",
       "  <thead>\n",
       "    <tr style=\"text-align: right;\">\n",
       "      <th></th>\n",
       "      <th>marketClose</th>\n",
       "    </tr>\n",
       "    <tr>\n",
       "      <th>DateTime</th>\n",
       "      <th></th>\n",
       "    </tr>\n",
       "  </thead>\n",
       "  <tbody>\n",
       "    <tr>\n",
       "      <th>2020-01-28 10:48:00</th>\n",
       "      <td>339.144</td>\n",
       "    </tr>\n",
       "    <tr>\n",
       "      <th>2020-01-28 10:49:00</th>\n",
       "      <td>330.300</td>\n",
       "    </tr>\n",
       "    <tr>\n",
       "      <th>2020-01-28 10:50:00</th>\n",
       "      <td>336.910</td>\n",
       "    </tr>\n",
       "    <tr>\n",
       "      <th>2020-01-28 10:51:00</th>\n",
       "      <td>330.080</td>\n",
       "    </tr>\n",
       "    <tr>\n",
       "      <th>2020-01-28 10:52:00</th>\n",
       "      <td>328.190</td>\n",
       "    </tr>\n",
       "  </tbody>\n",
       "</table>\n",
       "</div>"
      ],
      "text/plain": [
       "                     marketClose\n",
       "DateTime                        \n",
       "2020-01-28 10:48:00      339.144\n",
       "2020-01-28 10:49:00      330.300\n",
       "2020-01-28 10:50:00      336.910\n",
       "2020-01-28 10:51:00      330.080\n",
       "2020-01-28 10:52:00      328.190"
      ]
     },
     "execution_count": 37,
     "metadata": {},
     "output_type": "execute_result"
    }
   ],
   "source": [
    "df_train.tail(5)"
   ]
  },
  {
   "cell_type": "code",
   "execution_count": 38,
   "metadata": {},
   "outputs": [
    {
     "data": {
      "text/html": [
       "<div>\n",
       "<style scoped>\n",
       "    .dataframe tbody tr th:only-of-type {\n",
       "        vertical-align: middle;\n",
       "    }\n",
       "\n",
       "    .dataframe tbody tr th {\n",
       "        vertical-align: top;\n",
       "    }\n",
       "\n",
       "    .dataframe thead th {\n",
       "        text-align: right;\n",
       "    }\n",
       "</style>\n",
       "<table border=\"1\" class=\"dataframe\">\n",
       "  <thead>\n",
       "    <tr style=\"text-align: right;\">\n",
       "      <th></th>\n",
       "      <th>marketClose</th>\n",
       "    </tr>\n",
       "    <tr>\n",
       "      <th>DateTime</th>\n",
       "      <th></th>\n",
       "    </tr>\n",
       "  </thead>\n",
       "  <tbody>\n",
       "    <tr>\n",
       "      <th>2020-01-28 10:53:00</th>\n",
       "      <td>336.820</td>\n",
       "    </tr>\n",
       "    <tr>\n",
       "      <th>2020-01-28 10:54:00</th>\n",
       "      <td>329.810</td>\n",
       "    </tr>\n",
       "    <tr>\n",
       "      <th>2020-01-28 10:55:00</th>\n",
       "      <td>326.860</td>\n",
       "    </tr>\n",
       "    <tr>\n",
       "      <th>2020-01-28 10:56:00</th>\n",
       "      <td>336.018</td>\n",
       "    </tr>\n",
       "    <tr>\n",
       "      <th>2020-01-28 10:57:00</th>\n",
       "      <td>327.470</td>\n",
       "    </tr>\n",
       "  </tbody>\n",
       "</table>\n",
       "</div>"
      ],
      "text/plain": [
       "                     marketClose\n",
       "DateTime                        \n",
       "2020-01-28 10:53:00      336.820\n",
       "2020-01-28 10:54:00      329.810\n",
       "2020-01-28 10:55:00      326.860\n",
       "2020-01-28 10:56:00      336.018\n",
       "2020-01-28 10:57:00      327.470"
      ]
     },
     "execution_count": 38,
     "metadata": {},
     "output_type": "execute_result"
    }
   ],
   "source": [
    "df_test.head(5)"
   ]
  },
  {
   "cell_type": "markdown",
   "metadata": {},
   "source": [
    "## WHITE NOISE"
   ]
  },
  {
   "cell_type": "raw",
   "metadata": {},
   "source": [
    "# White noise can't be predicted as it does not follow any pattern\n",
    "## Three conditions to call a time series as WHITE NOISE:\n",
    "### 1. Constant Mean = 0\n",
    "#### 2. Constant Variance\n",
    "##### 3. No Autocorrelation"
   ]
  },
  {
   "cell_type": "code",
   "execution_count": 39,
   "metadata": {},
   "outputs": [],
   "source": [
    "# A time series is white noise if the variables are independent and identically distributed with a mean of zero. \n",
    "# This means that all variables have the same variance (sigma^2) and each value has a zero correlation with all other values\n",
    "# in the series"
   ]
  },
  {
   "cell_type": "code",
   "execution_count": 40,
   "metadata": {},
   "outputs": [],
   "source": [
    "#If a time series is white noise, it is a sequence of random numbers and cannot be predicted. If the series of forecast\n",
    "#errors are not white noise, it suggests improvements could be made to the predictive model."
   ]
  },
  {
   "cell_type": "code",
   "execution_count": 41,
   "metadata": {},
   "outputs": [],
   "source": [
    "wn = np.random.normal(loc = df_train.marketClose.mean(), scale = df_train.marketClose.std(), size = len(df_train))"
   ]
  },
  {
   "cell_type": "code",
   "execution_count": 42,
   "metadata": {},
   "outputs": [
    {
     "name": "stderr",
     "output_type": "stream",
     "text": [
      "C:\\Users\\TAN\\Anaconda3\\lib\\site-packages\\ipykernel_launcher.py:1: SettingWithCopyWarning: \n",
      "A value is trying to be set on a copy of a slice from a DataFrame.\n",
      "Try using .loc[row_indexer,col_indexer] = value instead\n",
      "\n",
      "See the caveats in the documentation: http://pandas.pydata.org/pandas-docs/stable/user_guide/indexing.html#returning-a-view-versus-a-copy\n",
      "  \"\"\"Entry point for launching an IPython kernel.\n"
     ]
    }
   ],
   "source": [
    "df_train['wn'] = wn"
   ]
  },
  {
   "cell_type": "code",
   "execution_count": 43,
   "metadata": {},
   "outputs": [
    {
     "data": {
      "text/html": [
       "<div>\n",
       "<style scoped>\n",
       "    .dataframe tbody tr th:only-of-type {\n",
       "        vertical-align: middle;\n",
       "    }\n",
       "\n",
       "    .dataframe tbody tr th {\n",
       "        vertical-align: top;\n",
       "    }\n",
       "\n",
       "    .dataframe thead th {\n",
       "        text-align: right;\n",
       "    }\n",
       "</style>\n",
       "<table border=\"1\" class=\"dataframe\">\n",
       "  <thead>\n",
       "    <tr style=\"text-align: right;\">\n",
       "      <th></th>\n",
       "      <th>marketClose</th>\n",
       "      <th>wn</th>\n",
       "    </tr>\n",
       "  </thead>\n",
       "  <tbody>\n",
       "    <tr>\n",
       "      <th>count</th>\n",
       "      <td>77061.000000</td>\n",
       "      <td>77061.000000</td>\n",
       "    </tr>\n",
       "    <tr>\n",
       "      <th>mean</th>\n",
       "      <td>307.448464</td>\n",
       "      <td>307.435908</td>\n",
       "    </tr>\n",
       "    <tr>\n",
       "      <th>std</th>\n",
       "      <td>14.233115</td>\n",
       "      <td>14.235983</td>\n",
       "    </tr>\n",
       "    <tr>\n",
       "      <th>min</th>\n",
       "      <td>273.760000</td>\n",
       "      <td>244.132041</td>\n",
       "    </tr>\n",
       "    <tr>\n",
       "      <th>25%</th>\n",
       "      <td>297.100000</td>\n",
       "      <td>297.794638</td>\n",
       "    </tr>\n",
       "    <tr>\n",
       "      <th>50%</th>\n",
       "      <td>304.514000</td>\n",
       "      <td>307.444304</td>\n",
       "    </tr>\n",
       "    <tr>\n",
       "      <th>75%</th>\n",
       "      <td>315.690000</td>\n",
       "      <td>317.044003</td>\n",
       "    </tr>\n",
       "    <tr>\n",
       "      <th>max</th>\n",
       "      <td>348.600000</td>\n",
       "      <td>375.620765</td>\n",
       "    </tr>\n",
       "  </tbody>\n",
       "</table>\n",
       "</div>"
      ],
      "text/plain": [
       "        marketClose            wn\n",
       "count  77061.000000  77061.000000\n",
       "mean     307.448464    307.435908\n",
       "std       14.233115     14.235983\n",
       "min      273.760000    244.132041\n",
       "25%      297.100000    297.794638\n",
       "50%      304.514000    307.444304\n",
       "75%      315.690000    317.044003\n",
       "max      348.600000    375.620765"
      ]
     },
     "execution_count": 43,
     "metadata": {},
     "output_type": "execute_result"
    }
   ],
   "source": [
    "df_train.describe()"
   ]
  },
  {
   "cell_type": "code",
   "execution_count": 44,
   "metadata": {
    "scrolled": true
   },
   "outputs": [
    {
     "data": {
      "image/png": "[encoded data removed]",
      "text/plain": [
       "<Figure size 1440x360 with 1 Axes>"
      ]
     },
     "metadata": {
      "needs_background": "light"
     },
     "output_type": "display_data"
    }
   ],
   "source": [
    "df_train.wn.plot(figsize = (20,5))\n",
    "plt.title('white noise time series',size=24)\n",
    "plt.show()"
   ]
  },
  {
   "cell_type": "code",
   "execution_count": 45,
   "metadata": {},
   "outputs": [
    {
     "data": {
      "text/html": [
       "<div>\n",
       "<style scoped>\n",
       "    .dataframe tbody tr th:only-of-type {\n",
       "        vertical-align: middle;\n",
       "    }\n",
       "\n",
       "    .dataframe tbody tr th {\n",
       "        vertical-align: top;\n",
       "    }\n",
       "\n",
       "    .dataframe thead th {\n",
       "        text-align: right;\n",
       "    }\n",
       "</style>\n",
       "<table border=\"1\" class=\"dataframe\">\n",
       "  <thead>\n",
       "    <tr style=\"text-align: right;\">\n",
       "      <th></th>\n",
       "      <th>marketClose</th>\n",
       "      <th>wn</th>\n",
       "    </tr>\n",
       "    <tr>\n",
       "      <th>DateTime</th>\n",
       "      <th></th>\n",
       "      <th></th>\n",
       "    </tr>\n",
       "  </thead>\n",
       "  <tbody>\n",
       "    <tr>\n",
       "      <th>2019-04-02 09:30:00</th>\n",
       "      <td>300.000</td>\n",
       "      <td>312.233054</td>\n",
       "    </tr>\n",
       "    <tr>\n",
       "      <th>2019-04-02 09:31:00</th>\n",
       "      <td>292.970</td>\n",
       "      <td>311.052465</td>\n",
       "    </tr>\n",
       "    <tr>\n",
       "      <th>2019-04-02 09:32:00</th>\n",
       "      <td>295.120</td>\n",
       "      <td>293.960520</td>\n",
       "    </tr>\n",
       "    <tr>\n",
       "      <th>2019-04-02 09:33:00</th>\n",
       "      <td>296.280</td>\n",
       "      <td>317.484875</td>\n",
       "    </tr>\n",
       "    <tr>\n",
       "      <th>2019-04-02 09:34:00</th>\n",
       "      <td>296.570</td>\n",
       "      <td>303.763361</td>\n",
       "    </tr>\n",
       "    <tr>\n",
       "      <th>2019-04-02 09:35:00</th>\n",
       "      <td>297.900</td>\n",
       "      <td>330.089129</td>\n",
       "    </tr>\n",
       "    <tr>\n",
       "      <th>2019-04-02 09:36:00</th>\n",
       "      <td>294.873</td>\n",
       "      <td>320.245540</td>\n",
       "    </tr>\n",
       "    <tr>\n",
       "      <th>2019-04-02 09:37:00</th>\n",
       "      <td>295.160</td>\n",
       "      <td>320.395293</td>\n",
       "    </tr>\n",
       "    <tr>\n",
       "      <th>2019-04-02 09:38:00</th>\n",
       "      <td>294.560</td>\n",
       "      <td>318.024680</td>\n",
       "    </tr>\n",
       "    <tr>\n",
       "      <th>2019-04-02 09:39:00</th>\n",
       "      <td>297.519</td>\n",
       "      <td>298.934864</td>\n",
       "    </tr>\n",
       "  </tbody>\n",
       "</table>\n",
       "</div>"
      ],
      "text/plain": [
       "                     marketClose          wn\n",
       "DateTime                                    \n",
       "2019-04-02 09:30:00      300.000  312.233054\n",
       "2019-04-02 09:31:00      292.970  311.052465\n",
       "2019-04-02 09:32:00      295.120  293.960520\n",
       "2019-04-02 09:33:00      296.280  317.484875\n",
       "2019-04-02 09:34:00      296.570  303.763361\n",
       "2019-04-02 09:35:00      297.900  330.089129\n",
       "2019-04-02 09:36:00      294.873  320.245540\n",
       "2019-04-02 09:37:00      295.160  320.395293\n",
       "2019-04-02 09:38:00      294.560  318.024680\n",
       "2019-04-02 09:39:00      297.519  298.934864"
      ]
     },
     "execution_count": 45,
     "metadata": {},
     "output_type": "execute_result"
    }
   ],
   "source": [
    "df_train.head(10)"
   ]
  },
  {
   "cell_type": "code",
   "execution_count": 46,
   "metadata": {},
   "outputs": [
    {
     "data": {
      "image/png": "[encoded data removed]",
      "text/plain": [
       "<Figure size 1440x360 with 1 Axes>"
      ]
     },
     "metadata": {
      "needs_background": "light"
     },
     "output_type": "display_data"
    }
   ],
   "source": [
    "df_train.marketClose.plot(figsize = (20,5))\n",
    "plt.title('SPY ETF Close Prices',size=30)\n",
    "plt.ylim(260,360)\n",
    "plt.show()"
   ]
  },
  {
   "cell_type": "markdown",
   "metadata": {},
   "source": [
    "# Random Walk Leave now"
   ]
  },
  {
   "attachments": {
    "Random%20Walk.PNG": {
     "image/png": "[encoded data removed]"
    }
   },
   "cell_type": "markdown",
   "metadata": {},
   "source": [
    "![Random%20Walk.PNG](attachment:Random%20Walk.PNG)"
   ]
  },
  {
   "cell_type": "code",
   "execution_count": 47,
   "metadata": {},
   "outputs": [],
   "source": [
    "# rw = pd.read_csv(\"C:/Users/TAN/Downloads/RandWalk.csv\")"
   ]
  },
  {
   "cell_type": "code",
   "execution_count": 48,
   "metadata": {},
   "outputs": [],
   "source": [
    "#rw.head(5)"
   ]
  },
  {
   "cell_type": "code",
   "execution_count": 49,
   "metadata": {},
   "outputs": [],
   "source": [
    "# rw.date = pd.to_datetime(rw.date,dayfirst = True)\n",
    "# rw.set_index(\"date\",inplace=True)\n",
    "# rw = rw.asfreq('b')"
   ]
  },
  {
   "cell_type": "code",
   "execution_count": 50,
   "metadata": {
    "scrolled": true
   },
   "outputs": [],
   "source": [
    "#df_train['rw'] = rw['price']\n"
   ]
  },
  {
   "cell_type": "code",
   "execution_count": 51,
   "metadata": {
    "scrolled": true
   },
   "outputs": [],
   "source": [
    "#df_train['rw'] = df_train.rw.fillna(value = df_train.rw.mean())"
   ]
  },
  {
   "cell_type": "code",
   "execution_count": 52,
   "metadata": {},
   "outputs": [],
   "source": [
    "#df_train = df_train.rw.fillna(df_train.wn.mean())"
   ]
  },
  {
   "cell_type": "code",
   "execution_count": 53,
   "metadata": {},
   "outputs": [],
   "source": [
    "#df_train.head(10)"
   ]
  },
  {
   "cell_type": "code",
   "execution_count": 54,
   "metadata": {
    "scrolled": true
   },
   "outputs": [],
   "source": [
    "# df_train.rw.plot(figsize=(20,5))\n",
    "# plt.title(\"Random Walk\",size=24)\n",
    "# plt.show()"
   ]
  },
  {
   "cell_type": "markdown",
   "metadata": {},
   "source": [
    "# STATIONARITY"
   ]
  },
  {
   "cell_type": "code",
   "execution_count": 55,
   "metadata": {},
   "outputs": [
    {
     "data": {
      "text/html": [
       "<div>\n",
       "<style scoped>\n",
       "    .dataframe tbody tr th:only-of-type {\n",
       "        vertical-align: middle;\n",
       "    }\n",
       "\n",
       "    .dataframe tbody tr th {\n",
       "        vertical-align: top;\n",
       "    }\n",
       "\n",
       "    .dataframe thead th {\n",
       "        text-align: right;\n",
       "    }\n",
       "</style>\n",
       "<table border=\"1\" class=\"dataframe\">\n",
       "  <thead>\n",
       "    <tr style=\"text-align: right;\">\n",
       "      <th></th>\n",
       "      <th>marketClose</th>\n",
       "      <th>wn</th>\n",
       "    </tr>\n",
       "    <tr>\n",
       "      <th>DateTime</th>\n",
       "      <th></th>\n",
       "      <th></th>\n",
       "    </tr>\n",
       "  </thead>\n",
       "  <tbody>\n",
       "    <tr>\n",
       "      <th>2019-04-02 09:30:00</th>\n",
       "      <td>300.00</td>\n",
       "      <td>312.233054</td>\n",
       "    </tr>\n",
       "    <tr>\n",
       "      <th>2019-04-02 09:31:00</th>\n",
       "      <td>292.97</td>\n",
       "      <td>311.052465</td>\n",
       "    </tr>\n",
       "    <tr>\n",
       "      <th>2019-04-02 09:32:00</th>\n",
       "      <td>295.12</td>\n",
       "      <td>293.960520</td>\n",
       "    </tr>\n",
       "    <tr>\n",
       "      <th>2019-04-02 09:33:00</th>\n",
       "      <td>296.28</td>\n",
       "      <td>317.484875</td>\n",
       "    </tr>\n",
       "    <tr>\n",
       "      <th>2019-04-02 09:34:00</th>\n",
       "      <td>296.57</td>\n",
       "      <td>303.763361</td>\n",
       "    </tr>\n",
       "  </tbody>\n",
       "</table>\n",
       "</div>"
      ],
      "text/plain": [
       "                     marketClose          wn\n",
       "DateTime                                    \n",
       "2019-04-02 09:30:00       300.00  312.233054\n",
       "2019-04-02 09:31:00       292.97  311.052465\n",
       "2019-04-02 09:32:00       295.12  293.960520\n",
       "2019-04-02 09:33:00       296.28  317.484875\n",
       "2019-04-02 09:34:00       296.57  303.763361"
      ]
     },
     "execution_count": 55,
     "metadata": {},
     "output_type": "execute_result"
    }
   ],
   "source": [
    "df_train.head(5)"
   ]
  },
  {
   "cell_type": "code",
   "execution_count": 56,
   "metadata": {},
   "outputs": [
    {
     "name": "stderr",
     "output_type": "stream",
     "text": [
      "C:\\Users\\TAN\\Anaconda3\\lib\\site-packages\\statsmodels\\compat\\pandas.py:23: FutureWarning: The Panel class is removed from pandas. Accessing it from the top-level namespace will also be removed in the next version\n",
      "  data_klasses = (pandas.Series, pandas.DataFrame, pandas.Panel)\n"
     ]
    }
   ],
   "source": [
    "import statsmodels.tsa.stattools as sts"
   ]
  },
  {
   "cell_type": "code",
   "execution_count": 57,
   "metadata": {},
   "outputs": [
    {
     "data": {
      "text/plain": [
       "(-1.3837772678752445,\n",
       " 0.5900283177648608,\n",
       " 64,\n",
       " 76996,\n",
       " {'1%': -3.4304349332176307,\n",
       "  '5%': -2.861577539027958,\n",
       "  '10%': -2.566789980732537},\n",
       " 447085.3544188962)"
      ]
     },
     "execution_count": 57,
     "metadata": {},
     "output_type": "execute_result"
    }
   ],
   "source": [
    "sts.adfuller(df_train.marketClose)"
   ]
  },
  {
   "cell_type": "markdown",
   "metadata": {},
   "source": [
    "Null hypothesis - Data is not stationary and here  test statistic is greater than critical value so null hypothesis is not rejected.\n",
    "Above output shows that data is not stationary\n",
    "(P value is 0.59(59% chance that data is not stationary), t statistic > critical values(1%,5%,10%))\n",
    "Autocorrelation coefficient is 4 (which is >1)"
   ]
  },
  {
   "cell_type": "code",
   "execution_count": 57,
   "metadata": {},
   "outputs": [
    {
     "data": {
      "text/plain": [
       "(-276.633886270512,\n",
       " 0.0,\n",
       " 0,\n",
       " 77060,\n",
       " {'1%': -3.430434862676403,\n",
       "  '5%': -2.861577507850389,\n",
       "  '10%': -2.5667899641377123},\n",
       " 627140.2185814114)"
      ]
     },
     "execution_count": 57,
     "metadata": {},
     "output_type": "execute_result"
    }
   ],
   "source": [
    "sts.adfuller(df_train.wn)"
   ]
  },
  {
   "cell_type": "markdown",
   "metadata": {},
   "source": [
    "Above output shows that white noise (wn) data is stationary\n",
    "(P value is 0.0(0% chance that data is not stationary-->100% chance that data is stationary)\n",
    " t statistic < critical values(1%,5%,10%))\n",
    " Autocorrelation coefficient is 0 (which is <1)"
   ]
  },
  {
   "cell_type": "code",
   "execution_count": 58,
   "metadata": {},
   "outputs": [],
   "source": [
    "#sts.adfuller(rw.price)"
   ]
  },
  {
   "cell_type": "code",
   "execution_count": 59,
   "metadata": {},
   "outputs": [],
   "source": [
    "# Same as the closing price"
   ]
  },
  {
   "cell_type": "markdown",
   "metadata": {},
   "source": [
    "# Seasonality"
   ]
  },
  {
   "cell_type": "code",
   "execution_count": 42,
   "metadata": {},
   "outputs": [],
   "source": [
    "from statsmodels.tsa.seasonal import seasonal_decompose"
   ]
  },
  {
   "cell_type": "code",
   "execution_count": 43,
   "metadata": {},
   "outputs": [
    {
     "name": "stderr",
     "output_type": "stream",
     "text": [
      "C:\\Users\\TAN\\Anaconda3\\lib\\site-packages\\statsmodels\\compat\\pandas.py:23: FutureWarning: The Panel class is removed from pandas. Accessing it from the top-level namespace will also be removed in the next version\n",
      "  data_klasses = (pandas.Series, pandas.DataFrame, pandas.Panel)\n"
     ]
    }
   ],
   "source": [
    "s_dec_additive = seasonal_decompose(df_train.marketClose, model = \"additive\",freq=30)"
   ]
  },
  {
   "cell_type": "code",
   "execution_count": 44,
   "metadata": {},
   "outputs": [
    {
     "data": {
      "image/png": "[encoded data removed]",
      "text/plain": [
       "<Figure size 432x288 with 4 Axes>"
      ]
     },
     "execution_count": 44,
     "metadata": {},
     "output_type": "execute_result"
    },
    {
     "data": {
      "image/png": "[encoded data removed]",
      "text/plain": [
       "<Figure size 432x288 with 4 Axes>"
      ]
     },
     "metadata": {
      "needs_background": "light"
     },
     "output_type": "display_data"
    }
   ],
   "source": [
    "s_dec_additive.plot()"
   ]
  },
  {
   "cell_type": "code",
   "execution_count": 45,
   "metadata": {},
   "outputs": [],
   "source": [
    "####Data is not seasonal as there is not concrete cyclical pattern"
   ]
  },
  {
   "cell_type": "code",
   "execution_count": 46,
   "metadata": {
    "scrolled": true
   },
   "outputs": [
    {
     "data": {
      "image/png": "[encoded data removed]",
      "text/plain": [
       "<Figure size 432x288 with 4 Axes>"
      ]
     },
     "execution_count": 46,
     "metadata": {},
     "output_type": "execute_result"
    },
    {
     "data": {
      "image/png": "[encoded data removed]",
      "text/plain": [
       "<Figure size 432x288 with 4 Axes>"
      ]
     },
     "metadata": {
      "needs_background": "light"
     },
     "output_type": "display_data"
    }
   ],
   "source": [
    "s_dec_multiplicative = seasonal_decompose(df_train.marketClose, model = \"multiplicative\",freq=30)\n",
    "s_dec_multiplicative.plot()"
   ]
  },
  {
   "cell_type": "raw",
   "metadata": {},
   "source": [
    "# Result -  No seasonality in the SPY ETF Prices"
   ]
  },
  {
   "cell_type": "markdown",
   "metadata": {},
   "source": [
    "# Autocorrelation ACF"
   ]
  },
  {
   "cell_type": "code",
   "execution_count": 69,
   "metadata": {},
   "outputs": [],
   "source": [
    "# A plot of the autocorrelation of a time series by lag is called the AutoCorrelation Function, or the acronym ACF. \n",
    "# This plot is sometimes called a correlogram or an autocorrelation plot. ... Running the example creates a 2D plot showing the\n",
    "# lag value along the x-axis and the correlation on the y-axis between -1 and 1"
   ]
  },
  {
   "cell_type": "code",
   "execution_count": 92,
   "metadata": {},
   "outputs": [],
   "source": [
    "import statsmodels.graphics.tsaplots as sgt"
   ]
  },
  {
   "cell_type": "code",
   "execution_count": 71,
   "metadata": {},
   "outputs": [
    {
     "data": {
      "text/plain": [
       "Text(0.5, 1.0, 'ACF LAG')"
      ]
     },
     "execution_count": 71,
     "metadata": {},
     "output_type": "execute_result"
    },
    {
     "data": {
      "image/png": "[encoded data removed]",
      "text/plain": [
       "<Figure size 432x288 with 1 Axes>"
      ]
     },
     "metadata": {
      "needs_background": "light"
     },
     "output_type": "display_data"
    }
   ],
   "source": [
    "sgt.plot_acf(df_train.marketClose,lags=40,zero=False)\n",
    "plt.xlabel('Lags')\n",
    "plt.ylabel('ACF')\n",
    "plt.title(\"ACF LAG\")"
   ]
  },
  {
   "cell_type": "code",
   "execution_count": 72,
   "metadata": {},
   "outputs": [],
   "source": [
    "###Stock prices have been consistent till 40 lags, range of ACF varies from -1 to +1\n",
    "##Shadow area is the Significance\n",
    "##We can estimate our prediction even through 40 lags\n",
    "###The greater the distance in time, the more unlikely that autocorrelation exists\n",
    "###all the lines are higher than the significance, which means this is the indicator of time dependence in the data\n",
    "###Prices even a month back can serve as decent estimators\n",
    "###SPY ETF high frequency data prices is highly autocorrelated"
   ]
  },
  {
   "cell_type": "code",
   "execution_count": 73,
   "metadata": {},
   "outputs": [
    {
     "data": {
      "text/plain": [
       "Text(0.5, 1.0, 'WHITE NOISE')"
      ]
     },
     "execution_count": 73,
     "metadata": {},
     "output_type": "execute_result"
    },
    {
     "data": {
      "image/png": "[encoded data removed]",
      "text/plain": [
       "<Figure size 432x288 with 1 Axes>"
      ]
     },
     "metadata": {
      "needs_background": "light"
     },
     "output_type": "display_data"
    }
   ],
   "source": [
    "sgt.plot_acf(df_train.wn,lags=40,zero=False)\n",
    "plt.xlabel('Lags')\n",
    "plt.ylabel('WN')\n",
    "plt.title(\"WHITE NOISE\")"
   ]
  },
  {
   "cell_type": "code",
   "execution_count": 94,
   "metadata": {},
   "outputs": [],
   "source": [
    "###no autocorrelation in lags for white noise\n",
    "# White noise represents residuals which should be highly significant as shown by significance level\n",
    "# It means they are not similar or dependent on the past values"
   ]
  },
  {
   "cell_type": "markdown",
   "metadata": {},
   "source": [
    "# Partial Autocorrelation function"
   ]
  },
  {
   "cell_type": "code",
   "execution_count": 75,
   "metadata": {},
   "outputs": [
    {
     "data": {
      "text/plain": [
       "Text(0.5, 1.0, 'PACF LAG')"
      ]
     },
     "execution_count": 75,
     "metadata": {},
     "output_type": "execute_result"
    },
    {
     "data": {
      "image/png": "[encoded data removed]",
      "text/plain": [
       "<Figure size 432x288 with 1 Axes>"
      ]
     },
     "metadata": {
      "needs_background": "light"
     },
     "output_type": "display_data"
    }
   ],
   "source": [
    "sgt.plot_pacf(df_train.marketClose,lags=40,zero=False,alpha=0.5,method = 'ols')\n",
    "plt.xlabel('Lags')\n",
    "plt.ylabel('PACF')\n",
    "plt.title(\"PACF LAG\")"
   ]
  },
  {
   "cell_type": "code",
   "execution_count": 76,
   "metadata": {},
   "outputs": [],
   "source": [
    "###First lag for ACF and PACF is same because there is no value in between one lag and current price\n",
    "###After some lags all other values are nearly zero, doesn't have any significance so no affect"
   ]
  },
  {
   "cell_type": "code",
   "execution_count": 77,
   "metadata": {},
   "outputs": [
    {
     "data": {
      "text/plain": [
       "Text(0.5, 1.0, 'PACF WN')"
      ]
     },
     "execution_count": 77,
     "metadata": {},
     "output_type": "execute_result"
    },
    {
     "data": {
      "image/png": "[encoded data removed]",
      "text/plain": [
       "<Figure size 432x288 with 1 Axes>"
      ]
     },
     "metadata": {
      "needs_background": "light"
     },
     "output_type": "display_data"
    }
   ],
   "source": [
    "sgt.plot_pacf(df_train.wn,lags=40,zero=False,method = 'ols')\n",
    "plt.xlabel('Lags')\n",
    "plt.ylabel('PACF')\n",
    "plt.title(\"PACF WN\")"
   ]
  },
  {
   "cell_type": "code",
   "execution_count": 78,
   "metadata": {},
   "outputs": [],
   "source": [
    "###Again proved no autocorrelation in white noise"
   ]
  },
  {
   "cell_type": "markdown",
   "metadata": {},
   "source": [
    "# Autoregressive MA model for one lag"
   ]
  },
  {
   "cell_type": "code",
   "execution_count": 79,
   "metadata": {},
   "outputs": [],
   "source": [
    "# #An autoregressive model is when a value from a time series is regressed on previous values from that same time series. ... \n",
    "# The order of an autoregression is the number of immediately preceding values in the series that are used to predict the value\n",
    "# at the present time."
   ]
  },
  {
   "cell_type": "code",
   "execution_count": 64,
   "metadata": {},
   "outputs": [],
   "source": [
    "from statsmodels.tsa.arima_model import ARMA"
   ]
  },
  {
   "cell_type": "markdown",
   "metadata": {},
   "source": [
    "# AR 1 Model"
   ]
  },
  {
   "cell_type": "code",
   "execution_count": 81,
   "metadata": {},
   "outputs": [
    {
     "name": "stderr",
     "output_type": "stream",
     "text": [
      "C:\\Users\\TAN\\Anaconda3\\lib\\site-packages\\statsmodels\\tsa\\base\\tsa_model.py:219: ValueWarning: A date index has been provided, but it has no associated frequency information and so will be ignored when e.g. forecasting.\n",
      "  ' ignored when e.g. forecasting.', ValueWarning)\n"
     ]
    }
   ],
   "source": [
    "model_ar = ARMA(df_train.marketClose,order = (1,0))\n",
    "# 1 in order represent number of lags, 0 means not taking into residual values into the consideration\n",
    "# The above is the simple AR(1) model"
   ]
  },
  {
   "cell_type": "code",
   "execution_count": 82,
   "metadata": {},
   "outputs": [],
   "source": [
    "results_ar = model_ar.fit()"
   ]
  },
  {
   "cell_type": "code",
   "execution_count": 83,
   "metadata": {},
   "outputs": [
    {
     "data": {
      "text/html": [
       "<table class=\"simpletable\">\n",
       "<caption>ARMA Model Results</caption>\n",
       "<tr>\n",
       "  <th>Dep. Variable:</th>    <td>marketClose</td>   <th>  No. Observations:  </th>    <td>77061</td>   \n",
       "</tr>\n",
       "<tr>\n",
       "  <th>Model:</th>            <td>ARMA(1, 0)</td>    <th>  Log Likelihood     </th> <td>-247416.922</td>\n",
       "</tr>\n",
       "<tr>\n",
       "  <th>Method:</th>             <td>css-mle</td>     <th>  S.D. of innovations</th>    <td>6.000</td>   \n",
       "</tr>\n",
       "<tr>\n",
       "  <th>Date:</th>          <td>Tue, 19 May 2020</td> <th>  AIC                </th> <td>494839.843</td> \n",
       "</tr>\n",
       "<tr>\n",
       "  <th>Time:</th>              <td>20:46:43</td>     <th>  BIC                </th> <td>494867.600</td> \n",
       "</tr>\n",
       "<tr>\n",
       "  <th>Sample:</th>                <td>0</td>        <th>  HQIC               </th> <td>494848.367</td> \n",
       "</tr>\n",
       "<tr>\n",
       "  <th></th>                       <td> </td>        <th>                     </th>      <td> </td>     \n",
       "</tr>\n",
       "</table>\n",
       "<table class=\"simpletable\">\n",
       "<tr>\n",
       "          <td></td>             <th>coef</th>     <th>std err</th>      <th>z</th>      <th>P>|z|</th>  <th>[0.025</th>    <th>0.975]</th>  \n",
       "</tr>\n",
       "<tr>\n",
       "  <th>const</th>             <td>  307.4502</td> <td>    0.232</td> <td> 1325.761</td> <td> 0.000</td> <td>  306.996</td> <td>  307.905</td>\n",
       "</tr>\n",
       "<tr>\n",
       "  <th>ar.L1.marketClose</th> <td>    0.9068</td> <td>    0.002</td> <td>  597.205</td> <td> 0.000</td> <td>    0.904</td> <td>    0.910</td>\n",
       "</tr>\n",
       "</table>\n",
       "<table class=\"simpletable\">\n",
       "<caption>Roots</caption>\n",
       "<tr>\n",
       "    <td></td>   <th>            Real</th>  <th>         Imaginary</th> <th>         Modulus</th>  <th>        Frequency</th>\n",
       "</tr>\n",
       "<tr>\n",
       "  <th>AR.1</th> <td>           1.1028</td> <td>          +0.0000j</td> <td>           1.1028</td> <td>           0.0000</td>\n",
       "</tr>\n",
       "</table>"
      ],
      "text/plain": [
       "<class 'statsmodels.iolib.summary.Summary'>\n",
       "\"\"\"\n",
       "                              ARMA Model Results                              \n",
       "==============================================================================\n",
       "Dep. Variable:            marketClose   No. Observations:                77061\n",
       "Model:                     ARMA(1, 0)   Log Likelihood             -247416.922\n",
       "Method:                       css-mle   S.D. of innovations              6.000\n",
       "Date:                Tue, 19 May 2020   AIC                         494839.843\n",
       "Time:                        20:46:43   BIC                         494867.600\n",
       "Sample:                             0   HQIC                        494848.367\n",
       "                                                                              \n",
       "=====================================================================================\n",
       "                        coef    std err          z      P>|z|      [0.025      0.975]\n",
       "-------------------------------------------------------------------------------------\n",
       "const               307.4502      0.232   1325.761      0.000     306.996     307.905\n",
       "ar.L1.marketClose     0.9068      0.002    597.205      0.000       0.904       0.910\n",
       "                                    Roots                                    \n",
       "=============================================================================\n",
       "                  Real          Imaginary           Modulus         Frequency\n",
       "-----------------------------------------------------------------------------\n",
       "AR.1            1.1028           +0.0000j            1.1028            0.0000\n",
       "-----------------------------------------------------------------------------\n",
       "\"\"\""
      ]
     },
     "execution_count": 83,
     "metadata": {},
     "output_type": "execute_result"
    }
   ],
   "source": [
    "results_ar.summary()"
   ]
  },
  {
   "cell_type": "code",
   "execution_count": null,
   "metadata": {},
   "outputs": [],
   "source": [
    "# Always remember - model with lower AIC, BIC and higher Information criteria(IC) is better "
   ]
  },
  {
   "cell_type": "code",
   "execution_count": 84,
   "metadata": {},
   "outputs": [],
   "source": [
    "#const is the constant\n",
    "#ar.L1.market_value is the coefficient of 1 lag ago\n",
    "#standard error - how far away the model predictions from the true value\n",
    "#z value - associated test statistics for significance\n",
    "# p value = 0 means constant and one lag value are both significantly different from zero\n",
    "# last two columns represent the critical values for 95% confidence interval, if zero is not a part of it we can confirm that\n",
    "# coefficients are significant"
   ]
  },
  {
   "cell_type": "code",
   "execution_count": 85,
   "metadata": {},
   "outputs": [],
   "source": [
    "# Since one lag is significant, we move towards higher lag to build more accurate model which will be more complex"
   ]
  },
  {
   "cell_type": "markdown",
   "metadata": {},
   "source": [
    "# Fitting Higher -Lags AR models for Prices"
   ]
  },
  {
   "cell_type": "markdown",
   "metadata": {},
   "source": [
    "# AR 2 Model"
   ]
  },
  {
   "cell_type": "code",
   "execution_count": 86,
   "metadata": {},
   "outputs": [
    {
     "name": "stderr",
     "output_type": "stream",
     "text": [
      "C:\\Users\\TAN\\Anaconda3\\lib\\site-packages\\statsmodels\\tsa\\base\\tsa_model.py:219: ValueWarning: A date index has been provided, but it has no associated frequency information and so will be ignored when e.g. forecasting.\n",
      "  ' ignored when e.g. forecasting.', ValueWarning)\n"
     ]
    },
    {
     "data": {
      "text/html": [
       "<table class=\"simpletable\">\n",
       "<caption>ARMA Model Results</caption>\n",
       "<tr>\n",
       "  <th>Dep. Variable:</th>    <td>marketClose</td>   <th>  No. Observations:  </th>    <td>77061</td>   \n",
       "</tr>\n",
       "<tr>\n",
       "  <th>Model:</th>            <td>ARMA(2, 0)</td>    <th>  Log Likelihood     </th> <td>-237454.073</td>\n",
       "</tr>\n",
       "<tr>\n",
       "  <th>Method:</th>             <td>css-mle</td>     <th>  S.D. of innovations</th>    <td>5.272</td>   \n",
       "</tr>\n",
       "<tr>\n",
       "  <th>Date:</th>          <td>Tue, 19 May 2020</td> <th>  AIC                </th> <td>474916.147</td> \n",
       "</tr>\n",
       "<tr>\n",
       "  <th>Time:</th>              <td>20:46:49</td>     <th>  BIC                </th> <td>474953.156</td> \n",
       "</tr>\n",
       "<tr>\n",
       "  <th>Sample:</th>                <td>0</td>        <th>  HQIC               </th> <td>474927.512</td> \n",
       "</tr>\n",
       "<tr>\n",
       "  <th></th>                       <td> </td>        <th>                     </th>      <td> </td>     \n",
       "</tr>\n",
       "</table>\n",
       "<table class=\"simpletable\">\n",
       "<tr>\n",
       "          <td></td>             <th>coef</th>     <th>std err</th>      <th>z</th>      <th>P>|z|</th>  <th>[0.025</th>    <th>0.975]</th>  \n",
       "</tr>\n",
       "<tr>\n",
       "  <th>const</th>             <td>  307.4529</td> <td>    0.390</td> <td>  788.665</td> <td> 0.000</td> <td>  306.689</td> <td>  308.217</td>\n",
       "</tr>\n",
       "<tr>\n",
       "  <th>ar.L1.marketClose</th> <td>    0.4740</td> <td>    0.003</td> <td>  149.733</td> <td> 0.000</td> <td>    0.468</td> <td>    0.480</td>\n",
       "</tr>\n",
       "<tr>\n",
       "  <th>ar.L2.marketClose</th> <td>    0.4773</td> <td>    0.003</td> <td>  150.796</td> <td> 0.000</td> <td>    0.471</td> <td>    0.484</td>\n",
       "</tr>\n",
       "</table>\n",
       "<table class=\"simpletable\">\n",
       "<caption>Roots</caption>\n",
       "<tr>\n",
       "    <td></td>   <th>            Real</th>  <th>         Imaginary</th> <th>         Modulus</th>  <th>        Frequency</th>\n",
       "</tr>\n",
       "<tr>\n",
       "  <th>AR.1</th> <td>           1.0337</td> <td>          +0.0000j</td> <td>           1.0337</td> <td>           0.0000</td>\n",
       "</tr>\n",
       "<tr>\n",
       "  <th>AR.2</th> <td>          -2.0266</td> <td>          +0.0000j</td> <td>           2.0266</td> <td>           0.5000</td>\n",
       "</tr>\n",
       "</table>"
      ],
      "text/plain": [
       "<class 'statsmodels.iolib.summary.Summary'>\n",
       "\"\"\"\n",
       "                              ARMA Model Results                              \n",
       "==============================================================================\n",
       "Dep. Variable:            marketClose   No. Observations:                77061\n",
       "Model:                     ARMA(2, 0)   Log Likelihood             -237454.073\n",
       "Method:                       css-mle   S.D. of innovations              5.272\n",
       "Date:                Tue, 19 May 2020   AIC                         474916.147\n",
       "Time:                        20:46:49   BIC                         474953.156\n",
       "Sample:                             0   HQIC                        474927.512\n",
       "                                                                              \n",
       "=====================================================================================\n",
       "                        coef    std err          z      P>|z|      [0.025      0.975]\n",
       "-------------------------------------------------------------------------------------\n",
       "const               307.4529      0.390    788.665      0.000     306.689     308.217\n",
       "ar.L1.marketClose     0.4740      0.003    149.733      0.000       0.468       0.480\n",
       "ar.L2.marketClose     0.4773      0.003    150.796      0.000       0.471       0.484\n",
       "                                    Roots                                    \n",
       "=============================================================================\n",
       "                  Real          Imaginary           Modulus         Frequency\n",
       "-----------------------------------------------------------------------------\n",
       "AR.1            1.0337           +0.0000j            1.0337            0.0000\n",
       "AR.2           -2.0266           +0.0000j            2.0266            0.5000\n",
       "-----------------------------------------------------------------------------\n",
       "\"\"\""
      ]
     },
     "execution_count": 86,
     "metadata": {},
     "output_type": "execute_result"
    }
   ],
   "source": [
    "model_ar_2 = ARMA(df_train.marketClose,order = [2,0])\n",
    "results_ar_2 = model_ar_2.fit()\n",
    "results_ar_2.summary()"
   ]
  },
  {
   "cell_type": "code",
   "execution_count": 87,
   "metadata": {},
   "outputs": [
    {
     "name": "stderr",
     "output_type": "stream",
     "text": [
      "C:\\Users\\TAN\\Anaconda3\\lib\\site-packages\\statsmodels\\tsa\\base\\tsa_model.py:219: ValueWarning: A date index has been provided, but it has no associated frequency information and so will be ignored when e.g. forecasting.\n",
      "  ' ignored when e.g. forecasting.', ValueWarning)\n"
     ]
    },
    {
     "data": {
      "text/html": [
       "<table class=\"simpletable\">\n",
       "<caption>ARMA Model Results</caption>\n",
       "<tr>\n",
       "  <th>Dep. Variable:</th>    <td>marketClose</td>   <th>  No. Observations:  </th>    <td>77061</td>   \n",
       "</tr>\n",
       "<tr>\n",
       "  <th>Model:</th>            <td>ARMA(3, 0)</td>    <th>  Log Likelihood     </th> <td>-233260.139</td>\n",
       "</tr>\n",
       "<tr>\n",
       "  <th>Method:</th>             <td>css-mle</td>     <th>  S.D. of innovations</th>    <td>4.993</td>   \n",
       "</tr>\n",
       "<tr>\n",
       "  <th>Date:</th>          <td>Tue, 19 May 2020</td> <th>  AIC                </th> <td>466530.278</td> \n",
       "</tr>\n",
       "<tr>\n",
       "  <th>Time:</th>              <td>20:46:51</td>     <th>  BIC                </th> <td>466576.539</td> \n",
       "</tr>\n",
       "<tr>\n",
       "  <th>Sample:</th>                <td>0</td>        <th>  HQIC               </th> <td>466544.483</td> \n",
       "</tr>\n",
       "<tr>\n",
       "  <th></th>                       <td> </td>        <th>                     </th>      <td> </td>     \n",
       "</tr>\n",
       "</table>\n",
       "<table class=\"simpletable\">\n",
       "<tr>\n",
       "          <td></td>             <th>coef</th>     <th>std err</th>      <th>z</th>      <th>P>|z|</th>  <th>[0.025</th>    <th>0.975]</th>  \n",
       "</tr>\n",
       "<tr>\n",
       "  <th>const</th>             <td>  307.4578</td> <td>    0.544</td> <td>  565.363</td> <td> 0.000</td> <td>  306.392</td> <td>  308.524</td>\n",
       "</tr>\n",
       "<tr>\n",
       "  <th>ar.L1.marketClose</th> <td>    0.3207</td> <td>    0.003</td> <td>   93.996</td> <td> 0.000</td> <td>    0.314</td> <td>    0.327</td>\n",
       "</tr>\n",
       "<tr>\n",
       "  <th>ar.L2.marketClose</th> <td>    0.3251</td> <td>    0.003</td> <td>   95.459</td> <td> 0.000</td> <td>    0.318</td> <td>    0.332</td>\n",
       "</tr>\n",
       "<tr>\n",
       "  <th>ar.L3.marketClose</th> <td>    0.3212</td> <td>    0.003</td> <td>   94.136</td> <td> 0.000</td> <td>    0.314</td> <td>    0.328</td>\n",
       "</tr>\n",
       "</table>\n",
       "<table class=\"simpletable\">\n",
       "<caption>Roots</caption>\n",
       "<tr>\n",
       "    <td></td>   <th>            Real</th>  <th>         Imaginary</th> <th>         Modulus</th>  <th>        Frequency</th>\n",
       "</tr>\n",
       "<tr>\n",
       "  <th>AR.1</th> <td>           1.0169</td> <td>          -0.0000j</td> <td>           1.0169</td> <td>          -0.0000</td>\n",
       "</tr>\n",
       "<tr>\n",
       "  <th>AR.2</th> <td>          -1.0146</td> <td>          -1.4257j</td> <td>           1.7499</td> <td>          -0.3484</td>\n",
       "</tr>\n",
       "<tr>\n",
       "  <th>AR.3</th> <td>          -1.0146</td> <td>          +1.4257j</td> <td>           1.7499</td> <td>           0.3484</td>\n",
       "</tr>\n",
       "</table>"
      ],
      "text/plain": [
       "<class 'statsmodels.iolib.summary.Summary'>\n",
       "\"\"\"\n",
       "                              ARMA Model Results                              \n",
       "==============================================================================\n",
       "Dep. Variable:            marketClose   No. Observations:                77061\n",
       "Model:                     ARMA(3, 0)   Log Likelihood             -233260.139\n",
       "Method:                       css-mle   S.D. of innovations              4.993\n",
       "Date:                Tue, 19 May 2020   AIC                         466530.278\n",
       "Time:                        20:46:51   BIC                         466576.539\n",
       "Sample:                             0   HQIC                        466544.483\n",
       "                                                                              \n",
       "=====================================================================================\n",
       "                        coef    std err          z      P>|z|      [0.025      0.975]\n",
       "-------------------------------------------------------------------------------------\n",
       "const               307.4578      0.544    565.363      0.000     306.392     308.524\n",
       "ar.L1.marketClose     0.3207      0.003     93.996      0.000       0.314       0.327\n",
       "ar.L2.marketClose     0.3251      0.003     95.459      0.000       0.318       0.332\n",
       "ar.L3.marketClose     0.3212      0.003     94.136      0.000       0.314       0.328\n",
       "                                    Roots                                    \n",
       "=============================================================================\n",
       "                  Real          Imaginary           Modulus         Frequency\n",
       "-----------------------------------------------------------------------------\n",
       "AR.1            1.0169           -0.0000j            1.0169           -0.0000\n",
       "AR.2           -1.0146           -1.4257j            1.7499           -0.3484\n",
       "AR.3           -1.0146           +1.4257j            1.7499            0.3484\n",
       "-----------------------------------------------------------------------------\n",
       "\"\"\""
      ]
     },
     "execution_count": 87,
     "metadata": {},
     "output_type": "execute_result"
    }
   ],
   "source": [
    "model_ar_3 = ARMA(df_train.marketClose,order = [3,0])\n",
    "results_ar_3 = model_ar_3.fit()\n",
    "results_ar_3.summary()"
   ]
  },
  {
   "cell_type": "code",
   "execution_count": 88,
   "metadata": {},
   "outputs": [
    {
     "name": "stderr",
     "output_type": "stream",
     "text": [
      "C:\\Users\\TAN\\Anaconda3\\lib\\site-packages\\statsmodels\\tsa\\base\\tsa_model.py:219: ValueWarning: A date index has been provided, but it has no associated frequency information and so will be ignored when e.g. forecasting.\n",
      "  ' ignored when e.g. forecasting.', ValueWarning)\n"
     ]
    },
    {
     "data": {
      "text/html": [
       "<table class=\"simpletable\">\n",
       "<caption>ARMA Model Results</caption>\n",
       "<tr>\n",
       "  <th>Dep. Variable:</th>    <td>marketClose</td>   <th>  No. Observations:  </th>    <td>77061</td>   \n",
       "</tr>\n",
       "<tr>\n",
       "  <th>Model:</th>            <td>ARMA(4, 0)</td>    <th>  Log Likelihood     </th> <td>-230846.545</td>\n",
       "</tr>\n",
       "<tr>\n",
       "  <th>Method:</th>             <td>css-mle</td>     <th>  S.D. of innovations</th>    <td>4.839</td>   \n",
       "</tr>\n",
       "<tr>\n",
       "  <th>Date:</th>          <td>Tue, 19 May 2020</td> <th>  AIC                </th> <td>461705.089</td> \n",
       "</tr>\n",
       "<tr>\n",
       "  <th>Time:</th>              <td>20:46:54</td>     <th>  BIC                </th> <td>461760.603</td> \n",
       "</tr>\n",
       "<tr>\n",
       "  <th>Sample:</th>                <td>0</td>        <th>  HQIC               </th> <td>461722.136</td> \n",
       "</tr>\n",
       "<tr>\n",
       "  <th></th>                       <td> </td>        <th>                     </th>      <td> </td>     \n",
       "</tr>\n",
       "</table>\n",
       "<table class=\"simpletable\">\n",
       "<tr>\n",
       "          <td></td>             <th>coef</th>     <th>std err</th>      <th>z</th>      <th>P>|z|</th>  <th>[0.025</th>    <th>0.975]</th>  \n",
       "</tr>\n",
       "<tr>\n",
       "  <th>const</th>             <td>  307.4641</td> <td>    0.699</td> <td>  439.646</td> <td> 0.000</td> <td>  306.093</td> <td>  308.835</td>\n",
       "</tr>\n",
       "<tr>\n",
       "  <th>ar.L1.marketClose</th> <td>    0.2415</td> <td>    0.003</td> <td>   69.182</td> <td> 0.000</td> <td>    0.235</td> <td>    0.248</td>\n",
       "</tr>\n",
       "<tr>\n",
       "  <th>ar.L2.marketClose</th> <td>    0.2450</td> <td>    0.003</td> <td>   70.192</td> <td> 0.000</td> <td>    0.238</td> <td>    0.252</td>\n",
       "</tr>\n",
       "<tr>\n",
       "  <th>ar.L3.marketClose</th> <td>    0.2421</td> <td>    0.003</td> <td>   69.366</td> <td> 0.000</td> <td>    0.235</td> <td>    0.249</td>\n",
       "</tr>\n",
       "<tr>\n",
       "  <th>ar.L4.marketClose</th> <td>    0.2464</td> <td>    0.003</td> <td>   70.581</td> <td> 0.000</td> <td>    0.240</td> <td>    0.253</td>\n",
       "</tr>\n",
       "</table>\n",
       "<table class=\"simpletable\">\n",
       "<caption>Roots</caption>\n",
       "<tr>\n",
       "    <td></td>   <th>            Real</th>  <th>         Imaginary</th> <th>         Modulus</th>  <th>        Frequency</th>\n",
       "</tr>\n",
       "<tr>\n",
       "  <th>AR.1</th> <td>           1.0101</td> <td>          -0.0000j</td> <td>           1.0101</td> <td>          -0.0000</td>\n",
       "</tr>\n",
       "<tr>\n",
       "  <th>AR.2</th> <td>          -1.6476</td> <td>          -0.0000j</td> <td>           1.6476</td> <td>          -0.5000</td>\n",
       "</tr>\n",
       "<tr>\n",
       "  <th>AR.3</th> <td>          -0.1726</td> <td>          -1.5520j</td> <td>           1.5616</td> <td>          -0.2676</td>\n",
       "</tr>\n",
       "<tr>\n",
       "  <th>AR.4</th> <td>          -0.1726</td> <td>          +1.5520j</td> <td>           1.5616</td> <td>           0.2676</td>\n",
       "</tr>\n",
       "</table>"
      ],
      "text/plain": [
       "<class 'statsmodels.iolib.summary.Summary'>\n",
       "\"\"\"\n",
       "                              ARMA Model Results                              \n",
       "==============================================================================\n",
       "Dep. Variable:            marketClose   No. Observations:                77061\n",
       "Model:                     ARMA(4, 0)   Log Likelihood             -230846.545\n",
       "Method:                       css-mle   S.D. of innovations              4.839\n",
       "Date:                Tue, 19 May 2020   AIC                         461705.089\n",
       "Time:                        20:46:54   BIC                         461760.603\n",
       "Sample:                             0   HQIC                        461722.136\n",
       "                                                                              \n",
       "=====================================================================================\n",
       "                        coef    std err          z      P>|z|      [0.025      0.975]\n",
       "-------------------------------------------------------------------------------------\n",
       "const               307.4641      0.699    439.646      0.000     306.093     308.835\n",
       "ar.L1.marketClose     0.2415      0.003     69.182      0.000       0.235       0.248\n",
       "ar.L2.marketClose     0.2450      0.003     70.192      0.000       0.238       0.252\n",
       "ar.L3.marketClose     0.2421      0.003     69.366      0.000       0.235       0.249\n",
       "ar.L4.marketClose     0.2464      0.003     70.581      0.000       0.240       0.253\n",
       "                                    Roots                                    \n",
       "=============================================================================\n",
       "                  Real          Imaginary           Modulus         Frequency\n",
       "-----------------------------------------------------------------------------\n",
       "AR.1            1.0101           -0.0000j            1.0101           -0.0000\n",
       "AR.2           -1.6476           -0.0000j            1.6476           -0.5000\n",
       "AR.3           -0.1726           -1.5520j            1.5616           -0.2676\n",
       "AR.4           -0.1726           +1.5520j            1.5616            0.2676\n",
       "-----------------------------------------------------------------------------\n",
       "\"\"\""
      ]
     },
     "execution_count": 88,
     "metadata": {},
     "output_type": "execute_result"
    }
   ],
   "source": [
    "model_ar_4 = ARMA(df_train.marketClose,order = [4,0])\n",
    "results_ar_4 = model_ar_4.fit()\n",
    "results_ar_4.summary()"
   ]
  },
  {
   "cell_type": "code",
   "execution_count": 89,
   "metadata": {
    "scrolled": true
   },
   "outputs": [
    {
     "name": "stderr",
     "output_type": "stream",
     "text": [
      "C:\\Users\\TAN\\Anaconda3\\lib\\site-packages\\statsmodels\\tsa\\base\\tsa_model.py:219: ValueWarning: A date index has been provided, but it has no associated frequency information and so will be ignored when e.g. forecasting.\n",
      "  ' ignored when e.g. forecasting.', ValueWarning)\n"
     ]
    },
    {
     "name": "stdout",
     "output_type": "stream",
     "text": [
      "                              ARMA Model Results                              \n",
      "==============================================================================\n",
      "Dep. Variable:            marketClose   No. Observations:                77061\n",
      "Model:                     ARMA(5, 0)   Log Likelihood             -229420.397\n",
      "Method:                       css-mle   S.D. of innovations              4.750\n",
      "Date:                Tue, 19 May 2020   AIC                         458854.794\n",
      "Time:                        20:46:59   BIC                         458919.560\n",
      "Sample:                             0   HQIC                        458874.682\n",
      "                                                                              \n",
      "=====================================================================================\n",
      "                        coef    std err          z      P>|z|      [0.025      0.975]\n",
      "-------------------------------------------------------------------------------------\n",
      "const               307.4727      0.848    362.478      0.000     305.810     309.135\n",
      "ar.L1.marketClose     0.1946      0.004     55.016      0.000       0.188       0.201\n",
      "ar.L2.marketClose     0.1989      0.004     56.302      0.000       0.192       0.206\n",
      "ar.L3.marketClose     0.1954      0.004     55.295      0.000       0.189       0.202\n",
      "ar.L4.marketClose     0.2004      0.004     56.732      0.000       0.193       0.207\n",
      "ar.L5.marketClose     0.1906      0.004     53.905      0.000       0.184       0.198\n",
      "                                    Roots                                    \n",
      "=============================================================================\n",
      "                  Real          Imaginary           Modulus         Frequency\n",
      "-----------------------------------------------------------------------------\n",
      "AR.1            1.0068           -0.0000j            1.0068           -0.0000\n",
      "AR.2            0.2824           -1.4272j            1.4549           -0.2189\n",
      "AR.3            0.2824           +1.4272j            1.4549            0.2189\n",
      "AR.4           -1.3113           -0.8613j            1.5689           -0.4075\n",
      "AR.5           -1.3113           +0.8613j            1.5689            0.4075\n",
      "-----------------------------------------------------------------------------\n"
     ]
    }
   ],
   "source": [
    "model_ar_5 = ARMA(df_train.marketClose,order = (5,0))\n",
    "results_ar_5 = model_ar_5.fit()\n",
    "print(results_ar_5.summary())"
   ]
  },
  {
   "cell_type": "code",
   "execution_count": 90,
   "metadata": {},
   "outputs": [],
   "source": [
    "# Higher Log Likelihood and lower Information Criteris means better model"
   ]
  },
  {
   "cell_type": "code",
   "execution_count": 91,
   "metadata": {},
   "outputs": [],
   "source": [
    "## Log likelihood should increas and information criteria(AIC,BIC,HQIC) should decrease\n",
    "# p < 0.05 --> lags are significant different and can be used for prediction\n",
    "# p > 0.05 ---> Insignigicant to predict using this lag"
   ]
  },
  {
   "cell_type": "code",
   "execution_count": 92,
   "metadata": {},
   "outputs": [],
   "source": [
    "# Log Likelohood test to compare multiple lag models and decide till what lag we can take"
   ]
  },
  {
   "cell_type": "code",
   "execution_count": 93,
   "metadata": {},
   "outputs": [],
   "source": [
    "#In statistics, the likelihood-ratio test assesses the goodness of fit of two competing statistical \n",
    "#models based on the ratio of their likelihoods, specifically one found by maximization over \n",
    "#the entire parameter space and another found after imposing some constraint\n",
    "# more lags more better model"
   ]
  },
  {
   "cell_type": "code",
   "execution_count": 34,
   "metadata": {},
   "outputs": [],
   "source": [
    "from scipy.stats import chi2\n",
    "def LLR(mod1,mod2,DF=1):\n",
    "    L1 = mod1.llf\n",
    "    L2 = mod2.llf\n",
    "    LR = (2*(L2-L1))\n",
    "    p = chi2.sf(LR,DF).round(3)\n",
    "    return p"
   ]
  },
  {
   "cell_type": "code",
   "execution_count": 95,
   "metadata": {},
   "outputs": [
    {
     "data": {
      "text/plain": [
       "0.0"
      ]
     },
     "execution_count": 95,
     "metadata": {},
     "output_type": "execute_result"
    }
   ],
   "source": [
    "LLR(results_ar_2,results_ar_3)"
   ]
  },
  {
   "cell_type": "code",
   "execution_count": 96,
   "metadata": {},
   "outputs": [
    {
     "name": "stderr",
     "output_type": "stream",
     "text": [
      "C:\\Users\\TAN\\Anaconda3\\lib\\site-packages\\statsmodels\\tsa\\base\\tsa_model.py:219: ValueWarning: A date index has been provided, but it has no associated frequency information and so will be ignored when e.g. forecasting.\n",
      "  ' ignored when e.g. forecasting.', ValueWarning)\n"
     ]
    },
    {
     "name": "stdout",
     "output_type": "stream",
     "text": [
      "                              ARMA Model Results                              \n",
      "==============================================================================\n",
      "Dep. Variable:            marketClose   No. Observations:                77061\n",
      "Model:                     ARMA(5, 0)   Log Likelihood             -229420.397\n",
      "Method:                       css-mle   S.D. of innovations              4.750\n",
      "Date:                Tue, 19 May 2020   AIC                         458854.794\n",
      "Time:                        20:47:19   BIC                         458919.560\n",
      "Sample:                             0   HQIC                        458874.682\n",
      "                                                                              \n",
      "=====================================================================================\n",
      "                        coef    std err          z      P>|z|      [0.025      0.975]\n",
      "-------------------------------------------------------------------------------------\n",
      "const               307.4727      0.848    362.478      0.000     305.810     309.135\n",
      "ar.L1.marketClose     0.1946      0.004     55.016      0.000       0.188       0.201\n",
      "ar.L2.marketClose     0.1989      0.004     56.302      0.000       0.192       0.206\n",
      "ar.L3.marketClose     0.1954      0.004     55.295      0.000       0.189       0.202\n",
      "ar.L4.marketClose     0.2004      0.004     56.732      0.000       0.193       0.207\n",
      "ar.L5.marketClose     0.1906      0.004     53.905      0.000       0.184       0.198\n",
      "                                    Roots                                    \n",
      "=============================================================================\n",
      "                  Real          Imaginary           Modulus         Frequency\n",
      "-----------------------------------------------------------------------------\n",
      "AR.1            1.0068           -0.0000j            1.0068           -0.0000\n",
      "AR.2            0.2824           -1.4272j            1.4549           -0.2189\n",
      "AR.3            0.2824           +1.4272j            1.4549            0.2189\n",
      "AR.4           -1.3113           -0.8613j            1.5689           -0.4075\n",
      "AR.5           -1.3113           +0.8613j            1.5689            0.4075\n",
      "-----------------------------------------------------------------------------\n",
      "LLR Test: 0.0\n"
     ]
    }
   ],
   "source": [
    "model_ar_5 = ARMA(df_train.marketClose,order = (5,0))\n",
    "results_ar_5 = model_ar_5.fit()\n",
    "print(results_ar_5.summary())\n",
    "print(\"LLR Test: \" + str(LLR(results_ar_2,results_ar_5)))"
   ]
  },
  {
   "cell_type": "code",
   "execution_count": 97,
   "metadata": {},
   "outputs": [
    {
     "name": "stderr",
     "output_type": "stream",
     "text": [
      "C:\\Users\\TAN\\Anaconda3\\lib\\site-packages\\statsmodels\\tsa\\base\\tsa_model.py:219: ValueWarning: A date index has been provided, but it has no associated frequency information and so will be ignored when e.g. forecasting.\n",
      "  ' ignored when e.g. forecasting.', ValueWarning)\n"
     ]
    },
    {
     "name": "stdout",
     "output_type": "stream",
     "text": [
      "                              ARMA Model Results                              \n",
      "==============================================================================\n",
      "Dep. Variable:            marketClose   No. Observations:                77061\n",
      "Model:                     ARMA(6, 0)   Log Likelihood             -228407.058\n",
      "Method:                       css-mle   S.D. of innovations              4.688\n",
      "Date:                Tue, 19 May 2020   AIC                         456830.116\n",
      "Time:                        20:47:48   BIC                         456904.135\n",
      "Sample:                             0   HQIC                        456852.845\n",
      "                                                                              \n",
      "=====================================================================================\n",
      "                        coef    std err          z      P>|z|      [0.025      0.975]\n",
      "-------------------------------------------------------------------------------------\n",
      "const               307.4827      0.998    308.108      0.000     305.527     309.439\n",
      "ar.L1.marketClose     0.1638      0.004     46.084      0.000       0.157       0.171\n",
      "ar.L2.marketClose     0.1666      0.004     46.818      0.000       0.160       0.174\n",
      "ar.L3.marketClose     0.1640      0.004     46.095      0.000       0.157       0.171\n",
      "ar.L4.marketClose     0.1684      0.004     47.331      0.000       0.161       0.175\n",
      "ar.L5.marketClose     0.1593      0.004     44.768      0.000       0.152       0.166\n",
      "ar.L6.marketClose     0.1611      0.004     45.316      0.000       0.154       0.168\n",
      "                                    Roots                                    \n",
      "=============================================================================\n",
      "                  Real          Imaginary           Modulus         Frequency\n",
      "-----------------------------------------------------------------------------\n",
      "AR.1            1.0049           -0.0000j            1.0049           -0.0000\n",
      "AR.2            0.5539           -1.2646j            1.3805           -0.1843\n",
      "AR.3            0.5539           +1.2646j            1.3805            0.1843\n",
      "AR.4           -1.4886           -0.0000j            1.4886           -0.5000\n",
      "AR.5           -0.8063           -1.2357j            1.4755           -0.3420\n",
      "AR.6           -0.8063           +1.2357j            1.4755            0.3420\n",
      "-----------------------------------------------------------------------------\n",
      "LLR Test: 0.0\n"
     ]
    }
   ],
   "source": [
    "model_ar_6 = ARMA(df_train.marketClose,order = (6,0))\n",
    "results_ar_6 = model_ar_6.fit()\n",
    "print(results_ar_6.summary())\n",
    "print(\"LLR Test: \" + str(LLR(results_ar_2,results_ar_6)))"
   ]
  },
  {
   "cell_type": "code",
   "execution_count": 98,
   "metadata": {},
   "outputs": [
    {
     "name": "stderr",
     "output_type": "stream",
     "text": [
      "C:\\Users\\TAN\\Anaconda3\\lib\\site-packages\\statsmodels\\tsa\\base\\tsa_model.py:219: ValueWarning: A date index has been provided, but it has no associated frequency information and so will be ignored when e.g. forecasting.\n",
      "  ' ignored when e.g. forecasting.', ValueWarning)\n"
     ]
    },
    {
     "name": "stdout",
     "output_type": "stream",
     "text": [
      "                              ARMA Model Results                              \n",
      "==============================================================================\n",
      "Dep. Variable:            marketClose   No. Observations:                77061\n",
      "Model:                     ARMA(7, 0)   Log Likelihood             -227616.280\n",
      "Method:                       css-mle   S.D. of innovations              4.640\n",
      "Date:                Tue, 19 May 2020   AIC                         455250.561\n",
      "Time:                        20:47:55   BIC                         455333.832\n",
      "Sample:                             0   HQIC                        455276.131\n",
      "                                                                              \n",
      "=====================================================================================\n",
      "                        coef    std err          z      P>|z|      [0.025      0.975]\n",
      "-------------------------------------------------------------------------------------\n",
      "const               307.4972      1.152    266.923      0.000     305.239     309.755\n",
      "ar.L1.marketClose     0.1409      0.004     39.510      0.000       0.134       0.148\n",
      "ar.L2.marketClose     0.1439      0.004     40.333      0.000       0.137       0.151\n",
      "ar.L3.marketClose     0.1400      0.004     39.189      0.000       0.133       0.147\n",
      "ar.L4.marketClose     0.1450      0.004     40.626      0.000       0.138       0.152\n",
      "ar.L5.marketClose     0.1356      0.004     37.954      0.000       0.129       0.143\n",
      "ar.L6.marketClose     0.1378      0.004     38.620      0.000       0.131       0.145\n",
      "ar.L7.marketClose     0.1425      0.004     39.974      0.000       0.136       0.150\n",
      "                                    Roots                                    \n",
      "=============================================================================\n",
      "                  Real          Imaginary           Modulus         Frequency\n",
      "-----------------------------------------------------------------------------\n",
      "AR.1            1.0037           -0.0000j            1.0037           -0.0000\n",
      "AR.2            0.7173           -1.1092j            1.3210           -0.1586\n",
      "AR.3            0.7173           +1.1092j            1.3210            0.1586\n",
      "AR.4           -0.3945           -1.3394j            1.3962           -0.2956\n",
      "AR.5           -0.3945           +1.3394j            1.3962            0.2956\n",
      "AR.6           -1.3080           -0.5867j            1.4335           -0.4329\n",
      "AR.7           -1.3080           +0.5867j            1.4335            0.4329\n",
      "-----------------------------------------------------------------------------\n",
      "LLR Test: 0.0\n"
     ]
    }
   ],
   "source": [
    "model_ar_7 = ARMA(df_train.marketClose,order = (7,0))\n",
    "results_ar_7 = model_ar_7.fit()\n",
    "print(results_ar_7.summary())\n",
    "print(\"LLR Test: \" + str(LLR(results_ar_6,results_ar_7)))"
   ]
  },
  {
   "cell_type": "code",
   "execution_count": 93,
   "metadata": {},
   "outputs": [
    {
     "name": "stderr",
     "output_type": "stream",
     "text": [
      "C:\\Users\\TAN\\Anaconda3\\lib\\site-packages\\statsmodels\\tsa\\base\\tsa_model.py:219: ValueWarning: A date index has been provided, but it has no associated frequency information and so will be ignored when e.g. forecasting.\n",
      "  ' ignored when e.g. forecasting.', ValueWarning)\n"
     ]
    },
    {
     "name": "stdout",
     "output_type": "stream",
     "text": [
      "                              ARMA Model Results                              \n",
      "==============================================================================\n",
      "Dep. Variable:            marketClose   No. Observations:                77061\n",
      "Model:                     ARMA(8, 0)   Log Likelihood             -227032.698\n",
      "Method:                       css-mle   S.D. of innovations              4.605\n",
      "Date:                Tue, 05 May 2020   AIC                         454085.397\n",
      "Time:                        14:35:40   BIC                         454177.920\n",
      "Sample:                             0   HQIC                        454113.808\n",
      "                                                                              \n",
      "=====================================================================================\n",
      "                        coef    std err          z      P>|z|      [0.025      0.975]\n",
      "-------------------------------------------------------------------------------------\n",
      "const               307.5089      1.303    235.961      0.000     304.955     310.063\n",
      "ar.L1.marketClose     0.1234      0.004     34.515      0.000       0.116       0.130\n",
      "ar.L2.marketClose     0.1270      0.004     35.526      0.000       0.120       0.134\n",
      "ar.L3.marketClose     0.1233      0.004     34.479      0.000       0.116       0.130\n",
      "ar.L4.marketClose     0.1272      0.004     35.537      0.000       0.120       0.134\n",
      "ar.L5.marketClose     0.1184      0.004     33.075      0.000       0.111       0.125\n",
      "ar.L6.marketClose     0.1201      0.004     33.580      0.000       0.113       0.127\n",
      "ar.L7.marketClose     0.1253      0.004     35.044      0.000       0.118       0.132\n",
      "ar.L8.marketClose     0.1226      0.004     34.294      0.000       0.116       0.130\n",
      "                                    Roots                                    \n",
      "=============================================================================\n",
      "                  Real          Imaginary           Modulus         Frequency\n",
      "-----------------------------------------------------------------------------\n",
      "AR.1            1.0028           -0.0000j            1.0028           -0.0000\n",
      "AR.2            0.8152           -0.9835j            1.2774           -0.1399\n",
      "AR.3            0.8152           +0.9835j            1.2774            0.1399\n",
      "AR.4           -0.0986           -1.3448j            1.3484           -0.2616\n",
      "AR.5           -0.0986           +1.3448j            1.3484            0.2616\n",
      "AR.6           -1.4027           -0.0000j            1.4027           -0.5000\n",
      "AR.7           -1.0274           -0.9480j            1.3979           -0.3814\n",
      "AR.8           -1.0274           +0.9480j            1.3979            0.3814\n",
      "-----------------------------------------------------------------------------\n",
      "LLR Test: 0.0\n"
     ]
    }
   ],
   "source": [
    "model_ar_8 = ARMA(df_train.marketClose,order = (8,0))\n",
    "results_ar_8 = model_ar_8.fit()\n",
    "print(results_ar_8.summary())\n",
    "print(\"LLR Test: \" + str(LLR(results_ar_7,results_ar_8)))"
   ]
  },
  {
   "cell_type": "code",
   "execution_count": 94,
   "metadata": {},
   "outputs": [
    {
     "name": "stderr",
     "output_type": "stream",
     "text": [
      "C:\\Users\\TAN\\Anaconda3\\lib\\site-packages\\statsmodels\\tsa\\base\\tsa_model.py:219: ValueWarning: A date index has been provided, but it has no associated frequency information and so will be ignored when e.g. forecasting.\n",
      "  ' ignored when e.g. forecasting.', ValueWarning)\n"
     ]
    },
    {
     "name": "stdout",
     "output_type": "stream",
     "text": [
      "                              ARMA Model Results                              \n",
      "==============================================================================\n",
      "Dep. Variable:            marketClose   No. Observations:                77061\n",
      "Model:                     ARMA(9, 0)   Log Likelihood             -226583.220\n",
      "Method:                       css-mle   S.D. of innovations              4.578\n",
      "Date:                Tue, 05 May 2020   AIC                         453188.440\n",
      "Time:                        14:35:57   BIC                         453290.216\n",
      "Sample:                             0   HQIC                        453219.693\n",
      "                                                                              \n",
      "=====================================================================================\n",
      "                        coef    std err          z      P>|z|      [0.025      0.975]\n",
      "-------------------------------------------------------------------------------------\n",
      "const               307.5249      1.452    211.724      0.000     304.678     310.372\n",
      "ar.L1.marketClose     0.1102      0.004     30.767      0.000       0.103       0.117\n",
      "ar.L2.marketClose     0.1135      0.004     31.685      0.000       0.106       0.121\n",
      "ar.L3.marketClose     0.1104      0.004     30.819      0.000       0.103       0.117\n",
      "ar.L4.marketClose     0.1145      0.004     31.937      0.000       0.107       0.121\n",
      "ar.L5.marketClose     0.1047      0.004     29.182      0.000       0.098       0.112\n",
      "ar.L6.marketClose     0.1069      0.004     29.814      0.000       0.100       0.114\n",
      "ar.L7.marketClose     0.1116      0.004     31.148      0.000       0.105       0.119\n",
      "ar.L8.marketClose     0.1093      0.004     30.522      0.000       0.102       0.116\n",
      "ar.L9.marketClose     0.1077      0.004     30.070      0.000       0.101       0.115\n",
      "                                    Roots                                    \n",
      "=============================================================================\n",
      "                  Real          Imaginary           Modulus         Frequency\n",
      "-----------------------------------------------------------------------------\n",
      "AR.1            1.0023           -0.0000j            1.0023           -0.0000\n",
      "AR.2            0.8796           -0.8821j            1.2457           -0.1252\n",
      "AR.3            0.8796           +0.8821j            1.2457            0.1252\n",
      "AR.4            0.1300           -1.3101j            1.3165           -0.2343\n",
      "AR.5            0.1300           +1.3101j            1.3165            0.2343\n",
      "AR.6           -1.2917           -0.4464j            1.3666           -0.4470\n",
      "AR.7           -1.2917           +0.4464j            1.3666            0.4470\n",
      "AR.8           -0.7266           -1.1473j            1.3581           -0.3398\n",
      "AR.9           -0.7266           +1.1473j            1.3581            0.3398\n",
      "-----------------------------------------------------------------------------\n",
      "LLR Test: 0.0\n"
     ]
    }
   ],
   "source": [
    "model_ar_9 = ARMA(df_train.marketClose,order = (9,0))\n",
    "results_ar_9 = model_ar_9.fit()\n",
    "print(results_ar_9.summary())\n",
    "print(\"LLR Test: \" + str(LLR(results_ar_8,results_ar_9)))"
   ]
  },
  {
   "cell_type": "code",
   "execution_count": 99,
   "metadata": {},
   "outputs": [],
   "source": [
    "# Higher lag models are good fit but this is beacuse the prices are highly correlated hence not stationary as resulted from \n",
    "# Dickey Fuller Test\n",
    "# We should take returns"
   ]
  },
  {
   "cell_type": "markdown",
   "metadata": {},
   "source": [
    "# Returns"
   ]
  },
  {
   "cell_type": "code",
   "execution_count": 35,
   "metadata": {},
   "outputs": [
    {
     "data": {
      "text/html": [
       "<div>\n",
       "<style scoped>\n",
       "    .dataframe tbody tr th:only-of-type {\n",
       "        vertical-align: middle;\n",
       "    }\n",
       "\n",
       "    .dataframe tbody tr th {\n",
       "        vertical-align: top;\n",
       "    }\n",
       "\n",
       "    .dataframe thead th {\n",
       "        text-align: right;\n",
       "    }\n",
       "</style>\n",
       "<table border=\"1\" class=\"dataframe\">\n",
       "  <thead>\n",
       "    <tr style=\"text-align: right;\">\n",
       "      <th></th>\n",
       "      <th>DateTime</th>\n",
       "      <th>marketClose</th>\n",
       "    </tr>\n",
       "  </thead>\n",
       "  <tbody>\n",
       "    <tr>\n",
       "      <th>0</th>\n",
       "      <td>2019-04-02 09:30:00</td>\n",
       "      <td>300.00</td>\n",
       "    </tr>\n",
       "    <tr>\n",
       "      <th>1</th>\n",
       "      <td>2019-04-02 09:31:00</td>\n",
       "      <td>292.97</td>\n",
       "    </tr>\n",
       "  </tbody>\n",
       "</table>\n",
       "</div>"
      ],
      "text/plain": [
       "              DateTime  marketClose\n",
       "0  2019-04-02 09:30:00       300.00\n",
       "1  2019-04-02 09:31:00       292.97"
      ]
     },
     "execution_count": 35,
     "metadata": {},
     "output_type": "execute_result"
    }
   ],
   "source": [
    "df.head(2)"
   ]
  },
  {
   "cell_type": "code",
   "execution_count": 47,
   "metadata": {},
   "outputs": [],
   "source": [
    "df2['returns'] = df2.marketClose.pct_change(1).mul(100)"
   ]
  },
  {
   "cell_type": "code",
   "execution_count": 48,
   "metadata": {},
   "outputs": [],
   "source": [
    "df3 = df2.iloc[1:]"
   ]
  },
  {
   "cell_type": "code",
   "execution_count": 49,
   "metadata": {},
   "outputs": [
    {
     "data": {
      "text/html": [
       "<div>\n",
       "<style scoped>\n",
       "    .dataframe tbody tr th:only-of-type {\n",
       "        vertical-align: middle;\n",
       "    }\n",
       "\n",
       "    .dataframe tbody tr th {\n",
       "        vertical-align: top;\n",
       "    }\n",
       "\n",
       "    .dataframe thead th {\n",
       "        text-align: right;\n",
       "    }\n",
       "</style>\n",
       "<table border=\"1\" class=\"dataframe\">\n",
       "  <thead>\n",
       "    <tr style=\"text-align: right;\">\n",
       "      <th></th>\n",
       "      <th>marketClose</th>\n",
       "      <th>returns</th>\n",
       "    </tr>\n",
       "    <tr>\n",
       "      <th>DateTime</th>\n",
       "      <th></th>\n",
       "      <th></th>\n",
       "    </tr>\n",
       "  </thead>\n",
       "  <tbody>\n",
       "    <tr>\n",
       "      <th>2019-04-02 09:31:00</th>\n",
       "      <td>292.970</td>\n",
       "      <td>-2.343333</td>\n",
       "    </tr>\n",
       "    <tr>\n",
       "      <th>2019-04-02 09:32:00</th>\n",
       "      <td>295.120</td>\n",
       "      <td>0.733864</td>\n",
       "    </tr>\n",
       "    <tr>\n",
       "      <th>2019-04-02 09:33:00</th>\n",
       "      <td>296.280</td>\n",
       "      <td>0.393060</td>\n",
       "    </tr>\n",
       "    <tr>\n",
       "      <th>2019-04-02 09:34:00</th>\n",
       "      <td>296.570</td>\n",
       "      <td>0.097880</td>\n",
       "    </tr>\n",
       "    <tr>\n",
       "      <th>2019-04-02 09:35:00</th>\n",
       "      <td>297.900</td>\n",
       "      <td>0.448461</td>\n",
       "    </tr>\n",
       "    <tr>\n",
       "      <th>2019-04-02 09:36:00</th>\n",
       "      <td>294.873</td>\n",
       "      <td>-1.016113</td>\n",
       "    </tr>\n",
       "    <tr>\n",
       "      <th>2019-04-02 09:37:00</th>\n",
       "      <td>295.160</td>\n",
       "      <td>0.097330</td>\n",
       "    </tr>\n",
       "    <tr>\n",
       "      <th>2019-04-02 09:38:00</th>\n",
       "      <td>294.560</td>\n",
       "      <td>-0.203280</td>\n",
       "    </tr>\n",
       "    <tr>\n",
       "      <th>2019-04-02 09:39:00</th>\n",
       "      <td>297.519</td>\n",
       "      <td>1.004549</td>\n",
       "    </tr>\n",
       "    <tr>\n",
       "      <th>2019-04-02 09:40:00</th>\n",
       "      <td>290.570</td>\n",
       "      <td>-2.335649</td>\n",
       "    </tr>\n",
       "  </tbody>\n",
       "</table>\n",
       "</div>"
      ],
      "text/plain": [
       "                     marketClose   returns\n",
       "DateTime                                  \n",
       "2019-04-02 09:31:00      292.970 -2.343333\n",
       "2019-04-02 09:32:00      295.120  0.733864\n",
       "2019-04-02 09:33:00      296.280  0.393060\n",
       "2019-04-02 09:34:00      296.570  0.097880\n",
       "2019-04-02 09:35:00      297.900  0.448461\n",
       "2019-04-02 09:36:00      294.873 -1.016113\n",
       "2019-04-02 09:37:00      295.160  0.097330\n",
       "2019-04-02 09:38:00      294.560 -0.203280\n",
       "2019-04-02 09:39:00      297.519  1.004549\n",
       "2019-04-02 09:40:00      290.570 -2.335649"
      ]
     },
     "execution_count": 49,
     "metadata": {},
     "output_type": "execute_result"
    }
   ],
   "source": [
    "df3.head(10)"
   ]
  },
  {
   "cell_type": "code",
   "execution_count": 108,
   "metadata": {},
   "outputs": [
    {
     "data": {
      "text/plain": [
       "(-54.965223212211036,\n",
       " 0.0,\n",
       " 60,\n",
       " 96265,\n",
       " {'1%': -3.4304179320041697,\n",
       "  '5%': -2.8615700248687177,\n",
       "  '10%': -2.566785981189216},\n",
       " 346007.8094200365)"
      ]
     },
     "execution_count": 108,
     "metadata": {},
     "output_type": "execute_result"
    }
   ],
   "source": [
    "sts.adfuller(df3.returns)"
   ]
  },
  {
   "cell_type": "code",
   "execution_count": 109,
   "metadata": {},
   "outputs": [],
   "source": [
    "# Test statistic is far less then the critical values, therefore null hypothesis is rejected --> Returns are stationary"
   ]
  },
  {
   "cell_type": "code",
   "execution_count": 110,
   "metadata": {},
   "outputs": [],
   "source": [
    "## Transformed SPY stock close price which were non stationary as tested by adfuller test earlier are transformed\n",
    "## to stationary series by replacing close price with returns\n"
   ]
  },
  {
   "cell_type": "code",
   "execution_count": 111,
   "metadata": {},
   "outputs": [
    {
     "data": {
      "text/plain": [
       "Text(0.5, 1.0, 'ACF for returns')"
      ]
     },
     "execution_count": 111,
     "metadata": {},
     "output_type": "execute_result"
    },
    {
     "data": {
      "image/png": "[encoded data removed]",
      "text/plain": [
       "<Figure size 432x288 with 1 Axes>"
      ]
     },
     "metadata": {
      "needs_background": "light"
     },
     "output_type": "display_data"
    }
   ],
   "source": [
    "## ACF for returns\n",
    "sgt.plot_acf(df3.returns,lags=40,zero=False)\n",
    "plt.xlabel('Lags')\n",
    "plt.ylabel('returns')\n",
    "plt.title(\"ACF for returns\")"
   ]
  },
  {
   "cell_type": "code",
   "execution_count": 112,
   "metadata": {},
   "outputs": [
    {
     "data": {
      "text/plain": [
       "Text(0.5, 1.0, 'PACF Returns')"
      ]
     },
     "execution_count": 112,
     "metadata": {},
     "output_type": "execute_result"
    },
    {
     "data": {
      "image/png": "[encoded data removed]",
      "text/plain": [
       "<Figure size 432x288 with 1 Axes>"
      ]
     },
     "metadata": {
      "needs_background": "light"
     },
     "output_type": "display_data"
    }
   ],
   "source": [
    "sgt.plot_pacf(df3.returns,lags=40,zero=False,method = 'ols')\n",
    "plt.xlabel('Lags')\n",
    "plt.ylabel('PACF')\n",
    "plt.title(\"PACF Returns\")"
   ]
  },
  {
   "cell_type": "markdown",
   "metadata": {},
   "source": [
    "# AR Model For Returns"
   ]
  },
  {
   "cell_type": "code",
   "execution_count": 113,
   "metadata": {},
   "outputs": [
    {
     "name": "stderr",
     "output_type": "stream",
     "text": [
      "C:\\Users\\TAN\\Anaconda3\\lib\\site-packages\\statsmodels\\tsa\\base\\tsa_model.py:219: ValueWarning: A date index has been provided, but it has no associated frequency information and so will be ignored when e.g. forecasting.\n",
      "  ' ignored when e.g. forecasting.', ValueWarning)\n"
     ]
    }
   ],
   "source": [
    "model_ret_ar_1 = ARMA(df3.returns,order=(1,0))"
   ]
  },
  {
   "cell_type": "code",
   "execution_count": 114,
   "metadata": {},
   "outputs": [],
   "source": [
    "results_ret_ar_1 = model_ret_ar_1.fit()"
   ]
  },
  {
   "cell_type": "code",
   "execution_count": 115,
   "metadata": {},
   "outputs": [
    {
     "data": {
      "text/html": [
       "<table class=\"simpletable\">\n",
       "<caption>ARMA Model Results</caption>\n",
       "<tr>\n",
       "  <th>Dep. Variable:</th>      <td>returns</td>     <th>  No. Observations:  </th>    <td>96326</td>   \n",
       "</tr>\n",
       "<tr>\n",
       "  <th>Model:</th>            <td>ARMA(1, 0)</td>    <th>  Log Likelihood     </th> <td>-189553.605</td>\n",
       "</tr>\n",
       "<tr>\n",
       "  <th>Method:</th>             <td>css-mle</td>     <th>  S.D. of innovations</th>    <td>1.731</td>   \n",
       "</tr>\n",
       "<tr>\n",
       "  <th>Date:</th>          <td>Tue, 19 May 2020</td> <th>  AIC                </th> <td>379113.211</td> \n",
       "</tr>\n",
       "<tr>\n",
       "  <th>Time:</th>              <td>20:50:20</td>     <th>  BIC                </th> <td>379141.637</td> \n",
       "</tr>\n",
       "<tr>\n",
       "  <th>Sample:</th>                <td>0</td>        <th>  HQIC               </th> <td>379121.852</td> \n",
       "</tr>\n",
       "<tr>\n",
       "  <th></th>                       <td> </td>        <th>                     </th>      <td> </td>     \n",
       "</tr>\n",
       "</table>\n",
       "<table class=\"simpletable\">\n",
       "<tr>\n",
       "        <td></td>           <th>coef</th>     <th>std err</th>      <th>z</th>      <th>P>|z|</th>  <th>[0.025</th>    <th>0.975]</th>  \n",
       "</tr>\n",
       "<tr>\n",
       "  <th>const</th>         <td>    0.0199</td> <td>    0.004</td> <td>    5.363</td> <td> 0.000</td> <td>    0.013</td> <td>    0.027</td>\n",
       "</tr>\n",
       "<tr>\n",
       "  <th>ar.L1.returns</th> <td>   -0.5000</td> <td>    0.003</td> <td> -179.180</td> <td> 0.000</td> <td>   -0.505</td> <td>   -0.495</td>\n",
       "</tr>\n",
       "</table>\n",
       "<table class=\"simpletable\">\n",
       "<caption>Roots</caption>\n",
       "<tr>\n",
       "    <td></td>   <th>            Real</th>  <th>         Imaginary</th> <th>         Modulus</th>  <th>        Frequency</th>\n",
       "</tr>\n",
       "<tr>\n",
       "  <th>AR.1</th> <td>          -2.0001</td> <td>          +0.0000j</td> <td>           2.0001</td> <td>           0.5000</td>\n",
       "</tr>\n",
       "</table>"
      ],
      "text/plain": [
       "<class 'statsmodels.iolib.summary.Summary'>\n",
       "\"\"\"\n",
       "                              ARMA Model Results                              \n",
       "==============================================================================\n",
       "Dep. Variable:                returns   No. Observations:                96326\n",
       "Model:                     ARMA(1, 0)   Log Likelihood             -189553.605\n",
       "Method:                       css-mle   S.D. of innovations              1.731\n",
       "Date:                Tue, 19 May 2020   AIC                         379113.211\n",
       "Time:                        20:50:20   BIC                         379141.637\n",
       "Sample:                             0   HQIC                        379121.852\n",
       "                                                                              \n",
       "=================================================================================\n",
       "                    coef    std err          z      P>|z|      [0.025      0.975]\n",
       "---------------------------------------------------------------------------------\n",
       "const             0.0199      0.004      5.363      0.000       0.013       0.027\n",
       "ar.L1.returns    -0.5000      0.003   -179.180      0.000      -0.505      -0.495\n",
       "                                    Roots                                    \n",
       "=============================================================================\n",
       "                  Real          Imaginary           Modulus         Frequency\n",
       "-----------------------------------------------------------------------------\n",
       "AR.1           -2.0001           +0.0000j            2.0001            0.5000\n",
       "-----------------------------------------------------------------------------\n",
       "\"\"\""
      ]
     },
     "execution_count": 115,
     "metadata": {},
     "output_type": "execute_result"
    }
   ],
   "source": [
    "results_ret_ar_1.summary()"
   ]
  },
  {
   "cell_type": "code",
   "execution_count": 116,
   "metadata": {},
   "outputs": [],
   "source": [
    "# AR2 Model"
   ]
  },
  {
   "cell_type": "code",
   "execution_count": 117,
   "metadata": {},
   "outputs": [
    {
     "name": "stderr",
     "output_type": "stream",
     "text": [
      "C:\\Users\\TAN\\Anaconda3\\lib\\site-packages\\statsmodels\\tsa\\base\\tsa_model.py:219: ValueWarning: A date index has been provided, but it has no associated frequency information and so will be ignored when e.g. forecasting.\n",
      "  ' ignored when e.g. forecasting.', ValueWarning)\n"
     ]
    },
    {
     "data": {
      "text/html": [
       "<table class=\"simpletable\">\n",
       "<caption>ARMA Model Results</caption>\n",
       "<tr>\n",
       "  <th>Dep. Variable:</th>      <td>returns</td>     <th>  No. Observations:  </th>    <td>96326</td>   \n",
       "</tr>\n",
       "<tr>\n",
       "  <th>Model:</th>            <td>ARMA(2, 0)</td>    <th>  Log Likelihood     </th> <td>-183967.506</td>\n",
       "</tr>\n",
       "<tr>\n",
       "  <th>Method:</th>             <td>css-mle</td>     <th>  S.D. of innovations</th>    <td>1.634</td>   \n",
       "</tr>\n",
       "<tr>\n",
       "  <th>Date:</th>          <td>Tue, 19 May 2020</td> <th>  AIC                </th> <td>367943.013</td> \n",
       "</tr>\n",
       "<tr>\n",
       "  <th>Time:</th>              <td>20:50:24</td>     <th>  BIC                </th> <td>367980.915</td> \n",
       "</tr>\n",
       "<tr>\n",
       "  <th>Sample:</th>                <td>0</td>        <th>  HQIC               </th> <td>367954.534</td> \n",
       "</tr>\n",
       "<tr>\n",
       "  <th></th>                       <td> </td>        <th>                     </th>      <td> </td>     \n",
       "</tr>\n",
       "</table>\n",
       "<table class=\"simpletable\">\n",
       "<tr>\n",
       "        <td></td>           <th>coef</th>     <th>std err</th>      <th>z</th>      <th>P>|z|</th>  <th>[0.025</th>    <th>0.975]</th>  \n",
       "</tr>\n",
       "<tr>\n",
       "  <th>const</th>         <td>    0.0199</td> <td>    0.003</td> <td>    7.565</td> <td> 0.000</td> <td>    0.015</td> <td>    0.025</td>\n",
       "</tr>\n",
       "<tr>\n",
       "  <th>ar.L1.returns</th> <td>   -0.6654</td> <td>    0.003</td> <td> -218.858</td> <td> 0.000</td> <td>   -0.671</td> <td>   -0.659</td>\n",
       "</tr>\n",
       "<tr>\n",
       "  <th>ar.L2.returns</th> <td>   -0.3309</td> <td>    0.003</td> <td> -108.839</td> <td> 0.000</td> <td>   -0.337</td> <td>   -0.325</td>\n",
       "</tr>\n",
       "</table>\n",
       "<table class=\"simpletable\">\n",
       "<caption>Roots</caption>\n",
       "<tr>\n",
       "    <td></td>   <th>            Real</th>  <th>         Imaginary</th> <th>         Modulus</th>  <th>        Frequency</th>\n",
       "</tr>\n",
       "<tr>\n",
       "  <th>AR.1</th> <td>          -1.0054</td> <td>          -1.4181j</td> <td>           1.7383</td> <td>          -0.3482</td>\n",
       "</tr>\n",
       "<tr>\n",
       "  <th>AR.2</th> <td>          -1.0054</td> <td>          +1.4181j</td> <td>           1.7383</td> <td>           0.3482</td>\n",
       "</tr>\n",
       "</table>"
      ],
      "text/plain": [
       "<class 'statsmodels.iolib.summary.Summary'>\n",
       "\"\"\"\n",
       "                              ARMA Model Results                              \n",
       "==============================================================================\n",
       "Dep. Variable:                returns   No. Observations:                96326\n",
       "Model:                     ARMA(2, 0)   Log Likelihood             -183967.506\n",
       "Method:                       css-mle   S.D. of innovations              1.634\n",
       "Date:                Tue, 19 May 2020   AIC                         367943.013\n",
       "Time:                        20:50:24   BIC                         367980.915\n",
       "Sample:                             0   HQIC                        367954.534\n",
       "                                                                              \n",
       "=================================================================================\n",
       "                    coef    std err          z      P>|z|      [0.025      0.975]\n",
       "---------------------------------------------------------------------------------\n",
       "const             0.0199      0.003      7.565      0.000       0.015       0.025\n",
       "ar.L1.returns    -0.6654      0.003   -218.858      0.000      -0.671      -0.659\n",
       "ar.L2.returns    -0.3309      0.003   -108.839      0.000      -0.337      -0.325\n",
       "                                    Roots                                    \n",
       "=============================================================================\n",
       "                  Real          Imaginary           Modulus         Frequency\n",
       "-----------------------------------------------------------------------------\n",
       "AR.1           -1.0054           -1.4181j            1.7383           -0.3482\n",
       "AR.2           -1.0054           +1.4181j            1.7383            0.3482\n",
       "-----------------------------------------------------------------------------\n",
       "\"\"\""
      ]
     },
     "execution_count": 117,
     "metadata": {},
     "output_type": "execute_result"
    }
   ],
   "source": [
    "model_ret_ar_2 = ARMA(df3.returns,order=(2,0))\n",
    "results_ret_ar_2 = model_ret_ar_2.fit()\n",
    "results_ret_ar_2.summary()"
   ]
  },
  {
   "cell_type": "code",
   "execution_count": 118,
   "metadata": {},
   "outputs": [
    {
     "name": "stdout",
     "output_type": "stream",
     "text": [
      "LLR Test: 0.0\n"
     ]
    }
   ],
   "source": [
    "# model_ar_9 = ARMA(df_train.marketClose,order = (9,0))\n",
    "# results_ar_9 = model_ar_9.fit()\n",
    "# print(results_ar_9.summary())\n",
    "print(\"LLR Test: \" + str(LLR(results_ret_ar_1,results_ret_ar_2)))\n",
    "# for better model one should have high log likelihood, low information criteria, p value less than 0.05"
   ]
  },
  {
   "cell_type": "code",
   "execution_count": 119,
   "metadata": {},
   "outputs": [
    {
     "name": "stderr",
     "output_type": "stream",
     "text": [
      "C:\\Users\\TAN\\Anaconda3\\lib\\site-packages\\statsmodels\\tsa\\base\\tsa_model.py:219: ValueWarning: A date index has been provided, but it has no associated frequency information and so will be ignored when e.g. forecasting.\n",
      "  ' ignored when e.g. forecasting.', ValueWarning)\n"
     ]
    },
    {
     "name": "stdout",
     "output_type": "stream",
     "text": [
      "                              ARMA Model Results                              \n",
      "==============================================================================\n",
      "Dep. Variable:                returns   No. Observations:                96326\n",
      "Model:                     ARMA(3, 0)   Log Likelihood             -180817.523\n",
      "Method:                       css-mle   S.D. of innovations              1.581\n",
      "Date:                Tue, 19 May 2020   AIC                         361645.045\n",
      "Time:                        20:50:29   BIC                         361692.423\n",
      "Sample:                             0   HQIC                        361659.447\n",
      "                                                                              \n",
      "=================================================================================\n",
      "                    coef    std err          z      P>|z|      [0.025      0.975]\n",
      "---------------------------------------------------------------------------------\n",
      "const             0.0199      0.002      9.783      0.000       0.016       0.024\n",
      "ar.L1.returns    -0.7487      0.003   -240.094      0.000      -0.755      -0.743\n",
      "ar.L2.returns    -0.4984      0.004   -138.405      0.000      -0.505      -0.491\n",
      "ar.L3.returns    -0.2516      0.003    -80.688      0.000      -0.258      -0.246\n",
      "                                    Roots                                    \n",
      "=============================================================================\n",
      "                  Real          Imaginary           Modulus         Frequency\n",
      "-----------------------------------------------------------------------------\n",
      "AR.1           -1.6423           -0.0000j            1.6423           -0.5000\n",
      "AR.2           -0.1692           -1.5464j            1.5556           -0.2673\n",
      "AR.3           -0.1692           +1.5464j            1.5556            0.2673\n",
      "-----------------------------------------------------------------------------\n",
      "LLR Test: 0.0\n"
     ]
    }
   ],
   "source": [
    "model_ret_ar_3 = ARMA(df3.returns,order=(3,0))\n",
    "results_ret_ar_3 = model_ret_ar_3.fit()\n",
    "print(results_ret_ar_3.summary())\n",
    "print(\"LLR Test: \" + str(LLR(results_ret_ar_2,results_ret_ar_3)))"
   ]
  },
  {
   "cell_type": "code",
   "execution_count": 120,
   "metadata": {},
   "outputs": [
    {
     "name": "stderr",
     "output_type": "stream",
     "text": [
      "C:\\Users\\TAN\\Anaconda3\\lib\\site-packages\\statsmodels\\tsa\\base\\tsa_model.py:219: ValueWarning: A date index has been provided, but it has no associated frequency information and so will be ignored when e.g. forecasting.\n",
      "  ' ignored when e.g. forecasting.', ValueWarning)\n"
     ]
    },
    {
     "name": "stdout",
     "output_type": "stream",
     "text": [
      "                              ARMA Model Results                              \n",
      "==============================================================================\n",
      "Dep. Variable:                returns   No. Observations:                96326\n",
      "Model:                     ARMA(4, 0)   Log Likelihood             -179038.736\n",
      "Method:                       css-mle   S.D. of innovations              1.552\n",
      "Date:                Tue, 19 May 2020   AIC                         358089.472\n",
      "Time:                        20:50:44   BIC                         358146.324\n",
      "Sample:                             0   HQIC                        358106.754\n",
      "                                                                              \n",
      "=================================================================================\n",
      "                    coef    std err          z      P>|z|      [0.025      0.975]\n",
      "---------------------------------------------------------------------------------\n",
      "const             0.0199      0.002     11.864      0.000       0.017       0.023\n",
      "ar.L1.returns    -0.7966      0.003   -251.848      0.000      -0.803      -0.790\n",
      "ar.L2.returns    -0.5933      0.004   -153.280      0.000      -0.601      -0.586\n",
      "ar.L3.returns    -0.3942      0.004   -101.845      0.000      -0.402      -0.387\n",
      "ar.L4.returns    -0.1904      0.003    -60.200      0.000      -0.197      -0.184\n",
      "                                    Roots                                    \n",
      "=============================================================================\n",
      "                  Real          Imaginary           Modulus         Frequency\n",
      "-----------------------------------------------------------------------------\n",
      "AR.1            0.2814           -1.4281j            1.4556           -0.2190\n",
      "AR.2            0.2814           +1.4281j            1.4556            0.2190\n",
      "AR.3           -1.3165           -0.8635j            1.5744           -0.4076\n",
      "AR.4           -1.3165           +0.8635j            1.5744            0.4076\n",
      "-----------------------------------------------------------------------------\n",
      "LLR Test: 0.0\n"
     ]
    }
   ],
   "source": [
    "model_ret_ar_4 = ARMA(df3.returns,order=(4,0))\n",
    "results_ret_ar_4 = model_ret_ar_4.fit()\n",
    "print(results_ret_ar_4.summary())\n",
    "print(\"LLR Test: \" + str(LLR(results_ret_ar_3,results_ret_ar_4)))"
   ]
  },
  {
   "cell_type": "code",
   "execution_count": 121,
   "metadata": {},
   "outputs": [
    {
     "name": "stderr",
     "output_type": "stream",
     "text": [
      "C:\\Users\\TAN\\Anaconda3\\lib\\site-packages\\statsmodels\\tsa\\base\\tsa_model.py:219: ValueWarning: A date index has been provided, but it has no associated frequency information and so will be ignored when e.g. forecasting.\n",
      "  ' ignored when e.g. forecasting.', ValueWarning)\n"
     ]
    },
    {
     "name": "stdout",
     "output_type": "stream",
     "text": [
      "                              ARMA Model Results                              \n",
      "==============================================================================\n",
      "Dep. Variable:                returns   No. Observations:                96326\n",
      "Model:                     ARMA(5, 0)   Log Likelihood             -177766.027\n",
      "Method:                       css-mle   S.D. of innovations              1.532\n",
      "Date:                Tue, 19 May 2020   AIC                         355546.053\n",
      "Time:                        20:51:11   BIC                         355612.382\n",
      "Sample:                             0   HQIC                        355566.216\n",
      "                                                                              \n",
      "=================================================================================\n",
      "                    coef    std err          z      P>|z|      [0.025      0.975]\n",
      "---------------------------------------------------------------------------------\n",
      "const             0.0199      0.001     13.963      0.000       0.017       0.023\n",
      "ar.L1.returns    -0.8274      0.003   -260.200      0.000      -0.834      -0.821\n",
      "ar.L2.returns    -0.6569      0.004   -163.411      0.000      -0.665      -0.649\n",
      "ar.L3.returns    -0.4900      0.004   -115.020      0.000      -0.498      -0.482\n",
      "ar.L4.returns    -0.3191      0.004    -79.370      0.000      -0.327      -0.311\n",
      "ar.L5.returns    -0.1615      0.003    -50.787      0.000      -0.168      -0.155\n",
      "                                    Roots                                    \n",
      "=============================================================================\n",
      "                  Real          Imaginary           Modulus         Frequency\n",
      "-----------------------------------------------------------------------------\n",
      "AR.1            0.5568           -1.2662j            1.3832           -0.1841\n",
      "AR.2            0.5568           +1.2662j            1.3832            0.1841\n",
      "AR.3           -1.4854           -0.0000j            1.4854           -0.5000\n",
      "AR.4           -0.8020           -1.2392j            1.4761           -0.3414\n",
      "AR.5           -0.8020           +1.2392j            1.4761            0.3414\n",
      "-----------------------------------------------------------------------------\n",
      "LLR Test: 0.0\n"
     ]
    }
   ],
   "source": [
    "model_ret_ar_5 = ARMA(df3.returns,order=(5,0))\n",
    "results_ret_ar_5 = model_ret_ar_5.fit()\n",
    "print(results_ret_ar_5.summary())\n",
    "print(\"LLR Test: \" + str(LLR(results_ret_ar_4,results_ret_ar_5)))"
   ]
  },
  {
   "cell_type": "code",
   "execution_count": 114,
   "metadata": {},
   "outputs": [
    {
     "name": "stderr",
     "output_type": "stream",
     "text": [
      "C:\\Users\\TAN\\Anaconda3\\lib\\site-packages\\statsmodels\\tsa\\base\\tsa_model.py:219: ValueWarning: A date index has been provided, but it has no associated frequency information and so will be ignored when e.g. forecasting.\n",
      "  ' ignored when e.g. forecasting.', ValueWarning)\n"
     ]
    },
    {
     "name": "stdout",
     "output_type": "stream",
     "text": [
      "                              ARMA Model Results                              \n",
      "==============================================================================\n",
      "Dep. Variable:                returns   No. Observations:                96326\n",
      "Model:                     ARMA(6, 0)   Log Likelihood             -176823.083\n",
      "Method:                       css-mle   S.D. of innovations              1.517\n",
      "Date:                Tue, 05 May 2020   AIC                         353662.166\n",
      "Time:                        14:37:51   BIC                         353737.970\n",
      "Sample:                             0   HQIC                        353685.210\n",
      "                                                                              \n",
      "=================================================================================\n",
      "                    coef    std err          z      P>|z|      [0.025      0.975]\n",
      "---------------------------------------------------------------------------------\n",
      "const             0.0199      0.001     16.064      0.000       0.018       0.022\n",
      "ar.L1.returns    -0.8499      0.003   -266.358      0.000      -0.856      -0.844\n",
      "ar.L2.returns    -0.7013      0.004   -170.686      0.000      -0.709      -0.693\n",
      "ar.L3.returns    -0.5582      0.004   -124.078      0.000      -0.567      -0.549\n",
      "ar.L4.returns    -0.4105      0.004    -91.252      0.000      -0.419      -0.402\n",
      "ar.L5.returns    -0.2767      0.004    -67.339      0.000      -0.285      -0.269\n",
      "ar.L6.returns    -0.1392      0.003    -43.640      0.000      -0.145      -0.133\n",
      "                                    Roots                                    \n",
      "=============================================================================\n",
      "                  Real          Imaginary           Modulus         Frequency\n",
      "-----------------------------------------------------------------------------\n",
      "AR.1            0.7207           -1.1131j            1.3260           -0.1585\n",
      "AR.2            0.7207           +1.1131j            1.3260            0.1585\n",
      "AR.3           -0.3960           -1.3431j            1.4003           -0.2956\n",
      "AR.4           -0.3960           +1.3431j            1.4003            0.2956\n",
      "AR.5           -1.3183           -0.5876j            1.4433           -0.4333\n",
      "AR.6           -1.3183           +0.5876j            1.4433            0.4333\n",
      "-----------------------------------------------------------------------------\n",
      "LLR Test: 0.0\n"
     ]
    }
   ],
   "source": [
    "model_ret_ar_6 = ARMA(df3.returns,order=(6,0))\n",
    "results_ret_ar_6 = model_ret_ar_6.fit()\n",
    "print(results_ret_ar_6.summary())\n",
    "print(\"LLR Test: \" + str(LLR(results_ret_ar_5,results_ret_ar_6)))"
   ]
  },
  {
   "cell_type": "code",
   "execution_count": 115,
   "metadata": {
    "scrolled": true
   },
   "outputs": [
    {
     "name": "stderr",
     "output_type": "stream",
     "text": [
      "C:\\Users\\TAN\\Anaconda3\\lib\\site-packages\\statsmodels\\tsa\\base\\tsa_model.py:219: ValueWarning: A date index has been provided, but it has no associated frequency information and so will be ignored when e.g. forecasting.\n",
      "  ' ignored when e.g. forecasting.', ValueWarning)\n"
     ]
    },
    {
     "name": "stdout",
     "output_type": "stream",
     "text": [
      "                              ARMA Model Results                              \n",
      "==============================================================================\n",
      "Dep. Variable:                returns   No. Observations:                96326\n",
      "Model:                     ARMA(7, 0)   Log Likelihood             -176138.426\n",
      "Method:                       css-mle   S.D. of innovations              1.506\n",
      "Date:                Tue, 05 May 2020   AIC                         352294.851\n",
      "Time:                        14:38:50   BIC                         352380.131\n",
      "Sample:                             0   HQIC                        352320.775\n",
      "                                                                              \n",
      "=================================================================================\n",
      "                    coef    std err          z      P>|z|      [0.025      0.975]\n",
      "---------------------------------------------------------------------------------\n",
      "const             0.0199      0.001     18.101      0.000       0.018       0.022\n",
      "ar.L1.returns    -0.8664      0.003   -270.816      0.000      -0.873      -0.860\n",
      "ar.L2.returns    -0.7342      0.004   -175.869      0.000      -0.742      -0.726\n",
      "ar.L3.returns    -0.6070      0.005   -130.363      0.000      -0.616      -0.598\n",
      "ar.L4.returns    -0.4769      0.005    -99.122      0.000      -0.486      -0.467\n",
      "ar.L5.returns    -0.3600      0.005    -77.321      0.000      -0.369      -0.351\n",
      "ar.L6.returns    -0.2402      0.004    -57.538      0.000      -0.248      -0.232\n",
      "ar.L7.returns    -0.1188      0.003    -37.136      0.000      -0.125      -0.113\n",
      "                                    Roots                                    \n",
      "=============================================================================\n",
      "                  Real          Imaginary           Modulus         Frequency\n",
      "-----------------------------------------------------------------------------\n",
      "AR.1            0.8206           -0.9879j            1.2843           -0.1397\n",
      "AR.2            0.8206           +0.9879j            1.2843            0.1397\n",
      "AR.3           -0.0984           -1.3518j            1.3553           -0.2616\n",
      "AR.4           -0.0984           +1.3518j            1.3553            0.2616\n",
      "AR.5           -1.4048           -0.0000j            1.4048           -0.5000\n",
      "AR.6           -1.0307           -0.9567j            1.4063           -0.3809\n",
      "AR.7           -1.0307           +0.9567j            1.4063            0.3809\n",
      "-----------------------------------------------------------------------------\n",
      "LLR Test: 0.0\n"
     ]
    }
   ],
   "source": [
    "model_ret_ar_7 = ARMA(df3.returns,order=(7,0))\n",
    "results_ret_ar_7 = model_ret_ar_7.fit()\n",
    "print(results_ret_ar_7.summary())\n",
    "print(\"LLR Test: \" + str(LLR(results_ret_ar_6,results_ret_ar_7)))"
   ]
  },
  {
   "cell_type": "code",
   "execution_count": 116,
   "metadata": {},
   "outputs": [
    {
     "name": "stderr",
     "output_type": "stream",
     "text": [
      "C:\\Users\\TAN\\Anaconda3\\lib\\site-packages\\statsmodels\\tsa\\base\\tsa_model.py:219: ValueWarning: A date index has been provided, but it has no associated frequency information and so will be ignored when e.g. forecasting.\n",
      "  ' ignored when e.g. forecasting.', ValueWarning)\n"
     ]
    },
    {
     "name": "stdout",
     "output_type": "stream",
     "text": [
      "                              ARMA Model Results                              \n",
      "==============================================================================\n",
      "Dep. Variable:                returns   No. Observations:                96326\n",
      "Model:                     ARMA(8, 0)   Log Likelihood             -175615.564\n",
      "Method:                       css-mle   S.D. of innovations              1.498\n",
      "Date:                Tue, 05 May 2020   AIC                         351251.129\n",
      "Time:                        14:40:14   BIC                         351345.884\n",
      "Sample:                             0   HQIC                        351279.933\n",
      "                                                                              \n",
      "=================================================================================\n",
      "                    coef    std err          z      P>|z|      [0.025      0.975]\n",
      "---------------------------------------------------------------------------------\n",
      "const             0.0199      0.001     20.090      0.000       0.018       0.022\n",
      "ar.L1.returns    -0.8787      0.003   -274.214      0.000      -0.885      -0.872\n",
      "ar.L2.returns    -0.7592      0.004   -179.774      0.000      -0.767      -0.751\n",
      "ar.L3.returns    -0.6444      0.005   -135.024      0.000      -0.654      -0.635\n",
      "ar.L4.returns    -0.5264      0.005   -104.802      0.000      -0.536      -0.517\n",
      "ar.L5.returns    -0.4231      0.005    -84.233      0.000      -0.433      -0.413\n",
      "ar.L6.returns    -0.3165      0.005    -66.318      0.000      -0.326      -0.307\n",
      "ar.L7.returns    -0.2088      0.004    -49.453      0.000      -0.217      -0.201\n",
      "ar.L8.returns    -0.1039      0.003    -32.426      0.000      -0.110      -0.098\n",
      "                                    Roots                                    \n",
      "=============================================================================\n",
      "                  Real          Imaginary           Modulus         Frequency\n",
      "-----------------------------------------------------------------------------\n",
      "AR.1            0.8869           -0.8857j            1.2534           -0.1249\n",
      "AR.2            0.8869           +0.8857j            1.2534            0.1249\n",
      "AR.3            0.1332           -1.3164j            1.3231           -0.2340\n",
      "AR.4            0.1332           +1.3164j            1.3231            0.2340\n",
      "AR.5           -1.2988           -0.4460j            1.3732           -0.4474\n",
      "AR.6           -1.2988           +0.4460j            1.3732            0.4474\n",
      "AR.7           -0.7261           -1.1526j            1.3622           -0.3395\n",
      "AR.8           -0.7261           +1.1526j            1.3622            0.3395\n",
      "-----------------------------------------------------------------------------\n",
      "LLR Test: 0.0\n"
     ]
    }
   ],
   "source": [
    "model_ret_ar_8 = ARMA(df3.returns,order=(8,0))\n",
    "results_ret_ar_8 = model_ret_ar_8.fit()\n",
    "print(results_ret_ar_8.summary())\n",
    "print(\"LLR Test: \" + str(LLR(results_ret_ar_7,results_ret_ar_8)))"
   ]
  },
  {
   "cell_type": "code",
   "execution_count": 117,
   "metadata": {},
   "outputs": [
    {
     "name": "stderr",
     "output_type": "stream",
     "text": [
      "C:\\Users\\TAN\\Anaconda3\\lib\\site-packages\\statsmodels\\tsa\\base\\tsa_model.py:219: ValueWarning: A date index has been provided, but it has no associated frequency information and so will be ignored when e.g. forecasting.\n",
      "  ' ignored when e.g. forecasting.', ValueWarning)\n"
     ]
    },
    {
     "name": "stdout",
     "output_type": "stream",
     "text": [
      "                              ARMA Model Results                              \n",
      "==============================================================================\n",
      "Dep. Variable:                returns   No. Observations:                96326\n",
      "Model:                     ARMA(9, 0)   Log Likelihood             -175208.425\n",
      "Method:                       css-mle   S.D. of innovations              1.492\n",
      "Date:                Tue, 05 May 2020   AIC                         350438.850\n",
      "Time:                        14:41:55   BIC                         350543.081\n",
      "Sample:                             0   HQIC                        350470.535\n",
      "                                                                              \n",
      "=================================================================================\n",
      "                    coef    std err          z      P>|z|      [0.025      0.975]\n",
      "---------------------------------------------------------------------------------\n",
      "const             0.0199      0.001     22.026      0.000       0.018       0.022\n",
      "ar.L1.returns    -0.8883      0.003   -276.856      0.000      -0.895      -0.882\n",
      "ar.L2.returns    -0.7783      0.004   -182.787      0.000      -0.787      -0.770\n",
      "ar.L3.returns    -0.6734      0.005   -138.578      0.000      -0.683      -0.664\n",
      "ar.L4.returns    -0.5652      0.005   -109.061      0.000      -0.575      -0.555\n",
      "ar.L5.returns    -0.4714      0.005    -89.293      0.000      -0.482      -0.461\n",
      "ar.L6.returns    -0.3756      0.005    -72.478      0.000      -0.386      -0.365\n",
      "ar.L7.returns    -0.2785      0.005    -57.307      0.000      -0.288      -0.269\n",
      "ar.L8.returns    -0.1845      0.004    -43.337      0.000      -0.193      -0.176\n",
      "ar.L9.returns    -0.0917      0.003    -28.596      0.000      -0.098      -0.085\n",
      "                                    Roots                                    \n",
      "=============================================================================\n",
      "                  Real          Imaginary           Modulus         Frequency\n",
      "-----------------------------------------------------------------------------\n",
      "AR.1            0.9327           -0.8010j            1.2295           -0.1129\n",
      "AR.2            0.9327           +0.8010j            1.2295            0.1129\n",
      "AR.3            0.3120           -1.2569j            1.2951           -0.2113\n",
      "AR.4            0.3120           +1.2569j            1.2951            0.2113\n",
      "AR.5           -0.4641           -1.2402j            1.3242           -0.3070\n",
      "AR.6           -0.4641           +1.2402j            1.3242            0.3070\n",
      "AR.7           -1.3481           -0.0000j            1.3481           -0.5000\n",
      "AR.8           -1.1122           -0.7625j            1.3485           -0.4044\n",
      "AR.9           -1.1122           +0.7625j            1.3485            0.4044\n",
      "-----------------------------------------------------------------------------\n",
      "LLR Test: 0.0\n"
     ]
    }
   ],
   "source": [
    "model_ret_ar_9 = ARMA(df3.returns,order=(9,0))\n",
    "results_ret_ar_9 = model_ret_ar_9.fit()\n",
    "print(results_ret_ar_9.summary())\n",
    "print(\"LLR Test: \" + str(LLR(results_ret_ar_8,results_ret_ar_9)))"
   ]
  },
  {
   "cell_type": "code",
   "execution_count": 118,
   "metadata": {},
   "outputs": [
    {
     "name": "stderr",
     "output_type": "stream",
     "text": [
      "C:\\Users\\TAN\\Anaconda3\\lib\\site-packages\\statsmodels\\tsa\\base\\tsa_model.py:219: ValueWarning: A date index has been provided, but it has no associated frequency information and so will be ignored when e.g. forecasting.\n",
      "  ' ignored when e.g. forecasting.', ValueWarning)\n"
     ]
    },
    {
     "name": "stdout",
     "output_type": "stream",
     "text": [
      "                              ARMA Model Results                              \n",
      "==============================================================================\n",
      "Dep. Variable:                returns   No. Observations:                96326\n",
      "Model:                    ARMA(10, 0)   Log Likelihood             -174904.601\n",
      "Method:                       css-mle   S.D. of innovations              1.487\n",
      "Date:                Tue, 05 May 2020   AIC                         349833.202\n",
      "Time:                        14:44:11   BIC                         349946.908\n",
      "Sample:                             0   HQIC                        349867.767\n",
      "                                                                              \n",
      "==================================================================================\n",
      "                     coef    std err          z      P>|z|      [0.025      0.975]\n",
      "----------------------------------------------------------------------------------\n",
      "const              0.0199      0.001     23.847      0.000       0.018       0.022\n",
      "ar.L1.returns     -0.8956      0.003   -278.825      0.000      -0.902      -0.889\n",
      "ar.L2.returns     -0.7930      0.004   -185.017      0.000      -0.801      -0.785\n",
      "ar.L3.returns     -0.6955      0.005   -141.188      0.000      -0.705      -0.686\n",
      "ar.L4.returns     -0.5950      0.005   -112.154      0.000      -0.605      -0.585\n",
      "ar.L5.returns     -0.5088      0.005    -92.909      0.000      -0.520      -0.498\n",
      "ar.L6.returns     -0.4205      0.005    -76.780      0.000      -0.431      -0.410\n",
      "ar.L7.returns     -0.3319      0.005    -62.559      0.000      -0.342      -0.321\n",
      "ar.L8.returns     -0.2463      0.005    -49.989      0.000      -0.256      -0.237\n",
      "ar.L9.returns     -0.1622      0.004    -37.842      0.000      -0.171      -0.154\n",
      "ar.L10.returns    -0.0793      0.003    -24.689      0.000      -0.086      -0.073\n",
      "                                    Roots                                     \n",
      "==============================================================================\n",
      "                   Real          Imaginary           Modulus         Frequency\n",
      "------------------------------------------------------------------------------\n",
      "AR.1             0.9653           -0.7321j            1.2115           -0.1033\n",
      "AR.2             0.9653           +0.7321j            1.2115            0.1033\n",
      "AR.3             0.4473           -1.1918j            1.2729           -0.1929\n",
      "AR.4             0.4473           +1.1918j            1.2729            0.1929\n",
      "AR.5            -0.2509           -1.2760j            1.3005           -0.2809\n",
      "AR.6            -0.2509           +1.2760j            1.3005            0.2809\n",
      "AR.7            -1.2831           -0.3586j            1.3323           -0.4566\n",
      "AR.8            -1.2831           +0.3586j            1.3323            0.4566\n",
      "AR.9            -0.9012           -0.9768j            1.3290           -0.3686\n",
      "AR.10           -0.9012           +0.9768j            1.3290            0.3686\n",
      "------------------------------------------------------------------------------\n",
      "LLR Test: 0.0\n"
     ]
    }
   ],
   "source": [
    "model_ret_ar_10 = ARMA(df3.returns,order=(10,0))\n",
    "results_ret_ar_10 = model_ret_ar_10.fit()\n",
    "print(results_ret_ar_10.summary())\n",
    "print(\"LLR Test: \" + str(LLR(results_ret_ar_9,results_ret_ar_10)))"
   ]
  },
  {
   "cell_type": "markdown",
   "metadata": {},
   "source": [
    "# NORMALIZING Actual Price"
   ]
  },
  {
   "cell_type": "code",
   "execution_count": 119,
   "metadata": {},
   "outputs": [],
   "source": [
    "#df.head(4)"
   ]
  },
  {
   "cell_type": "code",
   "execution_count": 120,
   "metadata": {},
   "outputs": [],
   "source": [
    "# Normalizing market_value first - dividing each value by the benchmark(consider first value) and multiply by 100{This is done\n",
    "#for easy comparison between time series in percentage}\n",
    "#benchmark = df.market_value.iloc[0]"
   ]
  },
  {
   "cell_type": "code",
   "execution_count": 121,
   "metadata": {},
   "outputs": [],
   "source": [
    "#df['norma'] = df.market_value.div(benchmark).mul(100)"
   ]
  },
  {
   "cell_type": "code",
   "execution_count": 122,
   "metadata": {},
   "outputs": [],
   "source": [
    "#sts.adfuller(df.norma)"
   ]
  },
  {
   "cell_type": "code",
   "execution_count": 123,
   "metadata": {},
   "outputs": [],
   "source": [
    "## As seen test statistics is higher than critical values and p value is >0.05--> the data is not stationary so we move to \n",
    "# calculate the normalized return"
   ]
  },
  {
   "cell_type": "markdown",
   "metadata": {},
   "source": [
    "# Normalizing Returns"
   ]
  },
  {
   "cell_type": "code",
   "execution_count": 124,
   "metadata": {},
   "outputs": [],
   "source": [
    "#bench_mark = df.returns.iloc[0]"
   ]
  },
  {
   "cell_type": "code",
   "execution_count": 125,
   "metadata": {},
   "outputs": [],
   "source": [
    "#df['norm_ret'] = df.returns.div(bench_mark).mul(100)"
   ]
  },
  {
   "cell_type": "code",
   "execution_count": 126,
   "metadata": {},
   "outputs": [],
   "source": [
    "#sts.adfuller(df.norm_ret)"
   ]
  },
  {
   "cell_type": "code",
   "execution_count": 127,
   "metadata": {},
   "outputs": [],
   "source": [
    "## Test statistics  is less than critical values and p value is <0.05 which shows data is stationary"
   ]
  },
  {
   "cell_type": "code",
   "execution_count": 128,
   "metadata": {},
   "outputs": [],
   "source": [
    "## NORMALIZING DOES NOT AFFECT STATIONARITY"
   ]
  },
  {
   "cell_type": "code",
   "execution_count": null,
   "metadata": {},
   "outputs": [],
   "source": []
  },
  {
   "cell_type": "markdown",
   "metadata": {},
   "source": [
    "# AR MODEL RESIDUALS"
   ]
  },
  {
   "cell_type": "code",
   "execution_count": 150,
   "metadata": {},
   "outputs": [],
   "source": [
    "# Analysing the residuals to rpove that residuals follow white noise -\n",
    "# Do this for both price and returns\n",
    "# 1. returns should be stationary (check by dickey fuller test)\n",
    "# 2. we have already calculate the best AR model that fits the data best using LLR test\n",
    "# 3. check the residuals of the best fitter AR model for both price and returns\n",
    "# 4. calculate the mean and variance of residuals, they should be around 0 to follow white nose\n",
    "# 5. Plot ACF to verify that resiudals are highly significant(means they are not same) because noise don't depend on the previous lagged versions as they are not autocorrelated"
   ]
  },
  {
   "cell_type": "code",
   "execution_count": 129,
   "metadata": {},
   "outputs": [
    {
     "data": {
      "text/html": [
       "<div>\n",
       "<style scoped>\n",
       "    .dataframe tbody tr th:only-of-type {\n",
       "        vertical-align: middle;\n",
       "    }\n",
       "\n",
       "    .dataframe tbody tr th {\n",
       "        vertical-align: top;\n",
       "    }\n",
       "\n",
       "    .dataframe thead th {\n",
       "        text-align: right;\n",
       "    }\n",
       "</style>\n",
       "<table border=\"1\" class=\"dataframe\">\n",
       "  <thead>\n",
       "    <tr style=\"text-align: right;\">\n",
       "      <th></th>\n",
       "      <th>marketClose</th>\n",
       "      <th>returns</th>\n",
       "    </tr>\n",
       "    <tr>\n",
       "      <th>DateTime</th>\n",
       "      <th></th>\n",
       "      <th></th>\n",
       "    </tr>\n",
       "  </thead>\n",
       "  <tbody>\n",
       "    <tr>\n",
       "      <th>2019-04-02 09:31:00</th>\n",
       "      <td>292.970</td>\n",
       "      <td>-2.343333</td>\n",
       "    </tr>\n",
       "    <tr>\n",
       "      <th>2019-04-02 09:32:00</th>\n",
       "      <td>295.120</td>\n",
       "      <td>0.733864</td>\n",
       "    </tr>\n",
       "    <tr>\n",
       "      <th>2019-04-02 09:33:00</th>\n",
       "      <td>296.280</td>\n",
       "      <td>0.393060</td>\n",
       "    </tr>\n",
       "    <tr>\n",
       "      <th>2019-04-02 09:34:00</th>\n",
       "      <td>296.570</td>\n",
       "      <td>0.097880</td>\n",
       "    </tr>\n",
       "    <tr>\n",
       "      <th>2019-04-02 09:35:00</th>\n",
       "      <td>297.900</td>\n",
       "      <td>0.448461</td>\n",
       "    </tr>\n",
       "    <tr>\n",
       "      <th>2019-04-02 09:36:00</th>\n",
       "      <td>294.873</td>\n",
       "      <td>-1.016113</td>\n",
       "    </tr>\n",
       "    <tr>\n",
       "      <th>2019-04-02 09:37:00</th>\n",
       "      <td>295.160</td>\n",
       "      <td>0.097330</td>\n",
       "    </tr>\n",
       "    <tr>\n",
       "      <th>2019-04-02 09:38:00</th>\n",
       "      <td>294.560</td>\n",
       "      <td>-0.203280</td>\n",
       "    </tr>\n",
       "    <tr>\n",
       "      <th>2019-04-02 09:39:00</th>\n",
       "      <td>297.519</td>\n",
       "      <td>1.004549</td>\n",
       "    </tr>\n",
       "    <tr>\n",
       "      <th>2019-04-02 09:40:00</th>\n",
       "      <td>290.570</td>\n",
       "      <td>-2.335649</td>\n",
       "    </tr>\n",
       "  </tbody>\n",
       "</table>\n",
       "</div>"
      ],
      "text/plain": [
       "                     marketClose   returns\n",
       "DateTime                                  \n",
       "2019-04-02 09:31:00      292.970 -2.343333\n",
       "2019-04-02 09:32:00      295.120  0.733864\n",
       "2019-04-02 09:33:00      296.280  0.393060\n",
       "2019-04-02 09:34:00      296.570  0.097880\n",
       "2019-04-02 09:35:00      297.900  0.448461\n",
       "2019-04-02 09:36:00      294.873 -1.016113\n",
       "2019-04-02 09:37:00      295.160  0.097330\n",
       "2019-04-02 09:38:00      294.560 -0.203280\n",
       "2019-04-02 09:39:00      297.519  1.004549\n",
       "2019-04-02 09:40:00      290.570 -2.335649"
      ]
     },
     "execution_count": 129,
     "metadata": {},
     "output_type": "execute_result"
    }
   ],
   "source": [
    "df3.head(10)"
   ]
  },
  {
   "cell_type": "code",
   "execution_count": 130,
   "metadata": {},
   "outputs": [
    {
     "ename": "ValueError",
     "evalue": "x contains a constant. Adding a constant with trend='c' is not allowed.",
     "output_type": "error",
     "traceback": [
      "\u001b[1;31m---------------------------------------------------------------------------\u001b[0m",
      "\u001b[1;31mValueError\u001b[0m                                Traceback (most recent call last)",
      "\u001b[1;32m<ipython-input-130-bdba39291be4>\u001b[0m in \u001b[0;36m<module>\u001b[1;34m\u001b[0m\n\u001b[1;32m----> 1\u001b[1;33m \u001b[0mdf3\u001b[0m\u001b[1;33m[\u001b[0m\u001b[1;34m'res_price'\u001b[0m\u001b[1;33m]\u001b[0m \u001b[1;33m=\u001b[0m \u001b[0mmodel_ar_9\u001b[0m\u001b[1;33m.\u001b[0m\u001b[0mfit\u001b[0m\u001b[1;33m(\u001b[0m\u001b[1;33m)\u001b[0m\u001b[1;33m.\u001b[0m\u001b[0mresid\u001b[0m\u001b[1;33m\u001b[0m\u001b[1;33m\u001b[0m\u001b[0m\n\u001b[0m",
      "\u001b[1;32m~\\Anaconda3\\lib\\site-packages\\statsmodels\\tsa\\arima_model.py\u001b[0m in \u001b[0;36mfit\u001b[1;34m(self, start_params, trend, method, transparams, solver, maxiter, full_output, disp, callback, start_ar_lags, **kwargs)\u001b[0m\n\u001b[0;32m    902\u001b[0m         \u001b[1;31m# (re)set trend and handle exogenous variables\u001b[0m\u001b[1;33m\u001b[0m\u001b[1;33m\u001b[0m\u001b[1;33m\u001b[0m\u001b[0m\n\u001b[0;32m    903\u001b[0m         \u001b[1;31m# always pass original exog\u001b[0m\u001b[1;33m\u001b[0m\u001b[1;33m\u001b[0m\u001b[1;33m\u001b[0m\u001b[0m\n\u001b[1;32m--> 904\u001b[1;33m         \u001b[0mk_trend\u001b[0m\u001b[1;33m,\u001b[0m \u001b[0mexog\u001b[0m \u001b[1;33m=\u001b[0m \u001b[0m_make_arma_exog\u001b[0m\u001b[1;33m(\u001b[0m\u001b[0mendog\u001b[0m\u001b[1;33m,\u001b[0m \u001b[0mself\u001b[0m\u001b[1;33m.\u001b[0m\u001b[0mexog\u001b[0m\u001b[1;33m,\u001b[0m \u001b[0mtrend\u001b[0m\u001b[1;33m)\u001b[0m\u001b[1;33m\u001b[0m\u001b[1;33m\u001b[0m\u001b[0m\n\u001b[0m\u001b[0;32m    905\u001b[0m \u001b[1;33m\u001b[0m\u001b[0m\n\u001b[0;32m    906\u001b[0m         \u001b[1;31m# Check has something to estimate\u001b[0m\u001b[1;33m\u001b[0m\u001b[1;33m\u001b[0m\u001b[1;33m\u001b[0m\u001b[0m\n",
      "\u001b[1;32m~\\Anaconda3\\lib\\site-packages\\statsmodels\\tsa\\arima_model.py\u001b[0m in \u001b[0;36m_make_arma_exog\u001b[1;34m(endog, exog, trend)\u001b[0m\n\u001b[0;32m    395\u001b[0m         \u001b[0mexog\u001b[0m \u001b[1;33m=\u001b[0m \u001b[0mnp\u001b[0m\u001b[1;33m.\u001b[0m\u001b[0mones\u001b[0m\u001b[1;33m(\u001b[0m\u001b[1;33m(\u001b[0m\u001b[0mlen\u001b[0m\u001b[1;33m(\u001b[0m\u001b[0mendog\u001b[0m\u001b[1;33m)\u001b[0m\u001b[1;33m,\u001b[0m \u001b[1;36m1\u001b[0m\u001b[1;33m)\u001b[0m\u001b[1;33m)\u001b[0m\u001b[1;33m\u001b[0m\u001b[1;33m\u001b[0m\u001b[0m\n\u001b[0;32m    396\u001b[0m     \u001b[1;32melif\u001b[0m \u001b[0mexog\u001b[0m \u001b[1;32mis\u001b[0m \u001b[1;32mnot\u001b[0m \u001b[1;32mNone\u001b[0m \u001b[1;32mand\u001b[0m \u001b[0mtrend\u001b[0m \u001b[1;33m==\u001b[0m \u001b[1;34m'c'\u001b[0m\u001b[1;33m:\u001b[0m  \u001b[1;31m# constant plus exogenous\u001b[0m\u001b[1;33m\u001b[0m\u001b[1;33m\u001b[0m\u001b[0m\n\u001b[1;32m--> 397\u001b[1;33m         \u001b[0mexog\u001b[0m \u001b[1;33m=\u001b[0m \u001b[0madd_trend\u001b[0m\u001b[1;33m(\u001b[0m\u001b[0mexog\u001b[0m\u001b[1;33m,\u001b[0m \u001b[0mtrend\u001b[0m\u001b[1;33m=\u001b[0m\u001b[1;34m'c'\u001b[0m\u001b[1;33m,\u001b[0m \u001b[0mprepend\u001b[0m\u001b[1;33m=\u001b[0m\u001b[1;32mTrue\u001b[0m\u001b[1;33m,\u001b[0m \u001b[0mhas_constant\u001b[0m\u001b[1;33m=\u001b[0m\u001b[1;34m'raise'\u001b[0m\u001b[1;33m)\u001b[0m\u001b[1;33m\u001b[0m\u001b[1;33m\u001b[0m\u001b[0m\n\u001b[0m\u001b[0;32m    398\u001b[0m     \u001b[1;32melif\u001b[0m \u001b[0mexog\u001b[0m \u001b[1;32mis\u001b[0m \u001b[1;32mnot\u001b[0m \u001b[1;32mNone\u001b[0m \u001b[1;32mand\u001b[0m \u001b[0mtrend\u001b[0m \u001b[1;33m==\u001b[0m \u001b[1;34m'nc'\u001b[0m\u001b[1;33m:\u001b[0m\u001b[1;33m\u001b[0m\u001b[1;33m\u001b[0m\u001b[0m\n\u001b[0;32m    399\u001b[0m         \u001b[1;31m# make sure it's not holding constant from last run\u001b[0m\u001b[1;33m\u001b[0m\u001b[1;33m\u001b[0m\u001b[1;33m\u001b[0m\u001b[0m\n",
      "\u001b[1;32m~\\Anaconda3\\lib\\site-packages\\statsmodels\\tsa\\tsatools.py\u001b[0m in \u001b[0;36madd_trend\u001b[1;34m(x, trend, prepend, has_constant)\u001b[0m\n\u001b[0;32m    106\u001b[0m                 \u001b[0mmsg\u001b[0m \u001b[1;33m=\u001b[0m \u001b[1;34m\"x contains a constant. Adding a constant with \"\u001b[0m\u001b[0;31m \u001b[0m\u001b[0;31m\\\u001b[0m\u001b[1;33m\u001b[0m\u001b[1;33m\u001b[0m\u001b[0m\n\u001b[0;32m    107\u001b[0m                       \u001b[1;34m\"trend='{0}' is not allowed.\"\u001b[0m\u001b[1;33m.\u001b[0m\u001b[0mformat\u001b[0m\u001b[1;33m(\u001b[0m\u001b[0mtrend\u001b[0m\u001b[1;33m)\u001b[0m\u001b[1;33m\u001b[0m\u001b[1;33m\u001b[0m\u001b[0m\n\u001b[1;32m--> 108\u001b[1;33m                 \u001b[1;32mraise\u001b[0m \u001b[0mValueError\u001b[0m\u001b[1;33m(\u001b[0m\u001b[0mmsg\u001b[0m\u001b[1;33m)\u001b[0m\u001b[1;33m\u001b[0m\u001b[1;33m\u001b[0m\u001b[0m\n\u001b[0m\u001b[0;32m    109\u001b[0m             \u001b[1;32melif\u001b[0m \u001b[0mhas_constant\u001b[0m \u001b[1;33m==\u001b[0m \u001b[1;34m'skip'\u001b[0m\u001b[1;33m:\u001b[0m\u001b[1;33m\u001b[0m\u001b[1;33m\u001b[0m\u001b[0m\n\u001b[0;32m    110\u001b[0m                 \u001b[0mcolumns\u001b[0m \u001b[1;33m=\u001b[0m \u001b[0mcolumns\u001b[0m\u001b[1;33m[\u001b[0m\u001b[1;36m1\u001b[0m\u001b[1;33m:\u001b[0m\u001b[1;33m]\u001b[0m\u001b[1;33m\u001b[0m\u001b[1;33m\u001b[0m\u001b[0m\n",
      "\u001b[1;31mValueError\u001b[0m: x contains a constant. Adding a constant with trend='c' is not allowed."
     ]
    }
   ],
   "source": [
    "df3['res_price'] = model_ar_9.fit().resid"
   ]
  },
  {
   "cell_type": "markdown",
   "metadata": {},
   "source": [
    "# MA MODEL"
   ]
  },
  {
   "cell_type": "code",
   "execution_count": 129,
   "metadata": {},
   "outputs": [
    {
     "data": {
      "text/html": [
       "<div>\n",
       "<style scoped>\n",
       "    .dataframe tbody tr th:only-of-type {\n",
       "        vertical-align: middle;\n",
       "    }\n",
       "\n",
       "    .dataframe tbody tr th {\n",
       "        vertical-align: top;\n",
       "    }\n",
       "\n",
       "    .dataframe thead th {\n",
       "        text-align: right;\n",
       "    }\n",
       "</style>\n",
       "<table border=\"1\" class=\"dataframe\">\n",
       "  <thead>\n",
       "    <tr style=\"text-align: right;\">\n",
       "      <th></th>\n",
       "      <th>marketClose</th>\n",
       "      <th>returns</th>\n",
       "    </tr>\n",
       "    <tr>\n",
       "      <th>DateTime</th>\n",
       "      <th></th>\n",
       "      <th></th>\n",
       "    </tr>\n",
       "  </thead>\n",
       "  <tbody>\n",
       "    <tr>\n",
       "      <th>2019-04-02 09:31:00</th>\n",
       "      <td>292.97</td>\n",
       "      <td>-2.343333</td>\n",
       "    </tr>\n",
       "    <tr>\n",
       "      <th>2019-04-02 09:32:00</th>\n",
       "      <td>295.12</td>\n",
       "      <td>0.733864</td>\n",
       "    </tr>\n",
       "    <tr>\n",
       "      <th>2019-04-02 09:33:00</th>\n",
       "      <td>296.28</td>\n",
       "      <td>0.393060</td>\n",
       "    </tr>\n",
       "  </tbody>\n",
       "</table>\n",
       "</div>"
      ],
      "text/plain": [
       "                     marketClose   returns\n",
       "DateTime                                  \n",
       "2019-04-02 09:31:00       292.97 -2.343333\n",
       "2019-04-02 09:32:00       295.12  0.733864\n",
       "2019-04-02 09:33:00       296.28  0.393060"
      ]
     },
     "execution_count": 129,
     "metadata": {},
     "output_type": "execute_result"
    }
   ],
   "source": [
    "df3.head(3)"
   ]
  },
  {
   "cell_type": "code",
   "execution_count": 132,
   "metadata": {},
   "outputs": [
    {
     "data": {
      "text/plain": [
       "Text(0.5, 1.0, 'ACF for returns')"
      ]
     },
     "execution_count": 132,
     "metadata": {},
     "output_type": "execute_result"
    },
    {
     "data": {
      "image/png": "[encoded data removed]",
      "text/plain": [
       "<Figure size 432x288 with 1 Axes>"
      ]
     },
     "metadata": {
      "needs_background": "light"
     },
     "output_type": "display_data"
    }
   ],
   "source": [
    "sgt.plot_acf(df3.returns[1:],lags=10,zero=False)\n",
    "plt.xlabel('Lags')\n",
    "plt.ylabel('returns')\n",
    "plt.title(\"ACF for returns\",size=24)"
   ]
  },
  {
   "cell_type": "code",
   "execution_count": 133,
   "metadata": {},
   "outputs": [],
   "source": [
    "# Returns are stationary means they are not autocorrelated as shown by above ACF"
   ]
  },
  {
   "cell_type": "code",
   "execution_count": 124,
   "metadata": {},
   "outputs": [
    {
     "name": "stderr",
     "output_type": "stream",
     "text": [
      "C:\\Users\\TAN\\Anaconda3\\lib\\site-packages\\statsmodels\\tsa\\base\\tsa_model.py:219: ValueWarning: A date index has been provided, but it has no associated frequency information and so will be ignored when e.g. forecasting.\n",
      "  ' ignored when e.g. forecasting.', ValueWarning)\n"
     ]
    },
    {
     "data": {
      "text/html": [
       "<table class=\"simpletable\">\n",
       "<caption>ARMA Model Results</caption>\n",
       "<tr>\n",
       "  <th>Dep. Variable:</th>      <td>returns</td>     <th>  No. Observations:  </th>    <td>96326</td>   \n",
       "</tr>\n",
       "<tr>\n",
       "  <th>Model:</th>            <td>ARMA(0, 1)</td>    <th>  Log Likelihood     </th> <td>-173089.785</td>\n",
       "</tr>\n",
       "<tr>\n",
       "  <th>Method:</th>             <td>css-mle</td>     <th>  S.D. of innovations</th>    <td>1.459</td>   \n",
       "</tr>\n",
       "<tr>\n",
       "  <th>Date:</th>          <td>Tue, 19 May 2020</td> <th>  AIC                </th> <td>346185.571</td> \n",
       "</tr>\n",
       "<tr>\n",
       "  <th>Time:</th>              <td>21:05:06</td>     <th>  BIC                </th> <td>346213.997</td> \n",
       "</tr>\n",
       "<tr>\n",
       "  <th>Sample:</th>                <td>0</td>        <th>  HQIC               </th> <td>346194.212</td> \n",
       "</tr>\n",
       "<tr>\n",
       "  <th></th>                       <td> </td>        <th>                     </th>      <td> </td>     \n",
       "</tr>\n",
       "</table>\n",
       "<table class=\"simpletable\">\n",
       "<tr>\n",
       "        <td></td>           <th>coef</th>     <th>std err</th>      <th>z</th>      <th>P>|z|</th>  <th>[0.025</th>    <th>0.975]</th>  \n",
       "</tr>\n",
       "<tr>\n",
       "  <th>const</th>         <td>    0.0199</td> <td>    0.000</td> <td>   69.083</td> <td> 0.000</td> <td>    0.019</td> <td>    0.021</td>\n",
       "</tr>\n",
       "<tr>\n",
       "  <th>ma.L1.returns</th> <td>   -0.9386</td> <td>    0.001</td> <td> -804.398</td> <td> 0.000</td> <td>   -0.941</td> <td>   -0.936</td>\n",
       "</tr>\n",
       "</table>\n",
       "<table class=\"simpletable\">\n",
       "<caption>Roots</caption>\n",
       "<tr>\n",
       "    <td></td>   <th>            Real</th>  <th>         Imaginary</th> <th>         Modulus</th>  <th>        Frequency</th>\n",
       "</tr>\n",
       "<tr>\n",
       "  <th>MA.1</th> <td>           1.0654</td> <td>          +0.0000j</td> <td>           1.0654</td> <td>           0.0000</td>\n",
       "</tr>\n",
       "</table>"
      ],
      "text/plain": [
       "<class 'statsmodels.iolib.summary.Summary'>\n",
       "\"\"\"\n",
       "                              ARMA Model Results                              \n",
       "==============================================================================\n",
       "Dep. Variable:                returns   No. Observations:                96326\n",
       "Model:                     ARMA(0, 1)   Log Likelihood             -173089.785\n",
       "Method:                       css-mle   S.D. of innovations              1.459\n",
       "Date:                Tue, 19 May 2020   AIC                         346185.571\n",
       "Time:                        21:05:06   BIC                         346213.997\n",
       "Sample:                             0   HQIC                        346194.212\n",
       "                                                                              \n",
       "=================================================================================\n",
       "                    coef    std err          z      P>|z|      [0.025      0.975]\n",
       "---------------------------------------------------------------------------------\n",
       "const             0.0199      0.000     69.083      0.000       0.019       0.021\n",
       "ma.L1.returns    -0.9386      0.001   -804.398      0.000      -0.941      -0.936\n",
       "                                    Roots                                    \n",
       "=============================================================================\n",
       "                  Real          Imaginary           Modulus         Frequency\n",
       "-----------------------------------------------------------------------------\n",
       "MA.1            1.0654           +0.0000j            1.0654            0.0000\n",
       "-----------------------------------------------------------------------------\n",
       "\"\"\""
      ]
     },
     "execution_count": 124,
     "metadata": {},
     "output_type": "execute_result"
    }
   ],
   "source": [
    "model_ret_ma_1 = ARMA(df3.returns,order=(0,1))\n",
    "results_ret_ma_1 = model_ret_ma_1.fit()\n",
    "results_ret_ma_1.summary()"
   ]
  },
  {
   "cell_type": "code",
   "execution_count": 135,
   "metadata": {},
   "outputs": [],
   "source": [
    "# order component is 0,1 - (AR component, MA Component)\n",
    "# 1st order lag is significant\n",
    "# Now fitting higher models"
   ]
  },
  {
   "cell_type": "code",
   "execution_count": 134,
   "metadata": {
    "scrolled": true
   },
   "outputs": [
    {
     "name": "stderr",
     "output_type": "stream",
     "text": [
      "C:\\Users\\TAN\\Anaconda3\\lib\\site-packages\\statsmodels\\tsa\\base\\tsa_model.py:219: ValueWarning: A date index has been provided, but it has no associated frequency information and so will be ignored when e.g. forecasting.\n",
      "  ' ignored when e.g. forecasting.', ValueWarning)\n"
     ]
    },
    {
     "name": "stdout",
     "output_type": "stream",
     "text": [
      "                              ARMA Model Results                              \n",
      "==============================================================================\n",
      "Dep. Variable:                returns   No. Observations:                96326\n",
      "Model:                     ARMA(0, 2)   Log Likelihood             -173089.505\n",
      "Method:                       css-mle   S.D. of innovations              1.459\n",
      "Date:                Tue, 19 May 2020   AIC                         346187.010\n",
      "Time:                        21:11:42   BIC                         346224.912\n",
      "Sample:                             0   HQIC                        346198.532\n",
      "                                                                              \n",
      "=================================================================================\n",
      "                    coef    std err          z      P>|z|      [0.025      0.975]\n",
      "---------------------------------------------------------------------------------\n",
      "const             0.0199      0.000     69.283      0.000       0.019       0.021\n",
      "ma.L1.returns    -0.9364      0.003   -291.921      0.000      -0.943      -0.930\n",
      "ma.L2.returns    -0.0024      0.003     -0.749      0.454      -0.009       0.004\n",
      "                                    Roots                                    \n",
      "=============================================================================\n",
      "                  Real          Imaginary           Modulus         Frequency\n",
      "-----------------------------------------------------------------------------\n",
      "MA.1            1.0650           +0.0000j            1.0650            0.0000\n",
      "MA.2         -388.6461           +0.0000j          388.6461            0.5000\n",
      "-----------------------------------------------------------------------------\n"
     ]
    }
   ],
   "source": [
    "model_ret_ma_2 = ARMA(df3.returns,order=(0,2))\n",
    "results_ret_ma_2 = model_ret_ma_2.fit()\n",
    "results_ret_ma_2.summary()\n",
    "print(results_ret_ma_2.summary())\n",
    "#print(\"LLR Test: \" + str(LLR(results_ret_ma_1,results_ret_ma_2)))"
   ]
  },
  {
   "cell_type": "code",
   "execution_count": 138,
   "metadata": {},
   "outputs": [],
   "source": [
    "## 2nd lag model is not significant as p value is 0.454\n",
    "## Checking for higher models"
   ]
  },
  {
   "cell_type": "code",
   "execution_count": 149,
   "metadata": {},
   "outputs": [],
   "source": [
    "# Check for higher lagged models - until you get a high significant model\n",
    "# Regularly do LLR test to compare different models"
   ]
  },
  {
   "cell_type": "code",
   "execution_count": 137,
   "metadata": {},
   "outputs": [],
   "source": [
    "# Skipping some videos on MA Models"
   ]
  },
  {
   "cell_type": "markdown",
   "metadata": {},
   "source": [
    "# ARMA"
   ]
  },
  {
   "cell_type": "code",
   "execution_count": 138,
   "metadata": {},
   "outputs": [],
   "source": [
    "# The ARMA models contain the both past values(like the AR) and past errors(like the MA)"
   ]
  },
  {
   "cell_type": "code",
   "execution_count": 71,
   "metadata": {},
   "outputs": [
    {
     "name": "stderr",
     "output_type": "stream",
     "text": [
      "C:\\Users\\TAN\\Anaconda3\\lib\\site-packages\\statsmodels\\tsa\\base\\tsa_model.py:219: ValueWarning: A date index has been provided, but it has no associated frequency information and so will be ignored when e.g. forecasting.\n",
      "  ' ignored when e.g. forecasting.', ValueWarning)\n"
     ]
    },
    {
     "data": {
      "text/html": [
       "<table class=\"simpletable\">\n",
       "<caption>ARMA Model Results</caption>\n",
       "<tr>\n",
       "  <th>Dep. Variable:</th>      <td>returns</td>     <th>  No. Observations:  </th>    <td>96326</td>   \n",
       "</tr>\n",
       "<tr>\n",
       "  <th>Model:</th>            <td>ARMA(1, 1)</td>    <th>  Log Likelihood     </th> <td>-173089.502</td>\n",
       "</tr>\n",
       "<tr>\n",
       "  <th>Method:</th>             <td>css-mle</td>     <th>  S.D. of innovations</th>    <td>1.459</td>   \n",
       "</tr>\n",
       "<tr>\n",
       "  <th>Date:</th>          <td>Sat, 23 May 2020</td> <th>  AIC                </th> <td>346187.004</td> \n",
       "</tr>\n",
       "<tr>\n",
       "  <th>Time:</th>              <td>13:42:19</td>     <th>  BIC                </th> <td>346224.906</td> \n",
       "</tr>\n",
       "<tr>\n",
       "  <th>Sample:</th>                <td>0</td>        <th>  HQIC               </th> <td>346198.526</td> \n",
       "</tr>\n",
       "<tr>\n",
       "  <th></th>                       <td> </td>        <th>                     </th>      <td> </td>     \n",
       "</tr>\n",
       "</table>\n",
       "<table class=\"simpletable\">\n",
       "<tr>\n",
       "        <td></td>           <th>coef</th>     <th>std err</th>      <th>z</th>      <th>P>|z|</th>  <th>[0.025</th>    <th>0.975]</th>  \n",
       "</tr>\n",
       "<tr>\n",
       "  <th>const</th>         <td>    0.0199</td> <td>    0.000</td> <td>   69.286</td> <td> 0.000</td> <td>    0.019</td> <td>    0.021</td>\n",
       "</tr>\n",
       "<tr>\n",
       "  <th>ar.L1.returns</th> <td>    0.0026</td> <td>    0.003</td> <td>    0.753</td> <td> 0.452</td> <td>   -0.004</td> <td>    0.009</td>\n",
       "</tr>\n",
       "<tr>\n",
       "  <th>ma.L1.returns</th> <td>   -0.9389</td> <td>    0.001</td> <td> -754.279</td> <td> 0.000</td> <td>   -0.941</td> <td>   -0.936</td>\n",
       "</tr>\n",
       "</table>\n",
       "<table class=\"simpletable\">\n",
       "<caption>Roots</caption>\n",
       "<tr>\n",
       "    <td></td>   <th>            Real</th>  <th>         Imaginary</th> <th>         Modulus</th>  <th>        Frequency</th>\n",
       "</tr>\n",
       "<tr>\n",
       "  <th>AR.1</th> <td>         384.4850</td> <td>          +0.0000j</td> <td>         384.4850</td> <td>           0.0000</td>\n",
       "</tr>\n",
       "<tr>\n",
       "  <th>MA.1</th> <td>           1.0650</td> <td>          +0.0000j</td> <td>           1.0650</td> <td>           0.0000</td>\n",
       "</tr>\n",
       "</table>"
      ],
      "text/plain": [
       "<class 'statsmodels.iolib.summary.Summary'>\n",
       "\"\"\"\n",
       "                              ARMA Model Results                              \n",
       "==============================================================================\n",
       "Dep. Variable:                returns   No. Observations:                96326\n",
       "Model:                     ARMA(1, 1)   Log Likelihood             -173089.502\n",
       "Method:                       css-mle   S.D. of innovations              1.459\n",
       "Date:                Sat, 23 May 2020   AIC                         346187.004\n",
       "Time:                        13:42:19   BIC                         346224.906\n",
       "Sample:                             0   HQIC                        346198.526\n",
       "                                                                              \n",
       "=================================================================================\n",
       "                    coef    std err          z      P>|z|      [0.025      0.975]\n",
       "---------------------------------------------------------------------------------\n",
       "const             0.0199      0.000     69.286      0.000       0.019       0.021\n",
       "ar.L1.returns     0.0026      0.003      0.753      0.452      -0.004       0.009\n",
       "ma.L1.returns    -0.9389      0.001   -754.279      0.000      -0.941      -0.936\n",
       "                                    Roots                                    \n",
       "=============================================================================\n",
       "                  Real          Imaginary           Modulus         Frequency\n",
       "-----------------------------------------------------------------------------\n",
       "AR.1          384.4850           +0.0000j          384.4850            0.0000\n",
       "MA.1            1.0650           +0.0000j            1.0650            0.0000\n",
       "-----------------------------------------------------------------------------\n",
       "\"\"\""
      ]
     },
     "execution_count": 71,
     "metadata": {},
     "output_type": "execute_result"
    }
   ],
   "source": [
    "model_ret_ar_1_ma_1 = ARMA(df3.returns,order=(1,1))\n",
    "results_ret_ar_1_ma_1 = model_ret_ar_1_ma_1.fit()\n",
    "results_ret_ar_1_ma_1.summary()\n",
    "#print(results_ret_ma_2.summary())"
   ]
  },
  {
   "cell_type": "code",
   "execution_count": 141,
   "metadata": {},
   "outputs": [
    {
     "name": "stdout",
     "output_type": "stream",
     "text": [
      "LLR Test MA VS ARMA: 0.452\n",
      "LLR Test AR VS ARMA: 0.0\n"
     ]
    }
   ],
   "source": [
    "print(\"LLR Test MA VS ARMA: \" + str(LLR(results_ret_ma_1,results_ret_ar_1_ma_1)))\n",
    "print(\"LLR Test AR VS ARMA: \" + str(LLR(results_ret_ar_1,results_ret_ar_1_ma_1)))"
   ]
  },
  {
   "cell_type": "code",
   "execution_count": null,
   "metadata": {},
   "outputs": [],
   "source": [
    "# The above LLR test proves that MA1 model was better than ARMA 1 (MA model was useful in predict present residual based on\n",
    "# past residual)\n",
    "# However ARMA1 was better than MA1(MA works on values not residual)"
   ]
  },
  {
   "cell_type": "code",
   "execution_count": 74,
   "metadata": {},
   "outputs": [
    {
     "name": "stderr",
     "output_type": "stream",
     "text": [
      "C:\\Users\\TAN\\Anaconda3\\lib\\site-packages\\statsmodels\\tsa\\base\\tsa_model.py:219: ValueWarning: A date index has been provided, but it has no associated frequency information and so will be ignored when e.g. forecasting.\n",
      "  ' ignored when e.g. forecasting.', ValueWarning)\n"
     ]
    }
   ],
   "source": [
    "model_ret_ar_2_ma_2 = ARMA(df3.returns,order=(2,2))\n",
    "results_ret_ar_2_ma_2 = model_ret_ar_2_ma_2.fit()\n",
    "#results_ret_ar_2_ma_2.summary()"
   ]
  },
  {
   "cell_type": "code",
   "execution_count": 142,
   "metadata": {},
   "outputs": [
    {
     "name": "stdout",
     "output_type": "stream",
     "text": [
      "LLR Test MA VS ARMA: 0.084\n",
      "LLR Test AR VS ARMA: 0.0\n"
     ]
    }
   ],
   "source": [
    "print(\"LLR Test MA VS ARMA: \" + str(LLR(results_ret_ma_2,results_ret_ar_2_ma_2)))\n",
    "print(\"LLR Test AR VS ARMA: \" + str(LLR(results_ret_ar_2,results_ret_ar_2_ma_2)))"
   ]
  },
  {
   "cell_type": "code",
   "execution_count": null,
   "metadata": {},
   "outputs": [],
   "source": [
    "# ARMA2 is btter value predictor than AR 2\n",
    "# MA2 is better residual predictor than ARMA2"
   ]
  },
  {
   "cell_type": "code",
   "execution_count": 143,
   "metadata": {},
   "outputs": [
    {
     "name": "stderr",
     "output_type": "stream",
     "text": [
      "C:\\Users\\TAN\\Anaconda3\\lib\\site-packages\\statsmodels\\tsa\\base\\tsa_model.py:219: ValueWarning: A date index has been provided, but it has no associated frequency information and so will be ignored when e.g. forecasting.\n",
      "  ' ignored when e.g. forecasting.', ValueWarning)\n"
     ]
    },
    {
     "data": {
      "text/html": [
       "<table class=\"simpletable\">\n",
       "<caption>ARMA Model Results</caption>\n",
       "<tr>\n",
       "  <th>Dep. Variable:</th>      <td>returns</td>     <th>  No. Observations:  </th>    <td>96326</td>   \n",
       "</tr>\n",
       "<tr>\n",
       "  <th>Model:</th>            <td>ARMA(8, 6)</td>    <th>  Log Likelihood     </th> <td>-173073.780</td>\n",
       "</tr>\n",
       "<tr>\n",
       "  <th>Method:</th>             <td>css-mle</td>     <th>  S.D. of innovations</th>    <td>1.459</td>   \n",
       "</tr>\n",
       "<tr>\n",
       "  <th>Date:</th>          <td>Tue, 19 May 2020</td> <th>  AIC                </th> <td>346179.559</td> \n",
       "</tr>\n",
       "<tr>\n",
       "  <th>Time:</th>              <td>22:24:35</td>     <th>  BIC                </th> <td>346331.167</td> \n",
       "</tr>\n",
       "<tr>\n",
       "  <th>Sample:</th>                <td>0</td>        <th>  HQIC               </th> <td>346225.646</td> \n",
       "</tr>\n",
       "<tr>\n",
       "  <th></th>                       <td> </td>        <th>                     </th>      <td> </td>     \n",
       "</tr>\n",
       "</table>\n",
       "<table class=\"simpletable\">\n",
       "<tr>\n",
       "        <td></td>           <th>coef</th>     <th>std err</th>      <th>z</th>      <th>P>|z|</th>  <th>[0.025</th>    <th>0.975]</th>  \n",
       "</tr>\n",
       "<tr>\n",
       "  <th>const</th>         <td>    0.0199</td> <td>    0.000</td> <td>   70.651</td> <td> 0.000</td> <td>    0.019</td> <td>    0.021</td>\n",
       "</tr>\n",
       "<tr>\n",
       "  <th>ar.L1.returns</th> <td>    0.1045</td> <td>    0.241</td> <td>    0.434</td> <td> 0.664</td> <td>   -0.368</td> <td>    0.577</td>\n",
       "</tr>\n",
       "<tr>\n",
       "  <th>ar.L2.returns</th> <td>   -0.8437</td> <td>    0.130</td> <td>   -6.487</td> <td> 0.000</td> <td>   -1.099</td> <td>   -0.589</td>\n",
       "</tr>\n",
       "<tr>\n",
       "  <th>ar.L3.returns</th> <td>    0.0857</td> <td>    0.261</td> <td>    0.328</td> <td> 0.743</td> <td>   -0.425</td> <td>    0.597</td>\n",
       "</tr>\n",
       "<tr>\n",
       "  <th>ar.L4.returns</th> <td>   -0.7426</td> <td>    0.125</td> <td>   -5.957</td> <td> 0.000</td> <td>   -0.987</td> <td>   -0.498</td>\n",
       "</tr>\n",
       "<tr>\n",
       "  <th>ar.L5.returns</th> <td>   -0.4114</td> <td>    0.240</td> <td>   -1.715</td> <td> 0.086</td> <td>   -0.882</td> <td>    0.059</td>\n",
       "</tr>\n",
       "<tr>\n",
       "  <th>ar.L6.returns</th> <td>    0.0173</td> <td>    0.005</td> <td>    3.496</td> <td> 0.000</td> <td>    0.008</td> <td>    0.027</td>\n",
       "</tr>\n",
       "<tr>\n",
       "  <th>ar.L7.returns</th> <td>    0.0026</td> <td>    0.004</td> <td>    0.638</td> <td> 0.523</td> <td>   -0.005</td> <td>    0.010</td>\n",
       "</tr>\n",
       "<tr>\n",
       "  <th>ar.L8.returns</th> <td>    0.0097</td> <td>    0.004</td> <td>    2.667</td> <td> 0.008</td> <td>    0.003</td> <td>    0.017</td>\n",
       "</tr>\n",
       "<tr>\n",
       "  <th>ma.L1.returns</th> <td>   -1.0409</td> <td>    0.241</td> <td>   -4.320</td> <td> 0.000</td> <td>   -1.513</td> <td>   -0.569</td>\n",
       "</tr>\n",
       "<tr>\n",
       "  <th>ma.L2.returns</th> <td>    0.9438</td> <td>    0.356</td> <td>    2.655</td> <td> 0.008</td> <td>    0.247</td> <td>    1.641</td>\n",
       "</tr>\n",
       "<tr>\n",
       "  <th>ma.L3.returns</th> <td>   -0.8774</td> <td>    0.383</td> <td>   -2.292</td> <td> 0.022</td> <td>   -1.627</td> <td>   -0.127</td>\n",
       "</tr>\n",
       "<tr>\n",
       "  <th>ma.L4.returns</th> <td>    0.8301</td> <td>    0.372</td> <td>    2.232</td> <td> 0.026</td> <td>    0.101</td> <td>    1.559</td>\n",
       "</tr>\n",
       "<tr>\n",
       "  <th>ma.L5.returns</th> <td>   -0.2980</td> <td>    0.361</td> <td>   -0.826</td> <td> 0.409</td> <td>   -1.005</td> <td>    0.409</td>\n",
       "</tr>\n",
       "<tr>\n",
       "  <th>ma.L6.returns</th> <td>   -0.3908</td> <td>    0.227</td> <td>   -1.721</td> <td> 0.085</td> <td>   -0.836</td> <td>    0.054</td>\n",
       "</tr>\n",
       "</table>\n",
       "<table class=\"simpletable\">\n",
       "<caption>Roots</caption>\n",
       "<tr>\n",
       "    <td></td>   <th>            Real</th>  <th>         Imaginary</th> <th>         Modulus</th>  <th>        Frequency</th>\n",
       "</tr>\n",
       "<tr>\n",
       "  <th>AR.1</th> <td>           0.6350</td> <td>          -0.7833j</td> <td>           1.0083</td> <td>          -0.1416</td>\n",
       "</tr>\n",
       "<tr>\n",
       "  <th>AR.2</th> <td>           0.6350</td> <td>          +0.7833j</td> <td>           1.0083</td> <td>           0.1416</td>\n",
       "</tr>\n",
       "<tr>\n",
       "  <th>AR.3</th> <td>          -0.3648</td> <td>          -0.9323j</td> <td>           1.0012</td> <td>          -0.3094</td>\n",
       "</tr>\n",
       "<tr>\n",
       "  <th>AR.4</th> <td>          -0.3648</td> <td>          +0.9323j</td> <td>           1.0012</td> <td>           0.3094</td>\n",
       "</tr>\n",
       "<tr>\n",
       "  <th>AR.5</th> <td>          -2.0403</td> <td>          -0.0000j</td> <td>           2.0403</td> <td>          -0.5000</td>\n",
       "</tr>\n",
       "<tr>\n",
       "  <th>AR.6</th> <td>           3.7676</td> <td>          -0.0000j</td> <td>           3.7676</td> <td>          -0.0000</td>\n",
       "</tr>\n",
       "<tr>\n",
       "  <th>AR.7</th> <td>          -1.2669</td> <td>          -3.4050j</td> <td>           3.6331</td> <td>          -0.3067</td>\n",
       "</tr>\n",
       "<tr>\n",
       "  <th>AR.8</th> <td>          -1.2669</td> <td>          +3.4050j</td> <td>           3.6331</td> <td>           0.3067</td>\n",
       "</tr>\n",
       "<tr>\n",
       "  <th>MA.1</th> <td>           1.0623</td> <td>          -0.0000j</td> <td>           1.0623</td> <td>          -0.0000</td>\n",
       "</tr>\n",
       "<tr>\n",
       "  <th>MA.2</th> <td>           0.6351</td> <td>          -0.7826j</td> <td>           1.0078</td> <td>          -0.1415</td>\n",
       "</tr>\n",
       "<tr>\n",
       "  <th>MA.3</th> <td>           0.6351</td> <td>          +0.7826j</td> <td>           1.0078</td> <td>           0.1415</td>\n",
       "</tr>\n",
       "<tr>\n",
       "  <th>MA.4</th> <td>          -0.3651</td> <td>          -0.9325j</td> <td>           1.0015</td> <td>          -0.3094</td>\n",
       "</tr>\n",
       "<tr>\n",
       "  <th>MA.5</th> <td>          -0.3651</td> <td>          +0.9325j</td> <td>           1.0015</td> <td>           0.3094</td>\n",
       "</tr>\n",
       "<tr>\n",
       "  <th>MA.6</th> <td>          -2.3648</td> <td>          -0.0000j</td> <td>           2.3648</td> <td>          -0.5000</td>\n",
       "</tr>\n",
       "</table>"
      ],
      "text/plain": [
       "<class 'statsmodels.iolib.summary.Summary'>\n",
       "\"\"\"\n",
       "                              ARMA Model Results                              \n",
       "==============================================================================\n",
       "Dep. Variable:                returns   No. Observations:                96326\n",
       "Model:                     ARMA(8, 6)   Log Likelihood             -173073.780\n",
       "Method:                       css-mle   S.D. of innovations              1.459\n",
       "Date:                Tue, 19 May 2020   AIC                         346179.559\n",
       "Time:                        22:24:35   BIC                         346331.167\n",
       "Sample:                             0   HQIC                        346225.646\n",
       "                                                                              \n",
       "=================================================================================\n",
       "                    coef    std err          z      P>|z|      [0.025      0.975]\n",
       "---------------------------------------------------------------------------------\n",
       "const             0.0199      0.000     70.651      0.000       0.019       0.021\n",
       "ar.L1.returns     0.1045      0.241      0.434      0.664      -0.368       0.577\n",
       "ar.L2.returns    -0.8437      0.130     -6.487      0.000      -1.099      -0.589\n",
       "ar.L3.returns     0.0857      0.261      0.328      0.743      -0.425       0.597\n",
       "ar.L4.returns    -0.7426      0.125     -5.957      0.000      -0.987      -0.498\n",
       "ar.L5.returns    -0.4114      0.240     -1.715      0.086      -0.882       0.059\n",
       "ar.L6.returns     0.0173      0.005      3.496      0.000       0.008       0.027\n",
       "ar.L7.returns     0.0026      0.004      0.638      0.523      -0.005       0.010\n",
       "ar.L8.returns     0.0097      0.004      2.667      0.008       0.003       0.017\n",
       "ma.L1.returns    -1.0409      0.241     -4.320      0.000      -1.513      -0.569\n",
       "ma.L2.returns     0.9438      0.356      2.655      0.008       0.247       1.641\n",
       "ma.L3.returns    -0.8774      0.383     -2.292      0.022      -1.627      -0.127\n",
       "ma.L4.returns     0.8301      0.372      2.232      0.026       0.101       1.559\n",
       "ma.L5.returns    -0.2980      0.361     -0.826      0.409      -1.005       0.409\n",
       "ma.L6.returns    -0.3908      0.227     -1.721      0.085      -0.836       0.054\n",
       "                                    Roots                                    \n",
       "=============================================================================\n",
       "                  Real          Imaginary           Modulus         Frequency\n",
       "-----------------------------------------------------------------------------\n",
       "AR.1            0.6350           -0.7833j            1.0083           -0.1416\n",
       "AR.2            0.6350           +0.7833j            1.0083            0.1416\n",
       "AR.3           -0.3648           -0.9323j            1.0012           -0.3094\n",
       "AR.4           -0.3648           +0.9323j            1.0012            0.3094\n",
       "AR.5           -2.0403           -0.0000j            2.0403           -0.5000\n",
       "AR.6            3.7676           -0.0000j            3.7676           -0.0000\n",
       "AR.7           -1.2669           -3.4050j            3.6331           -0.3067\n",
       "AR.8           -1.2669           +3.4050j            3.6331            0.3067\n",
       "MA.1            1.0623           -0.0000j            1.0623           -0.0000\n",
       "MA.2            0.6351           -0.7826j            1.0078           -0.1415\n",
       "MA.3            0.6351           +0.7826j            1.0078            0.1415\n",
       "MA.4           -0.3651           -0.9325j            1.0015           -0.3094\n",
       "MA.5           -0.3651           +0.9325j            1.0015            0.3094\n",
       "MA.6           -2.3648           -0.0000j            2.3648           -0.5000\n",
       "-----------------------------------------------------------------------------\n",
       "\"\"\""
      ]
     },
     "execution_count": 143,
     "metadata": {},
     "output_type": "execute_result"
    }
   ],
   "source": [
    "model_ret_ar_8_ma_6 = ARMA(df3.returns,order=(8,6))\n",
    "results_ret_ar_8_ma_6 = model_ret_ar_8_ma_6.fit()\n",
    "results_ret_ar_8_ma_6.summary()"
   ]
  },
  {
   "cell_type": "code",
   "execution_count": 62,
   "metadata": {},
   "outputs": [],
   "source": [
    "# Observing MA coeffecients which are not significant with model ma.L5 and above as the p values are above 0.05, we can move to\n",
    "# simpler lag ma model till MA4\n",
    "# With AR model, the coefficients are not telling a very straightforward story as some models are signficant while others are not\n",
    "# Lets take a model half such as ARMA(3,3)"
   ]
  },
  {
   "cell_type": "code",
   "execution_count": 72,
   "metadata": {},
   "outputs": [
    {
     "name": "stderr",
     "output_type": "stream",
     "text": [
      "C:\\Users\\TAN\\Anaconda3\\lib\\site-packages\\statsmodels\\tsa\\base\\tsa_model.py:219: ValueWarning: A date index has been provided, but it has no associated frequency information and so will be ignored when e.g. forecasting.\n",
      "  ' ignored when e.g. forecasting.', ValueWarning)\n"
     ]
    }
   ],
   "source": [
    "model_ret_ar_3_ma_3 = ARMA(df3.returns,order=(3,3))\n",
    "results_ret_ar_3_ma_3 = model_ret_ar_3_ma_3.fit()"
   ]
  },
  {
   "cell_type": "code",
   "execution_count": 73,
   "metadata": {},
   "outputs": [
    {
     "data": {
      "text/plain": [
       "0.522"
      ]
     },
     "execution_count": 73,
     "metadata": {},
     "output_type": "execute_result"
    }
   ],
   "source": [
    "LLR(results_ret_ar_1_ma_1,results_ret_ar_3_ma_3,DF=4)"
   ]
  },
  {
   "cell_type": "code",
   "execution_count": 75,
   "metadata": {},
   "outputs": [
    {
     "data": {
      "text/html": [
       "<table class=\"simpletable\">\n",
       "<caption>ARMA Model Results</caption>\n",
       "<tr>\n",
       "  <th>Dep. Variable:</th>      <td>returns</td>     <th>  No. Observations:  </th>    <td>96326</td>   \n",
       "</tr>\n",
       "<tr>\n",
       "  <th>Model:</th>            <td>ARMA(3, 3)</td>    <th>  Log Likelihood     </th> <td>-173087.894</td>\n",
       "</tr>\n",
       "<tr>\n",
       "  <th>Method:</th>             <td>css-mle</td>     <th>  S.D. of innovations</th>    <td>1.459</td>   \n",
       "</tr>\n",
       "<tr>\n",
       "  <th>Date:</th>          <td>Sat, 23 May 2020</td> <th>  AIC                </th> <td>346191.788</td> \n",
       "</tr>\n",
       "<tr>\n",
       "  <th>Time:</th>              <td>13:49:18</td>     <th>  BIC                </th> <td>346267.592</td> \n",
       "</tr>\n",
       "<tr>\n",
       "  <th>Sample:</th>                <td>0</td>        <th>  HQIC               </th> <td>346214.832</td> \n",
       "</tr>\n",
       "<tr>\n",
       "  <th></th>                       <td> </td>        <th>                     </th>      <td> </td>     \n",
       "</tr>\n",
       "</table>\n",
       "<table class=\"simpletable\">\n",
       "<tr>\n",
       "        <td></td>           <th>coef</th>     <th>std err</th>      <th>z</th>      <th>P>|z|</th>  <th>[0.025</th>    <th>0.975]</th>  \n",
       "</tr>\n",
       "<tr>\n",
       "  <th>const</th>         <td>    0.0199</td> <td>    0.000</td> <td>   69.368</td> <td> 0.000</td> <td>    0.019</td> <td>    0.021</td>\n",
       "</tr>\n",
       "<tr>\n",
       "  <th>ar.L1.returns</th> <td>   -1.3290</td> <td>    0.574</td> <td>   -2.314</td> <td> 0.021</td> <td>   -2.454</td> <td>   -0.204</td>\n",
       "</tr>\n",
       "<tr>\n",
       "  <th>ar.L2.returns</th> <td>   -0.5584</td> <td>    0.390</td> <td>   -1.431</td> <td> 0.152</td> <td>   -1.323</td> <td>    0.206</td>\n",
       "</tr>\n",
       "<tr>\n",
       "  <th>ar.L3.returns</th> <td>    0.0016</td> <td>    0.006</td> <td>    0.255</td> <td> 0.799</td> <td>   -0.011</td> <td>    0.014</td>\n",
       "</tr>\n",
       "<tr>\n",
       "  <th>ma.L1.returns</th> <td>    0.3927</td> <td>    0.574</td> <td>    0.684</td> <td> 0.494</td> <td>   -0.733</td> <td>    1.518</td>\n",
       "</tr>\n",
       "<tr>\n",
       "  <th>ma.L2.returns</th> <td>   -0.6860</td> <td>    0.300</td> <td>   -2.285</td> <td> 0.022</td> <td>   -1.274</td> <td>   -0.097</td>\n",
       "</tr>\n",
       "<tr>\n",
       "  <th>ma.L3.returns</th> <td>   -0.5302</td> <td>    0.368</td> <td>   -1.442</td> <td> 0.149</td> <td>   -1.251</td> <td>    0.191</td>\n",
       "</tr>\n",
       "</table>\n",
       "<table class=\"simpletable\">\n",
       "<caption>Roots</caption>\n",
       "<tr>\n",
       "    <td></td>   <th>            Real</th>  <th>         Imaginary</th> <th>         Modulus</th>  <th>        Frequency</th>\n",
       "</tr>\n",
       "<tr>\n",
       "  <th>AR.1</th> <td>          -1.1844</td> <td>          -0.6130j</td> <td>           1.3336</td> <td>          -0.4240</td>\n",
       "</tr>\n",
       "<tr>\n",
       "  <th>AR.2</th> <td>          -1.1844</td> <td>          +0.6130j</td> <td>           1.3336</td> <td>           0.4240</td>\n",
       "</tr>\n",
       "<tr>\n",
       "  <th>AR.3</th> <td>         340.9983</td> <td>          -0.0000j</td> <td>         340.9983</td> <td>          -0.0000</td>\n",
       "</tr>\n",
       "<tr>\n",
       "  <th>MA.1</th> <td>           1.0649</td> <td>          -0.0000j</td> <td>           1.0649</td> <td>          -0.0000</td>\n",
       "</tr>\n",
       "<tr>\n",
       "  <th>MA.2</th> <td>          -1.1793</td> <td>          -0.6167j</td> <td>           1.3308</td> <td>          -0.4233</td>\n",
       "</tr>\n",
       "<tr>\n",
       "  <th>MA.3</th> <td>          -1.1793</td> <td>          +0.6167j</td> <td>           1.3308</td> <td>           0.4233</td>\n",
       "</tr>\n",
       "</table>"
      ],
      "text/plain": [
       "<class 'statsmodels.iolib.summary.Summary'>\n",
       "\"\"\"\n",
       "                              ARMA Model Results                              \n",
       "==============================================================================\n",
       "Dep. Variable:                returns   No. Observations:                96326\n",
       "Model:                     ARMA(3, 3)   Log Likelihood             -173087.894\n",
       "Method:                       css-mle   S.D. of innovations              1.459\n",
       "Date:                Sat, 23 May 2020   AIC                         346191.788\n",
       "Time:                        13:49:18   BIC                         346267.592\n",
       "Sample:                             0   HQIC                        346214.832\n",
       "                                                                              \n",
       "=================================================================================\n",
       "                    coef    std err          z      P>|z|      [0.025      0.975]\n",
       "---------------------------------------------------------------------------------\n",
       "const             0.0199      0.000     69.368      0.000       0.019       0.021\n",
       "ar.L1.returns    -1.3290      0.574     -2.314      0.021      -2.454      -0.204\n",
       "ar.L2.returns    -0.5584      0.390     -1.431      0.152      -1.323       0.206\n",
       "ar.L3.returns     0.0016      0.006      0.255      0.799      -0.011       0.014\n",
       "ma.L1.returns     0.3927      0.574      0.684      0.494      -0.733       1.518\n",
       "ma.L2.returns    -0.6860      0.300     -2.285      0.022      -1.274      -0.097\n",
       "ma.L3.returns    -0.5302      0.368     -1.442      0.149      -1.251       0.191\n",
       "                                    Roots                                    \n",
       "=============================================================================\n",
       "                  Real          Imaginary           Modulus         Frequency\n",
       "-----------------------------------------------------------------------------\n",
       "AR.1           -1.1844           -0.6130j            1.3336           -0.4240\n",
       "AR.2           -1.1844           +0.6130j            1.3336            0.4240\n",
       "AR.3          340.9983           -0.0000j          340.9983           -0.0000\n",
       "MA.1            1.0649           -0.0000j            1.0649           -0.0000\n",
       "MA.2           -1.1793           -0.6167j            1.3308           -0.4233\n",
       "MA.3           -1.1793           +0.6167j            1.3308            0.4233\n",
       "-----------------------------------------------------------------------------\n",
       "\"\"\""
      ]
     },
     "execution_count": 75,
     "metadata": {},
     "output_type": "execute_result"
    }
   ],
   "source": [
    "results_ret_ar_3_ma_3.summary()"
   ]
  },
  {
   "cell_type": "code",
   "execution_count": 76,
   "metadata": {},
   "outputs": [
    {
     "data": {
      "text/plain": [
       "0.89"
      ]
     },
     "execution_count": 76,
     "metadata": {},
     "output_type": "execute_result"
    }
   ],
   "source": [
    "LLR(results_ret_ar_2_ma_2,results_ret_ar_3_ma_3,DF=2)"
   ]
  },
  {
   "cell_type": "code",
   "execution_count": 77,
   "metadata": {},
   "outputs": [
    {
     "name": "stderr",
     "output_type": "stream",
     "text": [
      "C:\\Users\\TAN\\Anaconda3\\lib\\site-packages\\statsmodels\\tsa\\base\\tsa_model.py:219: ValueWarning: A date index has been provided, but it has no associated frequency information and so will be ignored when e.g. forecasting.\n",
      "  ' ignored when e.g. forecasting.', ValueWarning)\n"
     ]
    }
   ],
   "source": [
    "model_ret_ar_1_ma_2 = ARMA(df3.returns,order=(1,2))\n",
    "results_ret_ar_1_ma_2 = model_ret_ar_1_ma_2.fit()"
   ]
  },
  {
   "cell_type": "code",
   "execution_count": 78,
   "metadata": {},
   "outputs": [
    {
     "data": {
      "text/plain": [
       "0.0"
      ]
     },
     "execution_count": 78,
     "metadata": {},
     "output_type": "execute_result"
    }
   ],
   "source": [
    "LLR(results_ret_ar_1_ma_1,results_ret_ar_1_ma_2,DF=1)"
   ]
  },
  {
   "cell_type": "code",
   "execution_count": 80,
   "metadata": {},
   "outputs": [
    {
     "data": {
      "text/plain": [
       "0.0"
      ]
     },
     "execution_count": 80,
     "metadata": {},
     "output_type": "execute_result"
    }
   ],
   "source": [
    "LLR(results_ret_ar_2_ma_2,results_ret_ar_1_ma_2,DF=1)"
   ]
  },
  {
   "cell_type": "code",
   "execution_count": 79,
   "metadata": {},
   "outputs": [
    {
     "data": {
      "text/html": [
       "<table class=\"simpletable\">\n",
       "<caption>ARMA Model Results</caption>\n",
       "<tr>\n",
       "  <th>Dep. Variable:</th>      <td>returns</td>     <th>  No. Observations:  </th>    <td>96326</td>   \n",
       "</tr>\n",
       "<tr>\n",
       "  <th>Model:</th>            <td>ARMA(1, 2)</td>    <th>  Log Likelihood     </th> <td>-173077.424</td>\n",
       "</tr>\n",
       "<tr>\n",
       "  <th>Method:</th>             <td>css-mle</td>     <th>  S.D. of innovations</th>    <td>1.459</td>   \n",
       "</tr>\n",
       "<tr>\n",
       "  <th>Date:</th>          <td>Sat, 23 May 2020</td> <th>  AIC                </th> <td>346164.849</td> \n",
       "</tr>\n",
       "<tr>\n",
       "  <th>Time:</th>              <td>13:56:20</td>     <th>  BIC                </th> <td>346212.226</td> \n",
       "</tr>\n",
       "<tr>\n",
       "  <th>Sample:</th>                <td>0</td>        <th>  HQIC               </th> <td>346179.251</td> \n",
       "</tr>\n",
       "<tr>\n",
       "  <th></th>                       <td> </td>        <th>                     </th>      <td> </td>     \n",
       "</tr>\n",
       "</table>\n",
       "<table class=\"simpletable\">\n",
       "<tr>\n",
       "        <td></td>           <th>coef</th>     <th>std err</th>      <th>z</th>      <th>P>|z|</th>  <th>[0.025</th>    <th>0.975]</th>  \n",
       "</tr>\n",
       "<tr>\n",
       "  <th>const</th>         <td>    0.0199</td> <td>    0.000</td> <td>   76.945</td> <td> 0.000</td> <td>    0.019</td> <td>    0.020</td>\n",
       "</tr>\n",
       "<tr>\n",
       "  <th>ar.L1.returns</th> <td>    0.9482</td> <td>    0.009</td> <td>  100.377</td> <td> 0.000</td> <td>    0.930</td> <td>    0.967</td>\n",
       "</tr>\n",
       "<tr>\n",
       "  <th>ma.L1.returns</th> <td>   -1.8823</td> <td>    0.010</td> <td> -191.533</td> <td> 0.000</td> <td>   -1.902</td> <td>   -1.863</td>\n",
       "</tr>\n",
       "<tr>\n",
       "  <th>ma.L2.returns</th> <td>    0.8852</td> <td>    0.009</td> <td>   95.293</td> <td> 0.000</td> <td>    0.867</td> <td>    0.903</td>\n",
       "</tr>\n",
       "</table>\n",
       "<table class=\"simpletable\">\n",
       "<caption>Roots</caption>\n",
       "<tr>\n",
       "    <td></td>   <th>            Real</th>  <th>         Imaginary</th> <th>         Modulus</th>  <th>        Frequency</th>\n",
       "</tr>\n",
       "<tr>\n",
       "  <th>AR.1</th> <td>           1.0547</td> <td>          +0.0000j</td> <td>           1.0547</td> <td>           0.0000</td>\n",
       "</tr>\n",
       "<tr>\n",
       "  <th>MA.1</th> <td>           1.0355</td> <td>          +0.0000j</td> <td>           1.0355</td> <td>           0.0000</td>\n",
       "</tr>\n",
       "<tr>\n",
       "  <th>MA.2</th> <td>           1.0910</td> <td>          +0.0000j</td> <td>           1.0910</td> <td>           0.0000</td>\n",
       "</tr>\n",
       "</table>"
      ],
      "text/plain": [
       "<class 'statsmodels.iolib.summary.Summary'>\n",
       "\"\"\"\n",
       "                              ARMA Model Results                              \n",
       "==============================================================================\n",
       "Dep. Variable:                returns   No. Observations:                96326\n",
       "Model:                     ARMA(1, 2)   Log Likelihood             -173077.424\n",
       "Method:                       css-mle   S.D. of innovations              1.459\n",
       "Date:                Sat, 23 May 2020   AIC                         346164.849\n",
       "Time:                        13:56:20   BIC                         346212.226\n",
       "Sample:                             0   HQIC                        346179.251\n",
       "                                                                              \n",
       "=================================================================================\n",
       "                    coef    std err          z      P>|z|      [0.025      0.975]\n",
       "---------------------------------------------------------------------------------\n",
       "const             0.0199      0.000     76.945      0.000       0.019       0.020\n",
       "ar.L1.returns     0.9482      0.009    100.377      0.000       0.930       0.967\n",
       "ma.L1.returns    -1.8823      0.010   -191.533      0.000      -1.902      -1.863\n",
       "ma.L2.returns     0.8852      0.009     95.293      0.000       0.867       0.903\n",
       "                                    Roots                                    \n",
       "=============================================================================\n",
       "                  Real          Imaginary           Modulus         Frequency\n",
       "-----------------------------------------------------------------------------\n",
       "AR.1            1.0547           +0.0000j            1.0547            0.0000\n",
       "MA.1            1.0355           +0.0000j            1.0355            0.0000\n",
       "MA.2            1.0910           +0.0000j            1.0910            0.0000\n",
       "-----------------------------------------------------------------------------\n",
       "\"\"\""
      ]
     },
     "execution_count": 79,
     "metadata": {},
     "output_type": "execute_result"
    }
   ],
   "source": [
    "results_ret_ar_1_ma_2.summary()"
   ]
  },
  {
   "cell_type": "code",
   "execution_count": 82,
   "metadata": {},
   "outputs": [],
   "source": [
    "# ARMA(1,2) model has resulted in the most efficient model\n",
    "# Also absolute values of coefficient for ma model are decreased from 1.8823 to 0.8852, this means that residuals are reduced"
   ]
  },
  {
   "cell_type": "markdown",
   "metadata": {},
   "source": [
    "# Residuals for ARMA"
   ]
  },
  {
   "cell_type": "code",
   "execution_count": 95,
   "metadata": {},
   "outputs": [
    {
     "name": "stderr",
     "output_type": "stream",
     "text": [
      "C:\\Users\\TAN\\Anaconda3\\lib\\site-packages\\ipykernel_launcher.py:1: SettingWithCopyWarning: \n",
      "A value is trying to be set on a copy of a slice from a DataFrame.\n",
      "Try using .loc[row_indexer,col_indexer] = value instead\n",
      "\n",
      "See the caveats in the documentation: http://pandas.pydata.org/pandas-docs/stable/user_guide/indexing.html#returning-a-view-versus-a-copy\n",
      "  \"\"\"Entry point for launching an IPython kernel.\n"
     ]
    }
   ],
   "source": [
    "df3['resid_results_ret_ar_1_ma_2'] = results_ret_ar_1_ma_2.resid"
   ]
  },
  {
   "cell_type": "code",
   "execution_count": 97,
   "metadata": {},
   "outputs": [
    {
     "data": {
      "image/png": "[encoded data removed]",
      "text/plain": [
       "<Figure size 1440x360 with 1 Axes>"
      ]
     },
     "metadata": {
      "needs_background": "light"
     },
     "output_type": "display_data"
    }
   ],
   "source": [
    "df3.resid_results_ret_ar_1_ma_2.plot(figsize=(20,5))\n",
    "plt.title('Residuals of returns',size=24)\n",
    "plt.show()"
   ]
  },
  {
   "cell_type": "code",
   "execution_count": 98,
   "metadata": {},
   "outputs": [
    {
     "data": {
      "text/plain": [
       "Text(0.5, 1.0, 'ACF LAG')"
      ]
     },
     "execution_count": 98,
     "metadata": {},
     "output_type": "execute_result"
    },
    {
     "data": {
      "image/png": "[encoded data removed]",
      "text/plain": [
       "<Figure size 432x288 with 1 Axes>"
      ]
     },
     "metadata": {
      "needs_background": "light"
     },
     "output_type": "display_data"
    }
   ],
   "source": [
    "sgt.plot_acf(df3.resid_results_ret_ar_1_ma_2,lags=40,zero=False)\n",
    "plt.xlabel('Lags')\n",
    "plt.ylabel('ACF of residuals of returns for ARMA(1,2)')\n",
    "plt.title(\"ACF LAG\")"
   ]
  },
  {
   "cell_type": "markdown",
   "metadata": {},
   "source": [
    "# ACF is helpful for understanding if residuals represesnt White Noise"
   ]
  },
  {
   "cell_type": "code",
   "execution_count": 99,
   "metadata": {},
   "outputs": [],
   "source": [
    "# As all the residuals are within significance level we can say that all are significant or different or not autocorrelated or\n",
    "# represents white noise\n"
   ]
  },
  {
   "cell_type": "code",
   "execution_count": 100,
   "metadata": {},
   "outputs": [],
   "source": [
    "# ARMA Model works better while modeling stationary time series data such as returns\n",
    "# as the log likelihood for returns is higher than that of market prices"
   ]
  },
  {
   "cell_type": "markdown",
   "metadata": {},
   "source": [
    "# ARIMA(Autoregressive Integrated Moving Average)"
   ]
  },
  {
   "cell_type": "markdown",
   "metadata": {},
   "source": [
    "### To model non stationary data, ARIMA(Autoregressive Integrated Moving Average) model comes into picture"
   ]
  },
  {
   "cell_type": "markdown",
   "metadata": {},
   "source": [
    "#### Models the difference between prices(across periods) instead of pricee. The purpose of the model is to ensure stationarity no matter what the underlying data is."
   ]
  },
  {
   "cell_type": "markdown",
   "metadata": {},
   "source": [
    "#### ARIMA model is nothing but an ARMA model applied on the newly generated time series from the difference in prices"
   ]
  },
  {
   "cell_type": "markdown",
   "metadata": {},
   "source": [
    "### ARIMA (1,1,1)"
   ]
  },
  {
   "cell_type": "code",
   "execution_count": 41,
   "metadata": {},
   "outputs": [
    {
     "data": {
      "text/html": [
       "<div>\n",
       "<style scoped>\n",
       "    .dataframe tbody tr th:only-of-type {\n",
       "        vertical-align: middle;\n",
       "    }\n",
       "\n",
       "    .dataframe tbody tr th {\n",
       "        vertical-align: top;\n",
       "    }\n",
       "\n",
       "    .dataframe thead th {\n",
       "        text-align: right;\n",
       "    }\n",
       "</style>\n",
       "<table border=\"1\" class=\"dataframe\">\n",
       "  <thead>\n",
       "    <tr style=\"text-align: right;\">\n",
       "      <th></th>\n",
       "      <th>marketClose</th>\n",
       "      <th>returns</th>\n",
       "    </tr>\n",
       "    <tr>\n",
       "      <th>DateTime</th>\n",
       "      <th></th>\n",
       "      <th></th>\n",
       "    </tr>\n",
       "  </thead>\n",
       "  <tbody>\n",
       "    <tr>\n",
       "      <th>2019-04-02 09:31:00</th>\n",
       "      <td>292.97</td>\n",
       "      <td>-2.343333</td>\n",
       "    </tr>\n",
       "    <tr>\n",
       "      <th>2019-04-02 09:32:00</th>\n",
       "      <td>295.12</td>\n",
       "      <td>0.733864</td>\n",
       "    </tr>\n",
       "    <tr>\n",
       "      <th>2019-04-02 09:33:00</th>\n",
       "      <td>296.28</td>\n",
       "      <td>0.393060</td>\n",
       "    </tr>\n",
       "    <tr>\n",
       "      <th>2019-04-02 09:34:00</th>\n",
       "      <td>296.57</td>\n",
       "      <td>0.097880</td>\n",
       "    </tr>\n",
       "    <tr>\n",
       "      <th>2019-04-02 09:35:00</th>\n",
       "      <td>297.90</td>\n",
       "      <td>0.448461</td>\n",
       "    </tr>\n",
       "  </tbody>\n",
       "</table>\n",
       "</div>"
      ],
      "text/plain": [
       "                     marketClose   returns\n",
       "DateTime                                  \n",
       "2019-04-02 09:31:00       292.97 -2.343333\n",
       "2019-04-02 09:32:00       295.12  0.733864\n",
       "2019-04-02 09:33:00       296.28  0.393060\n",
       "2019-04-02 09:34:00       296.57  0.097880\n",
       "2019-04-02 09:35:00       297.90  0.448461"
      ]
     },
     "execution_count": 41,
     "metadata": {},
     "output_type": "execute_result"
    }
   ],
   "source": [
    "df3.head()"
   ]
  },
  {
   "cell_type": "code",
   "execution_count": 42,
   "metadata": {},
   "outputs": [
    {
     "name": "stderr",
     "output_type": "stream",
     "text": [
      "C:\\Users\\TAN\\Anaconda3\\lib\\site-packages\\statsmodels\\tsa\\base\\tsa_model.py:219: ValueWarning: A date index has been provided, but it has no associated frequency information and so will be ignored when e.g. forecasting.\n",
      "  ' ignored when e.g. forecasting.', ValueWarning)\n",
      "C:\\Users\\TAN\\Anaconda3\\lib\\site-packages\\statsmodels\\tsa\\base\\tsa_model.py:219: ValueWarning: A date index has been provided, but it has no associated frequency information and so will be ignored when e.g. forecasting.\n",
      "  ' ignored when e.g. forecasting.', ValueWarning)\n"
     ]
    },
    {
     "data": {
      "text/html": [
       "<table class=\"simpletable\">\n",
       "<caption>ARIMA Model Results</caption>\n",
       "<tr>\n",
       "  <th>Dep. Variable:</th>   <td>D.marketClose</td>  <th>  No. Observations:  </th>    <td>96325</td>   \n",
       "</tr>\n",
       "<tr>\n",
       "  <th>Model:</th>          <td>ARIMA(1, 1, 1)</td>  <th>  Log Likelihood     </th> <td>-280399.550</td>\n",
       "</tr>\n",
       "<tr>\n",
       "  <th>Method:</th>             <td>css-mle</td>     <th>  S.D. of innovations</th>    <td>4.446</td>   \n",
       "</tr>\n",
       "<tr>\n",
       "  <th>Date:</th>          <td>Mon, 25 May 2020</td> <th>  AIC                </th> <td>560807.100</td> \n",
       "</tr>\n",
       "<tr>\n",
       "  <th>Time:</th>              <td>12:51:52</td>     <th>  BIC                </th> <td>560845.002</td> \n",
       "</tr>\n",
       "<tr>\n",
       "  <th>Sample:</th>                <td>1</td>        <th>  HQIC               </th> <td>560818.621</td> \n",
       "</tr>\n",
       "<tr>\n",
       "  <th></th>                       <td> </td>        <th>                     </th>      <td> </td>     \n",
       "</tr>\n",
       "</table>\n",
       "<table class=\"simpletable\">\n",
       "<tr>\n",
       "           <td></td>              <th>coef</th>     <th>std err</th>      <th>z</th>      <th>P>|z|</th>  <th>[0.025</th>    <th>0.975]</th>  \n",
       "</tr>\n",
       "<tr>\n",
       "  <th>const</th>               <td>-7.667e-05</td> <td>    0.001</td> <td>   -0.103</td> <td> 0.918</td> <td>   -0.002</td> <td>    0.001</td>\n",
       "</tr>\n",
       "<tr>\n",
       "  <th>ar.L1.D.marketClose</th> <td>    0.0030</td> <td>    0.003</td> <td>    0.872</td> <td> 0.383</td> <td>   -0.004</td> <td>    0.010</td>\n",
       "</tr>\n",
       "<tr>\n",
       "  <th>ma.L1.D.marketClose</th> <td>   -0.9482</td> <td>    0.001</td> <td> -828.541</td> <td> 0.000</td> <td>   -0.950</td> <td>   -0.946</td>\n",
       "</tr>\n",
       "</table>\n",
       "<table class=\"simpletable\">\n",
       "<caption>Roots</caption>\n",
       "<tr>\n",
       "    <td></td>   <th>            Real</th>  <th>         Imaginary</th> <th>         Modulus</th>  <th>        Frequency</th>\n",
       "</tr>\n",
       "<tr>\n",
       "  <th>AR.1</th> <td>         335.1623</td> <td>          +0.0000j</td> <td>         335.1623</td> <td>           0.0000</td>\n",
       "</tr>\n",
       "<tr>\n",
       "  <th>MA.1</th> <td>           1.0546</td> <td>          +0.0000j</td> <td>           1.0546</td> <td>           0.0000</td>\n",
       "</tr>\n",
       "</table>"
      ],
      "text/plain": [
       "<class 'statsmodels.iolib.summary.Summary'>\n",
       "\"\"\"\n",
       "                             ARIMA Model Results                              \n",
       "==============================================================================\n",
       "Dep. Variable:          D.marketClose   No. Observations:                96325\n",
       "Model:                 ARIMA(1, 1, 1)   Log Likelihood             -280399.550\n",
       "Method:                       css-mle   S.D. of innovations              4.446\n",
       "Date:                Mon, 25 May 2020   AIC                         560807.100\n",
       "Time:                        12:51:52   BIC                         560845.002\n",
       "Sample:                             1   HQIC                        560818.621\n",
       "                                                                              \n",
       "=======================================================================================\n",
       "                          coef    std err          z      P>|z|      [0.025      0.975]\n",
       "---------------------------------------------------------------------------------------\n",
       "const               -7.667e-05      0.001     -0.103      0.918      -0.002       0.001\n",
       "ar.L1.D.marketClose     0.0030      0.003      0.872      0.383      -0.004       0.010\n",
       "ma.L1.D.marketClose    -0.9482      0.001   -828.541      0.000      -0.950      -0.946\n",
       "                                    Roots                                    \n",
       "=============================================================================\n",
       "                  Real          Imaginary           Modulus         Frequency\n",
       "-----------------------------------------------------------------------------\n",
       "AR.1          335.1623           +0.0000j          335.1623            0.0000\n",
       "MA.1            1.0546           +0.0000j            1.0546            0.0000\n",
       "-----------------------------------------------------------------------------\n",
       "\"\"\""
      ]
     },
     "execution_count": 42,
     "metadata": {},
     "output_type": "execute_result"
    }
   ],
   "source": [
    "model_ar_1_i_1_ma_1 = ARIMA(df3.marketClose,order=(1,1,1))\n",
    "result_ar_1_i_1_ma_1 = model_ar_1_i_1_ma_1.fit()\n",
    "result_ar_1_i_1_ma_1.summary()"
   ]
  },
  {
   "cell_type": "code",
   "execution_count": null,
   "metadata": {},
   "outputs": [],
   "source": [
    "# MA1 is significant but AR1 is not significant , may be higher lag models are better\n",
    "# If you see returns for ARMA (1,1) it is similar to what we see now in ARIMA(1,1,1) , it is because ARIMA is tranforming the \n",
    "# prices into stationary form by taking differences instead of calculating returns\n"
   ]
  },
  {
   "cell_type": "markdown",
   "metadata": {},
   "source": [
    "### ARIMA (1,1,1) Residuals"
   ]
  },
  {
   "cell_type": "code",
   "execution_count": 43,
   "metadata": {},
   "outputs": [
    {
     "name": "stderr",
     "output_type": "stream",
     "text": [
      "C:\\Users\\TAN\\Anaconda3\\lib\\site-packages\\ipykernel_launcher.py:1: SettingWithCopyWarning: \n",
      "A value is trying to be set on a copy of a slice from a DataFrame.\n",
      "Try using .loc[row_indexer,col_indexer] = value instead\n",
      "\n",
      "See the caveats in the documentation: http://pandas.pydata.org/pandas-docs/stable/user_guide/indexing.html#returning-a-view-versus-a-copy\n",
      "  \"\"\"Entry point for launching an IPython kernel.\n"
     ]
    },
    {
     "data": {
      "text/plain": [
       "Text(0.5, 1.0, 'ACF for residuals for ARIMA(1,1,1)')"
      ]
     },
     "execution_count": 43,
     "metadata": {},
     "output_type": "execute_result"
    },
    {
     "data": {
      "image/png": "[encoded data removed]",
      "text/plain": [
       "<Figure size 432x288 with 1 Axes>"
      ]
     },
     "metadata": {
      "needs_background": "light"
     },
     "output_type": "display_data"
    }
   ],
   "source": [
    "df3['res_ar_1_i_1_ma_1'] = result_ar_1_i_1_ma_1.resid\n",
    "sgt.plot_acf(df3['res_ar_1_i_1_ma_1'],zero=False, lags=40)\n",
    "plt.title(\"ACF for residuals for ARIMA(1,1,1)\",size=20)"
   ]
  },
  {
   "cell_type": "code",
   "execution_count": 45,
   "metadata": {},
   "outputs": [],
   "source": [
    "# The ACF failed to compute due to the missing first element\n",
    "# Remove the first row of the dataframe"
   ]
  },
  {
   "cell_type": "code",
   "execution_count": 46,
   "metadata": {},
   "outputs": [],
   "source": [
    "#df3 = df3.iloc[1:]"
   ]
  },
  {
   "cell_type": "code",
   "execution_count": 50,
   "metadata": {},
   "outputs": [
    {
     "name": "stderr",
     "output_type": "stream",
     "text": [
      "C:\\Users\\TAN\\Anaconda3\\lib\\site-packages\\ipykernel_launcher.py:1: SettingWithCopyWarning: \n",
      "A value is trying to be set on a copy of a slice from a DataFrame.\n",
      "Try using .loc[row_indexer,col_indexer] = value instead\n",
      "\n",
      "See the caveats in the documentation: http://pandas.pydata.org/pandas-docs/stable/user_guide/indexing.html#returning-a-view-versus-a-copy\n",
      "  \"\"\"Entry point for launching an IPython kernel.\n"
     ]
    },
    {
     "data": {
      "text/plain": [
       "Text(0.5, 1.0, 'ACF for residuals for ARIMA(1,1,1)')"
      ]
     },
     "execution_count": 50,
     "metadata": {},
     "output_type": "execute_result"
    },
    {
     "data": {
      "image/png": "[encoded data removed]",
      "text/plain": [
       "<Figure size 432x288 with 1 Axes>"
      ]
     },
     "metadata": {
      "needs_background": "light"
     },
     "output_type": "display_data"
    }
   ],
   "source": [
    "df3['res_ar_1_i_1_ma_1'] = result_ar_1_i_1_ma_1.resid\n",
    "sgt.plot_acf(df3['res_ar_1_i_1_ma_1'][1:],zero=False, lags=40)\n",
    "plt.title(\"ACF for residuals for ARIMA(1,1,1)\",size=20)"
   ]
  },
  {
   "cell_type": "code",
   "execution_count": 51,
   "metadata": {},
   "outputs": [],
   "source": [
    "# Including 4th lag in our model will improve our performance"
   ]
  },
  {
   "cell_type": "code",
   "execution_count": 52,
   "metadata": {},
   "outputs": [],
   "source": [
    "# Higher lag models"
   ]
  },
  {
   "cell_type": "code",
   "execution_count": null,
   "metadata": {},
   "outputs": [],
   "source": [
    "# ARIMA(3,4)"
   ]
  },
  {
   "cell_type": "code",
   "execution_count": 53,
   "metadata": {},
   "outputs": [
    {
     "name": "stderr",
     "output_type": "stream",
     "text": [
      "C:\\Users\\TAN\\Anaconda3\\lib\\site-packages\\statsmodels\\tsa\\base\\tsa_model.py:219: ValueWarning: A date index has been provided, but it has no associated frequency information and so will be ignored when e.g. forecasting.\n",
      "  ' ignored when e.g. forecasting.', ValueWarning)\n",
      "C:\\Users\\TAN\\Anaconda3\\lib\\site-packages\\statsmodels\\tsa\\base\\tsa_model.py:219: ValueWarning: A date index has been provided, but it has no associated frequency information and so will be ignored when e.g. forecasting.\n",
      "  ' ignored when e.g. forecasting.', ValueWarning)\n"
     ]
    },
    {
     "data": {
      "text/html": [
       "<table class=\"simpletable\">\n",
       "<caption>ARIMA Model Results</caption>\n",
       "<tr>\n",
       "  <th>Dep. Variable:</th>   <td>D.marketClose</td>  <th>  No. Observations:  </th>    <td>96325</td>   \n",
       "</tr>\n",
       "<tr>\n",
       "  <th>Model:</th>          <td>ARIMA(3, 1, 4)</td>  <th>  Log Likelihood     </th> <td>-280395.765</td>\n",
       "</tr>\n",
       "<tr>\n",
       "  <th>Method:</th>             <td>css-mle</td>     <th>  S.D. of innovations</th>    <td>4.446</td>   \n",
       "</tr>\n",
       "<tr>\n",
       "  <th>Date:</th>          <td>Mon, 25 May 2020</td> <th>  AIC                </th> <td>560809.530</td> \n",
       "</tr>\n",
       "<tr>\n",
       "  <th>Time:</th>              <td>13:21:17</td>     <th>  BIC                </th> <td>560894.810</td> \n",
       "</tr>\n",
       "<tr>\n",
       "  <th>Sample:</th>                <td>1</td>        <th>  HQIC               </th> <td>560835.454</td> \n",
       "</tr>\n",
       "<tr>\n",
       "  <th></th>                       <td> </td>        <th>                     </th>      <td> </td>     \n",
       "</tr>\n",
       "</table>\n",
       "<table class=\"simpletable\">\n",
       "<tr>\n",
       "           <td></td>              <th>coef</th>     <th>std err</th>      <th>z</th>      <th>P>|z|</th>  <th>[0.025</th>    <th>0.975]</th>  \n",
       "</tr>\n",
       "<tr>\n",
       "  <th>const</th>               <td>-7.253e-05</td> <td>    0.001</td> <td>   -0.097</td> <td> 0.923</td> <td>   -0.002</td> <td>    0.001</td>\n",
       "</tr>\n",
       "<tr>\n",
       "  <th>ar.L1.D.marketClose</th> <td>   -2.0976</td> <td>    0.070</td> <td>  -29.955</td> <td> 0.000</td> <td>   -2.235</td> <td>   -1.960</td>\n",
       "</tr>\n",
       "<tr>\n",
       "  <th>ar.L2.D.marketClose</th> <td>   -2.0818</td> <td>    0.080</td> <td>  -25.918</td> <td> 0.000</td> <td>   -2.239</td> <td>   -1.924</td>\n",
       "</tr>\n",
       "<tr>\n",
       "  <th>ar.L3.D.marketClose</th> <td>   -0.9471</td> <td>    0.069</td> <td>  -13.691</td> <td> 0.000</td> <td>   -1.083</td> <td>   -0.811</td>\n",
       "</tr>\n",
       "<tr>\n",
       "  <th>ma.L1.D.marketClose</th> <td>    1.1496</td> <td>    0.071</td> <td>   16.240</td> <td> 0.000</td> <td>    1.011</td> <td>    1.288</td>\n",
       "</tr>\n",
       "<tr>\n",
       "  <th>ma.L2.D.marketClose</th> <td>    0.0943</td> <td>    0.015</td> <td>    6.112</td> <td> 0.000</td> <td>    0.064</td> <td>    0.124</td>\n",
       "</tr>\n",
       "<tr>\n",
       "  <th>ma.L3.D.marketClose</th> <td>   -1.0272</td> <td>    0.009</td> <td> -115.637</td> <td> 0.000</td> <td>   -1.045</td> <td>   -1.010</td>\n",
       "</tr>\n",
       "<tr>\n",
       "  <th>ma.L4.D.marketClose</th> <td>   -0.8975</td> <td>    0.066</td> <td>  -13.505</td> <td> 0.000</td> <td>   -1.028</td> <td>   -0.767</td>\n",
       "</tr>\n",
       "</table>\n",
       "<table class=\"simpletable\">\n",
       "<caption>Roots</caption>\n",
       "<tr>\n",
       "    <td></td>   <th>            Real</th>  <th>         Imaginary</th> <th>         Modulus</th>  <th>        Frequency</th>\n",
       "</tr>\n",
       "<tr>\n",
       "  <th>AR.1</th> <td>          -1.0458</td> <td>          -0.0000j</td> <td>           1.0458</td> <td>          -0.5000</td>\n",
       "</tr>\n",
       "<tr>\n",
       "  <th>AR.2</th> <td>          -0.5762</td> <td>          -0.8232j</td> <td>           1.0048</td> <td>          -0.3472</td>\n",
       "</tr>\n",
       "<tr>\n",
       "  <th>AR.3</th> <td>          -0.5762</td> <td>          +0.8232j</td> <td>           1.0048</td> <td>           0.3472</td>\n",
       "</tr>\n",
       "<tr>\n",
       "  <th>MA.1</th> <td>           1.0550</td> <td>          -0.0000j</td> <td>           1.0550</td> <td>          -0.0000</td>\n",
       "</tr>\n",
       "<tr>\n",
       "  <th>MA.2</th> <td>          -0.5762</td> <td>          -0.8226j</td> <td>           1.0043</td> <td>          -0.3472</td>\n",
       "</tr>\n",
       "<tr>\n",
       "  <th>MA.3</th> <td>          -0.5762</td> <td>          +0.8226j</td> <td>           1.0043</td> <td>           0.3472</td>\n",
       "</tr>\n",
       "<tr>\n",
       "  <th>MA.4</th> <td>          -1.0470</td> <td>          -0.0000j</td> <td>           1.0470</td> <td>          -0.5000</td>\n",
       "</tr>\n",
       "</table>"
      ],
      "text/plain": [
       "<class 'statsmodels.iolib.summary.Summary'>\n",
       "\"\"\"\n",
       "                             ARIMA Model Results                              \n",
       "==============================================================================\n",
       "Dep. Variable:          D.marketClose   No. Observations:                96325\n",
       "Model:                 ARIMA(3, 1, 4)   Log Likelihood             -280395.765\n",
       "Method:                       css-mle   S.D. of innovations              4.446\n",
       "Date:                Mon, 25 May 2020   AIC                         560809.530\n",
       "Time:                        13:21:17   BIC                         560894.810\n",
       "Sample:                             1   HQIC                        560835.454\n",
       "                                                                              \n",
       "=======================================================================================\n",
       "                          coef    std err          z      P>|z|      [0.025      0.975]\n",
       "---------------------------------------------------------------------------------------\n",
       "const               -7.253e-05      0.001     -0.097      0.923      -0.002       0.001\n",
       "ar.L1.D.marketClose    -2.0976      0.070    -29.955      0.000      -2.235      -1.960\n",
       "ar.L2.D.marketClose    -2.0818      0.080    -25.918      0.000      -2.239      -1.924\n",
       "ar.L3.D.marketClose    -0.9471      0.069    -13.691      0.000      -1.083      -0.811\n",
       "ma.L1.D.marketClose     1.1496      0.071     16.240      0.000       1.011       1.288\n",
       "ma.L2.D.marketClose     0.0943      0.015      6.112      0.000       0.064       0.124\n",
       "ma.L3.D.marketClose    -1.0272      0.009   -115.637      0.000      -1.045      -1.010\n",
       "ma.L4.D.marketClose    -0.8975      0.066    -13.505      0.000      -1.028      -0.767\n",
       "                                    Roots                                    \n",
       "=============================================================================\n",
       "                  Real          Imaginary           Modulus         Frequency\n",
       "-----------------------------------------------------------------------------\n",
       "AR.1           -1.0458           -0.0000j            1.0458           -0.5000\n",
       "AR.2           -0.5762           -0.8232j            1.0048           -0.3472\n",
       "AR.3           -0.5762           +0.8232j            1.0048            0.3472\n",
       "MA.1            1.0550           -0.0000j            1.0550           -0.0000\n",
       "MA.2           -0.5762           -0.8226j            1.0043           -0.3472\n",
       "MA.3           -0.5762           +0.8226j            1.0043            0.3472\n",
       "MA.4           -1.0470           -0.0000j            1.0470           -0.5000\n",
       "-----------------------------------------------------------------------------\n",
       "\"\"\""
      ]
     },
     "execution_count": 53,
     "metadata": {},
     "output_type": "execute_result"
    }
   ],
   "source": [
    "model_ar_3_i_1_ma_4 = ARIMA(df3.marketClose,order=(3,1,4))\n",
    "result_ar_3_i_1_ma_4 = model_ar_3_i_1_ma_4.fit()\n",
    "result_ar_3_i_1_ma_4.summary()"
   ]
  },
  {
   "cell_type": "code",
   "execution_count": 56,
   "metadata": {},
   "outputs": [
    {
     "name": "stderr",
     "output_type": "stream",
     "text": [
      "C:\\Users\\TAN\\Anaconda3\\lib\\site-packages\\ipykernel_launcher.py:1: SettingWithCopyWarning: \n",
      "A value is trying to be set on a copy of a slice from a DataFrame.\n",
      "Try using .loc[row_indexer,col_indexer] = value instead\n",
      "\n",
      "See the caveats in the documentation: http://pandas.pydata.org/pandas-docs/stable/user_guide/indexing.html#returning-a-view-versus-a-copy\n",
      "  \"\"\"Entry point for launching an IPython kernel.\n"
     ]
    },
    {
     "data": {
      "text/plain": [
       "Text(0.5, 1.0, 'ACF for residuals for ARIMA(3,1,4)')"
      ]
     },
     "execution_count": 56,
     "metadata": {},
     "output_type": "execute_result"
    },
    {
     "data": {
      "image/png": "[encoded data removed]",
      "text/plain": [
       "<Figure size 432x288 with 1 Axes>"
      ]
     },
     "metadata": {
      "needs_background": "light"
     },
     "output_type": "display_data"
    }
   ],
   "source": [
    "df3['res_ar_3_i_1_ma_4'] = result_ar_3_i_1_ma_4.resid\n",
    "sgt.plot_acf(df3['res_ar_3_i_1_ma_4'][1:],zero=False, lags=40)\n",
    "plt.title(\"ACF for residuals for ARIMA(3,1,4)\",size=20)"
   ]
  },
  {
   "cell_type": "code",
   "execution_count": 61,
   "metadata": {},
   "outputs": [
    {
     "data": {
      "text/plain": [
       "0.023"
      ]
     },
     "execution_count": 61,
     "metadata": {},
     "output_type": "execute_result"
    }
   ],
   "source": [
    "# Higher model ARIMA(3,1,4) is highly significant so we check for LLR test to compare two models\n",
    "LLR(result_ar_1_i_1_ma_1,result_ar_3_i_1_ma_4,DF=2)"
   ]
  },
  {
   "cell_type": "code",
   "execution_count": 62,
   "metadata": {},
   "outputs": [],
   "source": [
    "# at 5% level, ARIMA (3,1,4) has high significance than ARIMA model (1,1,1)"
   ]
  },
  {
   "cell_type": "markdown",
   "metadata": {},
   "source": [
    "### ARIMA (4,1,4)"
   ]
  },
  {
   "cell_type": "code",
   "execution_count": 63,
   "metadata": {},
   "outputs": [
    {
     "name": "stderr",
     "output_type": "stream",
     "text": [
      "C:\\Users\\TAN\\Anaconda3\\lib\\site-packages\\statsmodels\\tsa\\base\\tsa_model.py:219: ValueWarning: A date index has been provided, but it has no associated frequency information and so will be ignored when e.g. forecasting.\n",
      "  ' ignored when e.g. forecasting.', ValueWarning)\n",
      "C:\\Users\\TAN\\Anaconda3\\lib\\site-packages\\statsmodels\\tsa\\base\\tsa_model.py:219: ValueWarning: A date index has been provided, but it has no associated frequency information and so will be ignored when e.g. forecasting.\n",
      "  ' ignored when e.g. forecasting.', ValueWarning)\n"
     ]
    },
    {
     "data": {
      "text/html": [
       "<table class=\"simpletable\">\n",
       "<caption>ARIMA Model Results</caption>\n",
       "<tr>\n",
       "  <th>Dep. Variable:</th>   <td>D.marketClose</td>  <th>  No. Observations:  </th>    <td>96325</td>   \n",
       "</tr>\n",
       "<tr>\n",
       "  <th>Model:</th>          <td>ARIMA(4, 1, 4)</td>  <th>  Log Likelihood     </th> <td>-280383.027</td>\n",
       "</tr>\n",
       "<tr>\n",
       "  <th>Method:</th>             <td>css-mle</td>     <th>  S.D. of innovations</th>    <td>4.445</td>   \n",
       "</tr>\n",
       "<tr>\n",
       "  <th>Date:</th>          <td>Mon, 25 May 2020</td> <th>  AIC                </th> <td>560786.054</td> \n",
       "</tr>\n",
       "<tr>\n",
       "  <th>Time:</th>              <td>13:36:08</td>     <th>  BIC                </th> <td>560880.809</td> \n",
       "</tr>\n",
       "<tr>\n",
       "  <th>Sample:</th>                <td>1</td>        <th>  HQIC               </th> <td>560814.858</td> \n",
       "</tr>\n",
       "<tr>\n",
       "  <th></th>                       <td> </td>        <th>                     </th>      <td> </td>     \n",
       "</tr>\n",
       "</table>\n",
       "<table class=\"simpletable\">\n",
       "<tr>\n",
       "           <td></td>              <th>coef</th>     <th>std err</th>      <th>z</th>      <th>P>|z|</th>  <th>[0.025</th>    <th>0.975]</th>  \n",
       "</tr>\n",
       "<tr>\n",
       "  <th>const</th>               <td>-7.776e-05</td> <td>    0.001</td> <td>   -0.116</td> <td> 0.908</td> <td>   -0.001</td> <td>    0.001</td>\n",
       "</tr>\n",
       "<tr>\n",
       "  <th>ar.L1.D.marketClose</th> <td>   -0.2077</td> <td>    0.024</td> <td>   -8.682</td> <td> 0.000</td> <td>   -0.255</td> <td>   -0.161</td>\n",
       "</tr>\n",
       "<tr>\n",
       "  <th>ar.L2.D.marketClose</th> <td>    0.0795</td> <td>    0.026</td> <td>    3.017</td> <td> 0.003</td> <td>    0.028</td> <td>    0.131</td>\n",
       "</tr>\n",
       "<tr>\n",
       "  <th>ar.L3.D.marketClose</th> <td>    0.9283</td> <td>    0.023</td> <td>   40.101</td> <td> 0.000</td> <td>    0.883</td> <td>    0.974</td>\n",
       "</tr>\n",
       "<tr>\n",
       "  <th>ar.L4.D.marketClose</th> <td>    0.0044</td> <td>    0.004</td> <td>    1.208</td> <td> 0.227</td> <td>   -0.003</td> <td>    0.011</td>\n",
       "</tr>\n",
       "<tr>\n",
       "  <th>ma.L1.D.marketClose</th> <td>   -0.7377</td> <td>    0.024</td> <td>  -31.107</td> <td> 0.000</td> <td>   -0.784</td> <td>   -0.691</td>\n",
       "</tr>\n",
       "<tr>\n",
       "  <th>ma.L2.D.marketClose</th> <td>   -0.2736</td> <td>    0.011</td> <td>  -23.844</td> <td> 0.000</td> <td>   -0.296</td> <td>   -0.251</td>\n",
       "</tr>\n",
       "<tr>\n",
       "  <th>ma.L3.D.marketClose</th> <td>   -0.8537</td> <td>    0.014</td> <td>  -60.078</td> <td> 0.000</td> <td>   -0.882</td> <td>   -0.826</td>\n",
       "</tr>\n",
       "<tr>\n",
       "  <th>ma.L4.D.marketClose</th> <td>    0.8742</td> <td>    0.023</td> <td>   37.806</td> <td> 0.000</td> <td>    0.829</td> <td>    0.920</td>\n",
       "</tr>\n",
       "</table>\n",
       "<table class=\"simpletable\">\n",
       "<caption>Roots</caption>\n",
       "<tr>\n",
       "    <td></td>   <th>            Real</th>  <th>         Imaginary</th> <th>         Modulus</th>  <th>        Frequency</th>\n",
       "</tr>\n",
       "<tr>\n",
       "  <th>AR.1</th> <td>          -0.5765</td> <td>          -0.8236j</td> <td>           1.0053</td> <td>          -0.3472</td>\n",
       "</tr>\n",
       "<tr>\n",
       "  <th>AR.2</th> <td>          -0.5765</td> <td>          +0.8236j</td> <td>           1.0053</td> <td>           0.3472</td>\n",
       "</tr>\n",
       "<tr>\n",
       "  <th>AR.3</th> <td>           1.0663</td> <td>          -0.0000j</td> <td>           1.0663</td> <td>          -0.0000</td>\n",
       "</tr>\n",
       "<tr>\n",
       "  <th>AR.4</th> <td>        -212.1086</td> <td>          -0.0000j</td> <td>         212.1086</td> <td>          -0.5000</td>\n",
       "</tr>\n",
       "<tr>\n",
       "  <th>MA.1</th> <td>          -0.5765</td> <td>          -0.8230j</td> <td>           1.0048</td> <td>          -0.3473</td>\n",
       "</tr>\n",
       "<tr>\n",
       "  <th>MA.2</th> <td>          -0.5765</td> <td>          +0.8230j</td> <td>           1.0048</td> <td>           0.3473</td>\n",
       "</tr>\n",
       "<tr>\n",
       "  <th>MA.3</th> <td>           1.0351</td> <td>          -0.0000j</td> <td>           1.0351</td> <td>          -0.0000</td>\n",
       "</tr>\n",
       "<tr>\n",
       "  <th>MA.4</th> <td>           1.0945</td> <td>          -0.0000j</td> <td>           1.0945</td> <td>          -0.0000</td>\n",
       "</tr>\n",
       "</table>"
      ],
      "text/plain": [
       "<class 'statsmodels.iolib.summary.Summary'>\n",
       "\"\"\"\n",
       "                             ARIMA Model Results                              \n",
       "==============================================================================\n",
       "Dep. Variable:          D.marketClose   No. Observations:                96325\n",
       "Model:                 ARIMA(4, 1, 4)   Log Likelihood             -280383.027\n",
       "Method:                       css-mle   S.D. of innovations              4.445\n",
       "Date:                Mon, 25 May 2020   AIC                         560786.054\n",
       "Time:                        13:36:08   BIC                         560880.809\n",
       "Sample:                             1   HQIC                        560814.858\n",
       "                                                                              \n",
       "=======================================================================================\n",
       "                          coef    std err          z      P>|z|      [0.025      0.975]\n",
       "---------------------------------------------------------------------------------------\n",
       "const               -7.776e-05      0.001     -0.116      0.908      -0.001       0.001\n",
       "ar.L1.D.marketClose    -0.2077      0.024     -8.682      0.000      -0.255      -0.161\n",
       "ar.L2.D.marketClose     0.0795      0.026      3.017      0.003       0.028       0.131\n",
       "ar.L3.D.marketClose     0.9283      0.023     40.101      0.000       0.883       0.974\n",
       "ar.L4.D.marketClose     0.0044      0.004      1.208      0.227      -0.003       0.011\n",
       "ma.L1.D.marketClose    -0.7377      0.024    -31.107      0.000      -0.784      -0.691\n",
       "ma.L2.D.marketClose    -0.2736      0.011    -23.844      0.000      -0.296      -0.251\n",
       "ma.L3.D.marketClose    -0.8537      0.014    -60.078      0.000      -0.882      -0.826\n",
       "ma.L4.D.marketClose     0.8742      0.023     37.806      0.000       0.829       0.920\n",
       "                                    Roots                                    \n",
       "=============================================================================\n",
       "                  Real          Imaginary           Modulus         Frequency\n",
       "-----------------------------------------------------------------------------\n",
       "AR.1           -0.5765           -0.8236j            1.0053           -0.3472\n",
       "AR.2           -0.5765           +0.8236j            1.0053            0.3472\n",
       "AR.3            1.0663           -0.0000j            1.0663           -0.0000\n",
       "AR.4         -212.1086           -0.0000j          212.1086           -0.5000\n",
       "MA.1           -0.5765           -0.8230j            1.0048           -0.3473\n",
       "MA.2           -0.5765           +0.8230j            1.0048            0.3473\n",
       "MA.3            1.0351           -0.0000j            1.0351           -0.0000\n",
       "MA.4            1.0945           -0.0000j            1.0945           -0.0000\n",
       "-----------------------------------------------------------------------------\n",
       "\"\"\""
      ]
     },
     "execution_count": 63,
     "metadata": {},
     "output_type": "execute_result"
    }
   ],
   "source": [
    "# Checking for higher lag model\n",
    "model_ar_4_i_1_ma_4 = ARIMA(df3.marketClose,order=(4,1,4))\n",
    "result_ar_4_i_1_ma_4 = model_ar_4_i_1_ma_4.fit()\n",
    "result_ar_4_i_1_ma_4.summary()"
   ]
  },
  {
   "cell_type": "code",
   "execution_count": 64,
   "metadata": {},
   "outputs": [
    {
     "name": "stderr",
     "output_type": "stream",
     "text": [
      "C:\\Users\\TAN\\Anaconda3\\lib\\site-packages\\ipykernel_launcher.py:1: SettingWithCopyWarning: \n",
      "A value is trying to be set on a copy of a slice from a DataFrame.\n",
      "Try using .loc[row_indexer,col_indexer] = value instead\n",
      "\n",
      "See the caveats in the documentation: http://pandas.pydata.org/pandas-docs/stable/user_guide/indexing.html#returning-a-view-versus-a-copy\n",
      "  \"\"\"Entry point for launching an IPython kernel.\n"
     ]
    },
    {
     "data": {
      "text/plain": [
       "Text(0.5, 1.0, 'ACF for residuals for ARIMA(4,1,4)')"
      ]
     },
     "execution_count": 64,
     "metadata": {},
     "output_type": "execute_result"
    },
    {
     "data": {
      "image/png": "[encoded data removed]",
      "text/plain": [
       "<Figure size 432x288 with 1 Axes>"
      ]
     },
     "metadata": {
      "needs_background": "light"
     },
     "output_type": "display_data"
    }
   ],
   "source": [
    "df3['res_ar_4_i_1_ma_4'] = result_ar_4_i_1_ma_4.resid\n",
    "sgt.plot_acf(df3['res_ar_4_i_1_ma_4'][1:],zero=False, lags=40)\n",
    "plt.title(\"ACF for residuals for ARIMA(4,1,4)\",size=20)"
   ]
  },
  {
   "cell_type": "code",
   "execution_count": 65,
   "metadata": {},
   "outputs": [
    {
     "data": {
      "text/plain": [
       "0.0"
      ]
     },
     "execution_count": 65,
     "metadata": {},
     "output_type": "execute_result"
    }
   ],
   "source": [
    "LLR(result_ar_3_i_1_ma_4,result_ar_4_i_1_ma_4,DF=1)"
   ]
  },
  {
   "cell_type": "code",
   "execution_count": 66,
   "metadata": {},
   "outputs": [],
   "source": [
    "# Reasons why ARIMA(4,1,4) is better than ARIMA(3,1,4)\n",
    "# 1. Higher Log likelihood\n",
    "# 2. Lower AIC, BIC\n",
    "# 3. ACF - all lags in sigificance level\n",
    "# 4. LLR - ARIMA(4,1,4) vs ARIMA (3,1,4) - 0.0"
   ]
  },
  {
   "cell_type": "code",
   "execution_count": null,
   "metadata": {},
   "outputs": [],
   "source": []
  }
 ],
 "metadata": {
  "kernelspec": {
   "display_name": "Python 3",
   "language": "python",
   "name": "python3"
  },
  "language_info": {
   "codemirror_mode": {
    "name": "ipython",
    "version": 3
   },
   "file_extension": ".py",
   "mimetype": "text/x-python",
   "name": "python",
   "nbconvert_exporter": "python",
   "pygments_lexer": "ipython3",
   "version": "3.7.1"
  }
 },
 "nbformat": 4,
 "nbformat_minor": 2
}
